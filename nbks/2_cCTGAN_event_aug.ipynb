{
 "cells": [
  {
   "cell_type": "code",
   "execution_count": 1,
   "id": "a30ca38a-c791-40d8-a872-684ec77852f0",
   "metadata": {},
   "outputs": [
    {
     "name": "stderr",
     "output_type": "stream",
     "text": [
      "/home/grads/l/lipai.huang/GAN_simulated_events/se_env/lib/python3.8/site-packages/tqdm/auto.py:21: TqdmWarning: IProgress not found. Please update jupyter and ipywidgets. See https://ipywidgets.readthedocs.io/en/stable/user_install.html\n",
      "  from .autonotebook import tqdm as notebook_tqdm\n"
     ]
    }
   ],
   "source": [
    "import numpy as np\n",
    "import os, sys\n",
    "import pandas as pd\n",
    "import geopandas as gpd\n",
    "from shapely.geometry import Point\n",
    "import matplotlib.pyplot as plt\n",
    "from mpl_toolkits.axes_grid1 import make_axes_locatable\n",
    "import seaborn as sns\n",
    "from collections import Counter\n",
    "from tqdm.auto import tqdm, trange\n",
    "from sklearn.preprocessing import MinMaxScaler\n",
    "import re\n",
    "import concurrent.futures\n",
    "from sklearn.metrics import silhouette_score\n",
    "from scipy.stats import pearsonr\n",
    "import copy\n",
    "import pickle\n",
    "import torch\n",
    "import torch.nn as nn\n",
    "import torch.optim as optim\n",
    "from torch.utils.data import Dataset, DataLoader, DistributedSampler\n",
    "import torch.distributed as dist\n",
    "from torch.nn.parallel import DistributedDataParallel as DDP\n",
    "from torchvision import transforms\n",
    "from sklearn.model_selection import train_test_split\n",
    "from sklearn.preprocessing import StandardScaler\n",
    "\n",
    "from sdv.metadata import SingleTableMetadata\n",
    "from sdv.evaluation.single_table import evaluate_quality\n",
    "from sdv.single_table import CTGANSynthesizer\n",
    "from sdv.sampling import Condition\n",
    "from sdv.evaluation.single_table import get_column_plot\n",
    "\n",
    "import dask.dataframe as dpd\n",
    "import dask_geopandas as dgpd\n",
    "from dask.diagnostics import ProgressBar\n",
    "from dask.distributed import Client\n",
    "\n",
    "import warnings\n",
    "warnings.filterwarnings('ignore')\n",
    "\n",
    "import gc\n",
    "gc.collect()\n",
    "\n",
    "np.random.seed(0)"
   ]
  },
  {
   "cell_type": "code",
   "execution_count": 2,
   "id": "64dbe168",
   "metadata": {},
   "outputs": [],
   "source": [
    "client = Client(n_workers=100) #192 totally"
   ]
  },
  {
   "cell_type": "code",
   "execution_count": 2,
   "id": "5fc8a3a4",
   "metadata": {},
   "outputs": [
    {
     "name": "stdout",
     "output_type": "stream",
     "text": [
      "2.0.1+cu118 True\n"
     ]
    }
   ],
   "source": [
    "print(torch.__version__, torch.cuda.is_available())"
   ]
  },
  {
   "cell_type": "code",
   "execution_count": 3,
   "id": "10af13cd",
   "metadata": {},
   "outputs": [
    {
     "name": "stdout",
     "output_type": "stream",
     "text": [
      "CUDA is available. Detected CUDA Devices:\n",
      "CUDA Device 0: NVIDIA RTX A6000\n"
     ]
    }
   ],
   "source": [
    "if torch.cuda.is_available():\n",
    "    print(\"CUDA is available. Detected CUDA Devices:\")\n",
    "    for i in range(torch.cuda.device_count()):\n",
    "        print(f\"CUDA Device {i}: {torch.cuda.get_device_name(i)}\")\n",
    "else:\n",
    "    print(\"CUDA is not available.\")"
   ]
  },
  {
   "cell_type": "code",
   "execution_count": 4,
   "id": "fb66042a",
   "metadata": {},
   "outputs": [],
   "source": [
    "torch.cuda.set_device(0)"
   ]
  },
  {
   "cell_type": "code",
   "execution_count": null,
   "id": "296c05d2",
   "metadata": {},
   "outputs": [],
   "source": []
  },
  {
   "cell_type": "code",
   "execution_count": 5,
   "id": "f9d14c61",
   "metadata": {},
   "outputs": [
    {
     "data": {
      "text/html": [
       "<div>\n",
       "<style scoped>\n",
       "    .dataframe tbody tr th:only-of-type {\n",
       "        vertical-align: middle;\n",
       "    }\n",
       "\n",
       "    .dataframe tbody tr th {\n",
       "        vertical-align: top;\n",
       "    }\n",
       "\n",
       "    .dataframe thead th {\n",
       "        text-align: right;\n",
       "    }\n",
       "</style>\n",
       "<table border=\"1\" class=\"dataframe\">\n",
       "  <thead>\n",
       "    <tr style=\"text-align: right;\">\n",
       "      <th></th>\n",
       "      <th>x</th>\n",
       "      <th>y</th>\n",
       "      <th>ter</th>\n",
       "      <th>HUC12</th>\n",
       "      <th>region</th>\n",
       "      <th>channel</th>\n",
       "      <th>geometry</th>\n",
       "    </tr>\n",
       "  </thead>\n",
       "  <tbody>\n",
       "    <tr>\n",
       "      <th>0</th>\n",
       "      <td>2.933766e+06</td>\n",
       "      <td>1.396557e+07</td>\n",
       "      <td>301.388702</td>\n",
       "      <td>Cypress Creek</td>\n",
       "      <td>0</td>\n",
       "      <td>0</td>\n",
       "      <td>POLYGON ((2934366.000 13964974.635, 2933003.17...</td>\n",
       "    </tr>\n",
       "    <tr>\n",
       "      <th>1</th>\n",
       "      <td>2.934966e+06</td>\n",
       "      <td>1.396557e+07</td>\n",
       "      <td>301.594696</td>\n",
       "      <td>Cypress Creek</td>\n",
       "      <td>0</td>\n",
       "      <td>0</td>\n",
       "      <td>POLYGON ((2934366.000 13967369.160, 2934380.33...</td>\n",
       "    </tr>\n",
       "    <tr>\n",
       "      <th>2</th>\n",
       "      <td>2.933766e+06</td>\n",
       "      <td>1.396437e+07</td>\n",
       "      <td>294.629181</td>\n",
       "      <td>Cypress Creek</td>\n",
       "      <td>0</td>\n",
       "      <td>0</td>\n",
       "      <td>POLYGON ((2934366.000 13964974.635, 2934366.00...</td>\n",
       "    </tr>\n",
       "    <tr>\n",
       "      <th>3</th>\n",
       "      <td>2.934966e+06</td>\n",
       "      <td>1.396437e+07</td>\n",
       "      <td>298.529877</td>\n",
       "      <td>Cypress Creek</td>\n",
       "      <td>0</td>\n",
       "      <td>0</td>\n",
       "      <td>POLYGON ((2935566.000 13963774.635, 2934366.00...</td>\n",
       "    </tr>\n",
       "    <tr>\n",
       "      <th>4</th>\n",
       "      <td>2.936166e+06</td>\n",
       "      <td>1.396437e+07</td>\n",
       "      <td>294.815002</td>\n",
       "      <td>Cypress Creek</td>\n",
       "      <td>0</td>\n",
       "      <td>0</td>\n",
       "      <td>POLYGON ((2936766.000 13963774.635, 2935566.00...</td>\n",
       "    </tr>\n",
       "    <tr>\n",
       "      <th>...</th>\n",
       "      <td>...</td>\n",
       "      <td>...</td>\n",
       "      <td>...</td>\n",
       "      <td>...</td>\n",
       "      <td>...</td>\n",
       "      <td>...</td>\n",
       "      <td>...</td>\n",
       "    </tr>\n",
       "    <tr>\n",
       "      <th>26296</th>\n",
       "      <td>3.039069e+06</td>\n",
       "      <td>1.385008e+07</td>\n",
       "      <td>54.643570</td>\n",
       "      <td>Whiteoak Bayou-Buffalo Bayou</td>\n",
       "      <td>2</td>\n",
       "      <td>1</td>\n",
       "      <td>POLYGON ((3039427.707 13849492.726, 3038745.86...</td>\n",
       "    </tr>\n",
       "    <tr>\n",
       "      <th>26297</th>\n",
       "      <td>3.039053e+06</td>\n",
       "      <td>1.385088e+07</td>\n",
       "      <td>59.625050</td>\n",
       "      <td>Addicks Reservoir</td>\n",
       "      <td>3</td>\n",
       "      <td>1</td>\n",
       "      <td>POLYGON ((3039399.212 13851153.541, 3039405.50...</td>\n",
       "    </tr>\n",
       "    <tr>\n",
       "      <th>26298</th>\n",
       "      <td>3.038396e+06</td>\n",
       "      <td>1.385006e+07</td>\n",
       "      <td>60.055576</td>\n",
       "      <td>Whiteoak Bayou-Buffalo Bayou</td>\n",
       "      <td>2</td>\n",
       "      <td>0</td>\n",
       "      <td>POLYGON ((3038723.769 13850469.724, 3038724.68...</td>\n",
       "    </tr>\n",
       "    <tr>\n",
       "      <th>26299</th>\n",
       "      <td>3.038392e+06</td>\n",
       "      <td>1.385087e+07</td>\n",
       "      <td>59.625050</td>\n",
       "      <td>Addicks Reservoir</td>\n",
       "      <td>3</td>\n",
       "      <td>0</td>\n",
       "      <td>POLYGON ((3038721.900 13851266.014, 3038723.76...</td>\n",
       "    </tr>\n",
       "    <tr>\n",
       "      <th>26300</th>\n",
       "      <td>3.037707e+06</td>\n",
       "      <td>1.385085e+07</td>\n",
       "      <td>72.228638</td>\n",
       "      <td>Addicks Reservoir</td>\n",
       "      <td>3</td>\n",
       "      <td>0</td>\n",
       "      <td>POLYGON ((3037766.475 13851439.564, 3038034.75...</td>\n",
       "    </tr>\n",
       "  </tbody>\n",
       "</table>\n",
       "<p>26301 rows × 7 columns</p>\n",
       "</div>"
      ],
      "text/plain": [
       "                  x             y         ter                         HUC12  \\\n",
       "0      2.933766e+06  1.396557e+07  301.388702                 Cypress Creek   \n",
       "1      2.934966e+06  1.396557e+07  301.594696                 Cypress Creek   \n",
       "2      2.933766e+06  1.396437e+07  294.629181                 Cypress Creek   \n",
       "3      2.934966e+06  1.396437e+07  298.529877                 Cypress Creek   \n",
       "4      2.936166e+06  1.396437e+07  294.815002                 Cypress Creek   \n",
       "...             ...           ...         ...                           ...   \n",
       "26296  3.039069e+06  1.385008e+07   54.643570  Whiteoak Bayou-Buffalo Bayou   \n",
       "26297  3.039053e+06  1.385088e+07   59.625050             Addicks Reservoir   \n",
       "26298  3.038396e+06  1.385006e+07   60.055576  Whiteoak Bayou-Buffalo Bayou   \n",
       "26299  3.038392e+06  1.385087e+07   59.625050             Addicks Reservoir   \n",
       "26300  3.037707e+06  1.385085e+07   72.228638             Addicks Reservoir   \n",
       "\n",
       "       region  channel                                           geometry  \n",
       "0           0        0  POLYGON ((2934366.000 13964974.635, 2933003.17...  \n",
       "1           0        0  POLYGON ((2934366.000 13967369.160, 2934380.33...  \n",
       "2           0        0  POLYGON ((2934366.000 13964974.635, 2934366.00...  \n",
       "3           0        0  POLYGON ((2935566.000 13963774.635, 2934366.00...  \n",
       "4           0        0  POLYGON ((2936766.000 13963774.635, 2935566.00...  \n",
       "...       ...      ...                                                ...  \n",
       "26296       2        1  POLYGON ((3039427.707 13849492.726, 3038745.86...  \n",
       "26297       3        1  POLYGON ((3039399.212 13851153.541, 3039405.50...  \n",
       "26298       2        0  POLYGON ((3038723.769 13850469.724, 3038724.68...  \n",
       "26299       3        0  POLYGON ((3038721.900 13851266.014, 3038723.76...  \n",
       "26300       3        0  POLYGON ((3037766.475 13851439.564, 3038034.75...  \n",
       "\n",
       "[26301 rows x 7 columns]"
      ]
     },
     "execution_count": 5,
     "metadata": {},
     "output_type": "execute_result"
    }
   ],
   "source": [
    "coord_gdf = gpd.read_file('../src/coord/coord_gdf.shp')\n",
    "coord_gdf = coord_gdf.drop(columns=['cell_rmse1', 'cell_r21', 'cell_rmse2', 'cell_r22', 'depth'])\n",
    "coord_gdf"
   ]
  },
  {
   "cell_type": "code",
   "execution_count": 6,
   "id": "32aa3375",
   "metadata": {},
   "outputs": [
    {
     "data": {
      "text/plain": [
       "array([ 2921166.      , 13769377.      ,  3202957.156923, 13967374.634684])"
      ]
     },
     "execution_count": 6,
     "metadata": {},
     "output_type": "execute_result"
    }
   ],
   "source": [
    "total_bounds = coord_gdf.total_bounds\n",
    "total_bounds"
   ]
  },
  {
   "cell_type": "code",
   "execution_count": 7,
   "id": "3bf59ba4",
   "metadata": {},
   "outputs": [],
   "source": [
    "np.random.seed(0)\n",
    "sample_event_num = 25\n",
    "event_indices = np.random.choice(range(593), sample_event_num, replace=False)"
   ]
  },
  {
   "cell_type": "code",
   "execution_count": 8,
   "id": "eff879ec",
   "metadata": {},
   "outputs": [
    {
     "data": {
      "text/plain": [
       "array([240, 132, 571,  92, 170, 449, 573, 471, 187, 229, 181, 239, 587,\n",
       "       390, 438, 402, 590, 142, 246, 378, 394,  85, 196, 173, 367])"
      ]
     },
     "execution_count": 8,
     "metadata": {},
     "output_type": "execute_result"
    }
   ],
   "source": [
    "event_indices"
   ]
  },
  {
   "cell_type": "code",
   "execution_count": 9,
   "id": "56ddac07",
   "metadata": {},
   "outputs": [],
   "source": [
    "scaler = MinMaxScaler()\n",
    "xy_scaled = scaler.fit_transform(coord_gdf[['x', 'y']])\n",
    "\n",
    "def load_and_scale(file_path, scale=False):\n",
    "    df = pd.read_parquet(file_path)[['x', 'y', 'channel', 'ter', 'cumu_rain', 'peak_int', 'duration', 'depth']]\n",
    "    if scale:\n",
    "        df[['x', 'y']] = xy_scaled\n",
    "    return df\n",
    "file_paths = [f'../src/tables/data{i}.parquet' for i in event_indices]\n",
    "selected_events = [load_and_scale(file, scale=True) for file in file_paths]\n",
    "with ProgressBar():\n",
    "    result = dpd.concat(selected_events, axis=0)\n",
    "selected_events_df = result.compute()"
   ]
  },
  {
   "cell_type": "code",
   "execution_count": 10,
   "id": "442b9a0b",
   "metadata": {},
   "outputs": [],
   "source": [
    "selected_events_df = selected_events_df.drop(columns=['channel', 'ter', 'depth'])"
   ]
  },
  {
   "cell_type": "code",
   "execution_count": 11,
   "id": "0055ddbd",
   "metadata": {},
   "outputs": [
    {
     "data": {
      "text/html": [
       "<div>\n",
       "<style scoped>\n",
       "    .dataframe tbody tr th:only-of-type {\n",
       "        vertical-align: middle;\n",
       "    }\n",
       "\n",
       "    .dataframe tbody tr th {\n",
       "        vertical-align: top;\n",
       "    }\n",
       "\n",
       "    .dataframe thead th {\n",
       "        text-align: right;\n",
       "    }\n",
       "</style>\n",
       "<table border=\"1\" class=\"dataframe\">\n",
       "  <thead>\n",
       "    <tr style=\"text-align: right;\">\n",
       "      <th></th>\n",
       "      <th>x</th>\n",
       "      <th>y</th>\n",
       "      <th>cumu_rain</th>\n",
       "      <th>peak_int</th>\n",
       "      <th>duration</th>\n",
       "    </tr>\n",
       "  </thead>\n",
       "  <tbody>\n",
       "    <tr>\n",
       "      <th>0</th>\n",
       "      <td>0.042735</td>\n",
       "      <td>1.000000</td>\n",
       "      <td>0.330646</td>\n",
       "      <td>0.330646</td>\n",
       "      <td>2</td>\n",
       "    </tr>\n",
       "    <tr>\n",
       "      <th>1</th>\n",
       "      <td>0.047009</td>\n",
       "      <td>1.000000</td>\n",
       "      <td>0.331812</td>\n",
       "      <td>0.331812</td>\n",
       "      <td>2</td>\n",
       "    </tr>\n",
       "    <tr>\n",
       "      <th>2</th>\n",
       "      <td>0.042735</td>\n",
       "      <td>0.993865</td>\n",
       "      <td>0.321467</td>\n",
       "      <td>0.311706</td>\n",
       "      <td>2</td>\n",
       "    </tr>\n",
       "    <tr>\n",
       "      <th>3</th>\n",
       "      <td>0.047009</td>\n",
       "      <td>0.993865</td>\n",
       "      <td>0.319289</td>\n",
       "      <td>0.310321</td>\n",
       "      <td>2</td>\n",
       "    </tr>\n",
       "    <tr>\n",
       "      <th>4</th>\n",
       "      <td>0.051282</td>\n",
       "      <td>0.993865</td>\n",
       "      <td>0.317112</td>\n",
       "      <td>0.308937</td>\n",
       "      <td>2</td>\n",
       "    </tr>\n",
       "    <tr>\n",
       "      <th>...</th>\n",
       "      <td>...</td>\n",
       "      <td>...</td>\n",
       "      <td>...</td>\n",
       "      <td>...</td>\n",
       "      <td>...</td>\n",
       "    </tr>\n",
       "    <tr>\n",
       "      <th>26296</th>\n",
       "      <td>0.417746</td>\n",
       "      <td>0.409514</td>\n",
       "      <td>2.263917</td>\n",
       "      <td>0.501893</td>\n",
       "      <td>7</td>\n",
       "    </tr>\n",
       "    <tr>\n",
       "      <th>26297</th>\n",
       "      <td>0.417691</td>\n",
       "      <td>0.413603</td>\n",
       "      <td>2.267942</td>\n",
       "      <td>0.500758</td>\n",
       "      <td>7</td>\n",
       "    </tr>\n",
       "    <tr>\n",
       "      <th>26298</th>\n",
       "      <td>0.415349</td>\n",
       "      <td>0.409447</td>\n",
       "      <td>2.284075</td>\n",
       "      <td>0.508077</td>\n",
       "      <td>7</td>\n",
       "    </tr>\n",
       "    <tr>\n",
       "      <th>26299</th>\n",
       "      <td>0.415335</td>\n",
       "      <td>0.413595</td>\n",
       "      <td>2.279414</td>\n",
       "      <td>0.503002</td>\n",
       "      <td>7</td>\n",
       "    </tr>\n",
       "    <tr>\n",
       "      <th>26300</th>\n",
       "      <td>0.412896</td>\n",
       "      <td>0.413470</td>\n",
       "      <td>2.291705</td>\n",
       "      <td>0.507126</td>\n",
       "      <td>7</td>\n",
       "    </tr>\n",
       "  </tbody>\n",
       "</table>\n",
       "<p>657525 rows × 5 columns</p>\n",
       "</div>"
      ],
      "text/plain": [
       "              x         y  cumu_rain  peak_int  duration\n",
       "0      0.042735  1.000000   0.330646  0.330646         2\n",
       "1      0.047009  1.000000   0.331812  0.331812         2\n",
       "2      0.042735  0.993865   0.321467  0.311706         2\n",
       "3      0.047009  0.993865   0.319289  0.310321         2\n",
       "4      0.051282  0.993865   0.317112  0.308937         2\n",
       "...         ...       ...        ...       ...       ...\n",
       "26296  0.417746  0.409514   2.263917  0.501893         7\n",
       "26297  0.417691  0.413603   2.267942  0.500758         7\n",
       "26298  0.415349  0.409447   2.284075  0.508077         7\n",
       "26299  0.415335  0.413595   2.279414  0.503002         7\n",
       "26300  0.412896  0.413470   2.291705  0.507126         7\n",
       "\n",
       "[657525 rows x 5 columns]"
      ]
     },
     "execution_count": 11,
     "metadata": {},
     "output_type": "execute_result"
    }
   ],
   "source": [
    "selected_events_df"
   ]
  },
  {
   "cell_type": "markdown",
   "id": "32890ce2",
   "metadata": {},
   "source": [
    "# cCTGAN events augmentation"
   ]
  },
  {
   "cell_type": "code",
   "execution_count": 12,
   "id": "f2b16adf",
   "metadata": {},
   "outputs": [],
   "source": [
    "metadata = SingleTableMetadata()\n",
    "metadata.detect_from_dataframe(selected_events_df)"
   ]
  },
  {
   "cell_type": "code",
   "execution_count": 13,
   "id": "e76ff5ed",
   "metadata": {},
   "outputs": [],
   "source": [
    "lr_sets = [\n",
    "    # G, D\n",
    "    [1e-5, 1e-5],\n",
    "    [2e-5, 1e-5],\n",
    "    [1e-4, 1e-4],\n",
    "    [2e-4, 1e-4],\n",
    "    [1e-3, 1e-3],\n",
    "    [2e-3, 1e-3]\n",
    "]"
   ]
  },
  {
   "cell_type": "code",
   "execution_count": 14,
   "id": "2ec85aef",
   "metadata": {},
   "outputs": [],
   "source": [
    "x_bounds_constraints = {\n",
    "    'constraint_class': 'ScalarRange',\n",
    "    'constraint_parameters': {\n",
    "        'column_name': 'x',\n",
    "        'low_value': 0.0,\n",
    "        'high_value': 1.0,\n",
    "        'strict_boundaries': False\n",
    "    }\n",
    "}\n",
    "\n",
    "y_bounds_constraints = {\n",
    "    'constraint_class': 'ScalarRange',\n",
    "    'constraint_parameters': {\n",
    "        'column_name': 'y',\n",
    "        'low_value': 0.0,\n",
    "        'high_value': 1.0,\n",
    "        'strict_boundaries': False\n",
    "    }\n",
    "}\n",
    "\n",
    "peak_int_constraints = {\n",
    "    'constraint_class': 'PeakIntConstraintClass',\n",
    "    'constraint_parameters': {\n",
    "        'column_names': ['cumu_rain', 'peak_int', 'duration']\n",
    "    }\n",
    "}\n",
    "\n",
    "positive_constraints = [{\n",
    "    'constraint_class': 'Positive',\n",
    "    'constraint_parameters': {\n",
    "        'column_name': col,\n",
    "        'strict_boundaries': False\n",
    "    }\n",
    "} for col in ['cumu_rain', 'peak_int']]"
   ]
  },
  {
   "cell_type": "code",
   "execution_count": null,
   "id": "3e905f5d",
   "metadata": {},
   "outputs": [],
   "source": []
  },
  {
   "cell_type": "code",
   "execution_count": null,
   "id": "3847af6e",
   "metadata": {},
   "outputs": [
    {
     "name": "stderr",
     "output_type": "stream",
     "text": [
      "  0%|                                                                                                                                   | 0/6 [00:00<?, ?it/s]"
     ]
    }
   ],
   "source": [
    "for lrs in tqdm(lr_sets, total=len(lr_sets)):\n",
    "    for epoch in range(50, 301, 50):\n",
    "        try:\n",
    "            ctgan_synthesizer = CTGANSynthesizer(metadata, epochs=epoch, \n",
    "                                                cuda=True, verbose=True, enforce_rounding=False, \n",
    "                                                batch_size=500, generator_lr=lrs[0], discriminator_lr=lrs[1])\n",
    "            ctgan_synthesizer.load_custom_constraint_classes(\n",
    "                filepath = '../models/cCTGAN.py',\n",
    "                class_names = ['PeakIntConstraintClass']\n",
    "            )\n",
    "            ctgan_synthesizer.add_constraints(\n",
    "                constraints = [x_bounds_constraints, y_bounds_constraints] + positive_constraints\n",
    "                + [peak_int_constraints]\n",
    "            )\n",
    "            # train ctgan\n",
    "            ctgan_synthesizer.fit(selected_events_df)\n",
    "            ctgan_synthesizer.save(f'../checkpoints/cCTGAN/{lrs[0]}_{lrs[1]}_{epoch+1}.pkl')\n",
    "        except Exception as e:\n",
    "            print(e)"
   ]
  },
  {
   "cell_type": "code",
   "execution_count": null,
   "id": "08cf8a6f",
   "metadata": {},
   "outputs": [],
   "source": []
  },
  {
   "cell_type": "code",
   "execution_count": null,
   "id": "4e7464cf",
   "metadata": {},
   "outputs": [],
   "source": []
  }
 ],
 "metadata": {
  "kernelspec": {
   "display_name": "python38",
   "language": "python",
   "name": "python3"
  },
  "language_info": {
   "codemirror_mode": {
    "name": "ipython",
    "version": 3
   },
   "file_extension": ".py",
   "mimetype": "text/x-python",
   "name": "python",
   "nbconvert_exporter": "python",
   "pygments_lexer": "ipython3",
   "version": "3.8.12"
  }
 },
 "nbformat": 4,
 "nbformat_minor": 5
}
