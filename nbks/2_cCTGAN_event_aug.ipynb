{
 "cells": [
  {
   "cell_type": "code",
   "execution_count": 1,
   "id": "a30ca38a-c791-40d8-a872-684ec77852f0",
   "metadata": {},
   "outputs": [
    {
     "name": "stderr",
     "output_type": "stream",
     "text": [
      "/home/grads/l/lipai.huang/GAN_simulated_events/se_env/lib/python3.8/site-packages/tqdm/auto.py:21: TqdmWarning: IProgress not found. Please update jupyter and ipywidgets. See https://ipywidgets.readthedocs.io/en/stable/user_install.html\n",
      "  from .autonotebook import tqdm as notebook_tqdm\n"
     ]
    }
   ],
   "source": [
    "import numpy as np\n",
    "import os, sys\n",
    "import pandas as pd\n",
    "import geopandas as gpd\n",
    "from shapely.geometry import Point\n",
    "import matplotlib.pyplot as plt\n",
    "from mpl_toolkits.axes_grid1 import make_axes_locatable\n",
    "import seaborn as sns\n",
    "from collections import Counter\n",
    "from tqdm.auto import tqdm, trange\n",
    "from sklearn.preprocessing import MinMaxScaler\n",
    "import re\n",
    "import concurrent.futures\n",
    "from sklearn.metrics import silhouette_score\n",
    "from scipy.stats import pearsonr\n",
    "import copy\n",
    "import pickle\n",
    "import torch\n",
    "import torch.nn as nn\n",
    "import torch.optim as optim\n",
    "from torch.utils.data import Dataset, DataLoader, DistributedSampler\n",
    "import torch.distributed as dist\n",
    "from torch.nn.parallel import DistributedDataParallel as DDP\n",
    "from torchvision import transforms\n",
    "from sklearn.model_selection import train_test_split\n",
    "from sklearn.preprocessing import StandardScaler\n",
    "\n",
    "from sdv.metadata import SingleTableMetadata\n",
    "from sdv.evaluation.single_table import evaluate_quality\n",
    "from sdv.single_table import CTGANSynthesizer\n",
    "from sdv.sampling import Condition\n",
    "from sdv.evaluation.single_table import get_column_plot\n",
    "\n",
    "import dask.dataframe as dpd\n",
    "import dask_geopandas as dgpd\n",
    "from dask.diagnostics import ProgressBar\n",
    "from dask.distributed import Client\n",
    "\n",
    "import warnings\n",
    "warnings.filterwarnings('ignore')\n",
    "\n",
    "sys.path.append('../')\n",
    "from utils.logger import Logger\n",
    "\n",
    "import gc\n",
    "gc.collect()\n",
    "\n",
    "np.random.seed(0)"
   ]
  },
  {
   "cell_type": "code",
   "execution_count": 2,
   "id": "64dbe168",
   "metadata": {},
   "outputs": [],
   "source": [
    "client = Client(n_workers=100) #192 totally"
   ]
  },
  {
   "cell_type": "code",
   "execution_count": 3,
   "id": "5fc8a3a4",
   "metadata": {},
   "outputs": [
    {
     "name": "stdout",
     "output_type": "stream",
     "text": [
      "2.0.1+cu118 True\n"
     ]
    }
   ],
   "source": [
    "print(torch.__version__, torch.cuda.is_available())"
   ]
  },
  {
   "cell_type": "code",
   "execution_count": 4,
   "id": "10af13cd",
   "metadata": {},
   "outputs": [
    {
     "name": "stdout",
     "output_type": "stream",
     "text": [
      "CUDA is available. Detected CUDA Devices:\n",
      "CUDA Device 0: NVIDIA RTX A6000\n"
     ]
    }
   ],
   "source": [
    "if torch.cuda.is_available():\n",
    "    print(\"CUDA is available. Detected CUDA Devices:\")\n",
    "    for i in range(torch.cuda.device_count()):\n",
    "        print(f\"CUDA Device {i}: {torch.cuda.get_device_name(i)}\")\n",
    "else:\n",
    "    print(\"CUDA is not available.\")"
   ]
  },
  {
   "cell_type": "code",
   "execution_count": 5,
   "id": "fb66042a",
   "metadata": {},
   "outputs": [],
   "source": [
    "torch.cuda.set_device(0)"
   ]
  },
  {
   "cell_type": "code",
   "execution_count": null,
   "id": "296c05d2",
   "metadata": {},
   "outputs": [],
   "source": []
  },
  {
   "cell_type": "code",
   "execution_count": 6,
   "id": "f9d14c61",
   "metadata": {},
   "outputs": [
    {
     "data": {
      "text/html": [
       "<div>\n",
       "<style scoped>\n",
       "    .dataframe tbody tr th:only-of-type {\n",
       "        vertical-align: middle;\n",
       "    }\n",
       "\n",
       "    .dataframe tbody tr th {\n",
       "        vertical-align: top;\n",
       "    }\n",
       "\n",
       "    .dataframe thead th {\n",
       "        text-align: right;\n",
       "    }\n",
       "</style>\n",
       "<table border=\"1\" class=\"dataframe\">\n",
       "  <thead>\n",
       "    <tr style=\"text-align: right;\">\n",
       "      <th></th>\n",
       "      <th>x</th>\n",
       "      <th>y</th>\n",
       "      <th>ter</th>\n",
       "      <th>HUC12</th>\n",
       "      <th>region</th>\n",
       "      <th>channel</th>\n",
       "      <th>geometry</th>\n",
       "    </tr>\n",
       "  </thead>\n",
       "  <tbody>\n",
       "    <tr>\n",
       "      <th>0</th>\n",
       "      <td>2.933766e+06</td>\n",
       "      <td>1.396557e+07</td>\n",
       "      <td>301.388702</td>\n",
       "      <td>Cypress Creek</td>\n",
       "      <td>0</td>\n",
       "      <td>0</td>\n",
       "      <td>POLYGON ((2934366.000 13964974.635, 2933003.17...</td>\n",
       "    </tr>\n",
       "    <tr>\n",
       "      <th>1</th>\n",
       "      <td>2.934966e+06</td>\n",
       "      <td>1.396557e+07</td>\n",
       "      <td>301.594696</td>\n",
       "      <td>Cypress Creek</td>\n",
       "      <td>0</td>\n",
       "      <td>0</td>\n",
       "      <td>POLYGON ((2934366.000 13967369.160, 2934380.33...</td>\n",
       "    </tr>\n",
       "    <tr>\n",
       "      <th>2</th>\n",
       "      <td>2.933766e+06</td>\n",
       "      <td>1.396437e+07</td>\n",
       "      <td>294.629181</td>\n",
       "      <td>Cypress Creek</td>\n",
       "      <td>0</td>\n",
       "      <td>0</td>\n",
       "      <td>POLYGON ((2934366.000 13964974.635, 2934366.00...</td>\n",
       "    </tr>\n",
       "    <tr>\n",
       "      <th>3</th>\n",
       "      <td>2.934966e+06</td>\n",
       "      <td>1.396437e+07</td>\n",
       "      <td>298.529877</td>\n",
       "      <td>Cypress Creek</td>\n",
       "      <td>0</td>\n",
       "      <td>0</td>\n",
       "      <td>POLYGON ((2935566.000 13963774.635, 2934366.00...</td>\n",
       "    </tr>\n",
       "    <tr>\n",
       "      <th>4</th>\n",
       "      <td>2.936166e+06</td>\n",
       "      <td>1.396437e+07</td>\n",
       "      <td>294.815002</td>\n",
       "      <td>Cypress Creek</td>\n",
       "      <td>0</td>\n",
       "      <td>0</td>\n",
       "      <td>POLYGON ((2936766.000 13963774.635, 2935566.00...</td>\n",
       "    </tr>\n",
       "    <tr>\n",
       "      <th>...</th>\n",
       "      <td>...</td>\n",
       "      <td>...</td>\n",
       "      <td>...</td>\n",
       "      <td>...</td>\n",
       "      <td>...</td>\n",
       "      <td>...</td>\n",
       "      <td>...</td>\n",
       "    </tr>\n",
       "    <tr>\n",
       "      <th>26296</th>\n",
       "      <td>3.039069e+06</td>\n",
       "      <td>1.385008e+07</td>\n",
       "      <td>54.643570</td>\n",
       "      <td>Whiteoak Bayou-Buffalo Bayou</td>\n",
       "      <td>2</td>\n",
       "      <td>1</td>\n",
       "      <td>POLYGON ((3039427.707 13849492.726, 3038745.86...</td>\n",
       "    </tr>\n",
       "    <tr>\n",
       "      <th>26297</th>\n",
       "      <td>3.039053e+06</td>\n",
       "      <td>1.385088e+07</td>\n",
       "      <td>59.625050</td>\n",
       "      <td>Addicks Reservoir</td>\n",
       "      <td>3</td>\n",
       "      <td>1</td>\n",
       "      <td>POLYGON ((3039399.212 13851153.541, 3039405.50...</td>\n",
       "    </tr>\n",
       "    <tr>\n",
       "      <th>26298</th>\n",
       "      <td>3.038396e+06</td>\n",
       "      <td>1.385006e+07</td>\n",
       "      <td>60.055576</td>\n",
       "      <td>Whiteoak Bayou-Buffalo Bayou</td>\n",
       "      <td>2</td>\n",
       "      <td>0</td>\n",
       "      <td>POLYGON ((3038723.769 13850469.724, 3038724.68...</td>\n",
       "    </tr>\n",
       "    <tr>\n",
       "      <th>26299</th>\n",
       "      <td>3.038392e+06</td>\n",
       "      <td>1.385087e+07</td>\n",
       "      <td>59.625050</td>\n",
       "      <td>Addicks Reservoir</td>\n",
       "      <td>3</td>\n",
       "      <td>0</td>\n",
       "      <td>POLYGON ((3038721.900 13851266.014, 3038723.76...</td>\n",
       "    </tr>\n",
       "    <tr>\n",
       "      <th>26300</th>\n",
       "      <td>3.037707e+06</td>\n",
       "      <td>1.385085e+07</td>\n",
       "      <td>72.228638</td>\n",
       "      <td>Addicks Reservoir</td>\n",
       "      <td>3</td>\n",
       "      <td>0</td>\n",
       "      <td>POLYGON ((3037766.475 13851439.564, 3038034.75...</td>\n",
       "    </tr>\n",
       "  </tbody>\n",
       "</table>\n",
       "<p>26301 rows × 7 columns</p>\n",
       "</div>"
      ],
      "text/plain": [
       "                  x             y         ter                         HUC12  \\\n",
       "0      2.933766e+06  1.396557e+07  301.388702                 Cypress Creek   \n",
       "1      2.934966e+06  1.396557e+07  301.594696                 Cypress Creek   \n",
       "2      2.933766e+06  1.396437e+07  294.629181                 Cypress Creek   \n",
       "3      2.934966e+06  1.396437e+07  298.529877                 Cypress Creek   \n",
       "4      2.936166e+06  1.396437e+07  294.815002                 Cypress Creek   \n",
       "...             ...           ...         ...                           ...   \n",
       "26296  3.039069e+06  1.385008e+07   54.643570  Whiteoak Bayou-Buffalo Bayou   \n",
       "26297  3.039053e+06  1.385088e+07   59.625050             Addicks Reservoir   \n",
       "26298  3.038396e+06  1.385006e+07   60.055576  Whiteoak Bayou-Buffalo Bayou   \n",
       "26299  3.038392e+06  1.385087e+07   59.625050             Addicks Reservoir   \n",
       "26300  3.037707e+06  1.385085e+07   72.228638             Addicks Reservoir   \n",
       "\n",
       "       region  channel                                           geometry  \n",
       "0           0        0  POLYGON ((2934366.000 13964974.635, 2933003.17...  \n",
       "1           0        0  POLYGON ((2934366.000 13967369.160, 2934380.33...  \n",
       "2           0        0  POLYGON ((2934366.000 13964974.635, 2934366.00...  \n",
       "3           0        0  POLYGON ((2935566.000 13963774.635, 2934366.00...  \n",
       "4           0        0  POLYGON ((2936766.000 13963774.635, 2935566.00...  \n",
       "...       ...      ...                                                ...  \n",
       "26296       2        1  POLYGON ((3039427.707 13849492.726, 3038745.86...  \n",
       "26297       3        1  POLYGON ((3039399.212 13851153.541, 3039405.50...  \n",
       "26298       2        0  POLYGON ((3038723.769 13850469.724, 3038724.68...  \n",
       "26299       3        0  POLYGON ((3038721.900 13851266.014, 3038723.76...  \n",
       "26300       3        0  POLYGON ((3037766.475 13851439.564, 3038034.75...  \n",
       "\n",
       "[26301 rows x 7 columns]"
      ]
     },
     "execution_count": 6,
     "metadata": {},
     "output_type": "execute_result"
    }
   ],
   "source": [
    "coord_gdf = gpd.read_file('../src/coord/coord_gdf.shp')\n",
    "coord_gdf = coord_gdf.drop(columns=['cell_rmse1', 'cell_r21', 'cell_rmse2', 'cell_r22', 'depth'])\n",
    "coord_gdf"
   ]
  },
  {
   "cell_type": "code",
   "execution_count": 7,
   "id": "b7a1e45f",
   "metadata": {},
   "outputs": [],
   "source": [
    "coord_union_gdf = gpd.GeoDataFrame(geometry=[coord_gdf.unary_union], crs=coord_gdf.crs)"
   ]
  },
  {
   "cell_type": "code",
   "execution_count": 8,
   "id": "32aa3375",
   "metadata": {},
   "outputs": [
    {
     "data": {
      "text/plain": [
       "array([ 2921166.      , 13769377.      ,  3202957.156923, 13967374.634684])"
      ]
     },
     "execution_count": 8,
     "metadata": {},
     "output_type": "execute_result"
    }
   ],
   "source": [
    "total_bounds = coord_gdf.total_bounds\n",
    "total_bounds"
   ]
  },
  {
   "cell_type": "code",
   "execution_count": 9,
   "id": "3bf59ba4",
   "metadata": {},
   "outputs": [],
   "source": [
    "np.random.seed(3)\n",
    "sample_event_num = 50\n",
    "event_indices = np.random.choice(range(593), sample_event_num, replace=False)"
   ]
  },
  {
   "cell_type": "code",
   "execution_count": 10,
   "id": "eff879ec",
   "metadata": {},
   "outputs": [
    {
     "data": {
      "text/plain": [
       "array([349, 402,  37, 345, 340, 375, 134, 268, 535,  10,  53, 161, 513,\n",
       "       247, 107, 410, 428, 192, 362, 450, 378,  14, 280,  58, 312, 323,\n",
       "       237, 438, 467,  48, 288, 328, 130, 137, 131, 239,  45, 194, 592,\n",
       "       127, 102, 448, 488, 522, 124, 575, 492, 315, 132, 524])"
      ]
     },
     "execution_count": 10,
     "metadata": {},
     "output_type": "execute_result"
    }
   ],
   "source": [
    "event_indices"
   ]
  },
  {
   "cell_type": "code",
   "execution_count": 37,
   "id": "56ddac07",
   "metadata": {},
   "outputs": [],
   "source": [
    "scaler = MinMaxScaler()\n",
    "xy_scaled = scaler.fit_transform(coord_gdf[['x', 'y']])\n",
    "\n",
    "def load_and_scale(file_path, scale=False):\n",
    "    df = pd.read_parquet(file_path)[['x', 'y', 'channel', 'ter', 'cumu_rain', 'peak_int', 'duration', 'depth']]\n",
    "    if scale:\n",
    "        df[['x', 'y']] = xy_scaled\n",
    "    return df\n",
    "file_paths = [f'../src/tables/data{i}.parquet' for i in event_indices]\n",
    "selected_events = [load_and_scale(file, scale=True) for file in file_paths]\n",
    "with ProgressBar():\n",
    "    result = dpd.concat(selected_events, axis=0)\n",
    "selected_events_df = result.compute()"
   ]
  },
  {
   "cell_type": "code",
   "execution_count": 38,
   "id": "442b9a0b",
   "metadata": {},
   "outputs": [],
   "source": [
    "selected_events_df = selected_events_df.drop(columns=['channel', 'ter', 'depth'])"
   ]
  },
  {
   "cell_type": "code",
   "execution_count": 13,
   "id": "cbc750af-dfaa-4fa0-b785-755380939e9e",
   "metadata": {},
   "outputs": [
    {
     "data": {
      "text/plain": [
       "duration\n",
       "1     289311\n",
       "2     210408\n",
       "3     184107\n",
       "6     184107\n",
       "4     105204\n",
       "7      78903\n",
       "9      52602\n",
       "8      52602\n",
       "11     26301\n",
       "16     26301\n",
       "14     26301\n",
       "5      26301\n",
       "15     26301\n",
       "10     26301\n",
       "Name: count, dtype: int64"
      ]
     },
     "execution_count": 13,
     "metadata": {},
     "output_type": "execute_result"
    }
   ],
   "source": [
    "selected_events_df['duration'].value_counts()"
   ]
  },
  {
   "cell_type": "code",
   "execution_count": 39,
   "id": "9fbe2ef9-fad0-4643-b41b-b2d641805f0a",
   "metadata": {},
   "outputs": [],
   "source": [
    "selected_events_df['duration'] = selected_events_df['duration'].astype(float)"
   ]
  },
  {
   "cell_type": "code",
   "execution_count": null,
   "id": "2b6c968f",
   "metadata": {},
   "outputs": [],
   "source": []
  },
  {
   "cell_type": "code",
   "execution_count": 44,
   "id": "82807a2d",
   "metadata": {},
   "outputs": [],
   "source": [
    "sample_df = selected_events_df.copy()"
   ]
  },
  {
   "cell_type": "code",
   "execution_count": 51,
   "id": "fc99b987",
   "metadata": {},
   "outputs": [],
   "source": [
    "def transform_fn_ieq(column_names, data):\n",
    "    try:\n",
    "        # Modify peak_int to ensure it's >= cumu_rain / duration\n",
    "        transformed_data = data.copy()\n",
    "        transformed_data['ieq'] = data[column_names[0]] / (data[column_names[-1]] + 1e-6)\n",
    "        transformed_data[column_names[1]] = transformed_data[[column_names[1], 'ieq']].max(axis=1)\n",
    "        data[column_names[1]] = transformed_data[column_names[1]]\n",
    "        return data\n",
    "    except Exception as e:\n",
    "        print(f\"Error in transform_fn_ieq: {e}\")\n",
    "        raise"
   ]
  },
  {
   "cell_type": "code",
   "execution_count": 52,
   "id": "1705e734",
   "metadata": {},
   "outputs": [
    {
     "data": {
      "text/html": [
       "<div>\n",
       "<style scoped>\n",
       "    .dataframe tbody tr th:only-of-type {\n",
       "        vertical-align: middle;\n",
       "    }\n",
       "\n",
       "    .dataframe tbody tr th {\n",
       "        vertical-align: top;\n",
       "    }\n",
       "\n",
       "    .dataframe thead th {\n",
       "        text-align: right;\n",
       "    }\n",
       "</style>\n",
       "<table border=\"1\" class=\"dataframe\">\n",
       "  <thead>\n",
       "    <tr style=\"text-align: right;\">\n",
       "      <th></th>\n",
       "      <th>x</th>\n",
       "      <th>y</th>\n",
       "      <th>cumu_rain</th>\n",
       "      <th>peak_int</th>\n",
       "      <th>duration</th>\n",
       "    </tr>\n",
       "  </thead>\n",
       "  <tbody>\n",
       "    <tr>\n",
       "      <th>0</th>\n",
       "      <td>0.042735</td>\n",
       "      <td>1.000000</td>\n",
       "      <td>0.956980</td>\n",
       "      <td>0.845267</td>\n",
       "      <td>3.0</td>\n",
       "    </tr>\n",
       "    <tr>\n",
       "      <th>1</th>\n",
       "      <td>0.047009</td>\n",
       "      <td>1.000000</td>\n",
       "      <td>0.978379</td>\n",
       "      <td>0.869415</td>\n",
       "      <td>3.0</td>\n",
       "    </tr>\n",
       "    <tr>\n",
       "      <th>2</th>\n",
       "      <td>0.042735</td>\n",
       "      <td>0.993865</td>\n",
       "      <td>1.022239</td>\n",
       "      <td>0.908600</td>\n",
       "      <td>3.0</td>\n",
       "    </tr>\n",
       "    <tr>\n",
       "      <th>3</th>\n",
       "      <td>0.047009</td>\n",
       "      <td>0.993865</td>\n",
       "      <td>1.063435</td>\n",
       "      <td>0.956885</td>\n",
       "      <td>3.0</td>\n",
       "    </tr>\n",
       "    <tr>\n",
       "      <th>4</th>\n",
       "      <td>0.051282</td>\n",
       "      <td>0.993865</td>\n",
       "      <td>1.104630</td>\n",
       "      <td>1.005170</td>\n",
       "      <td>3.0</td>\n",
       "    </tr>\n",
       "    <tr>\n",
       "      <th>...</th>\n",
       "      <td>...</td>\n",
       "      <td>...</td>\n",
       "      <td>...</td>\n",
       "      <td>...</td>\n",
       "      <td>...</td>\n",
       "    </tr>\n",
       "    <tr>\n",
       "      <th>26296</th>\n",
       "      <td>0.417746</td>\n",
       "      <td>0.409514</td>\n",
       "      <td>11.554805</td>\n",
       "      <td>8.105234</td>\n",
       "      <td>6.0</td>\n",
       "    </tr>\n",
       "    <tr>\n",
       "      <th>26297</th>\n",
       "      <td>0.417691</td>\n",
       "      <td>0.413603</td>\n",
       "      <td>11.665516</td>\n",
       "      <td>8.170113</td>\n",
       "      <td>6.0</td>\n",
       "    </tr>\n",
       "    <tr>\n",
       "      <th>26298</th>\n",
       "      <td>0.415349</td>\n",
       "      <td>0.409447</td>\n",
       "      <td>11.400763</td>\n",
       "      <td>8.008066</td>\n",
       "      <td>6.0</td>\n",
       "    </tr>\n",
       "    <tr>\n",
       "      <th>26299</th>\n",
       "      <td>0.415335</td>\n",
       "      <td>0.413595</td>\n",
       "      <td>11.522994</td>\n",
       "      <td>8.081010</td>\n",
       "      <td>6.0</td>\n",
       "    </tr>\n",
       "    <tr>\n",
       "      <th>26300</th>\n",
       "      <td>0.412896</td>\n",
       "      <td>0.413470</td>\n",
       "      <td>11.371712</td>\n",
       "      <td>7.986498</td>\n",
       "      <td>6.0</td>\n",
       "    </tr>\n",
       "  </tbody>\n",
       "</table>\n",
       "<p>1315050 rows × 5 columns</p>\n",
       "</div>"
      ],
      "text/plain": [
       "              x         y  cumu_rain  peak_int  duration\n",
       "0      0.042735  1.000000   0.956980  0.845267       3.0\n",
       "1      0.047009  1.000000   0.978379  0.869415       3.0\n",
       "2      0.042735  0.993865   1.022239  0.908600       3.0\n",
       "3      0.047009  0.993865   1.063435  0.956885       3.0\n",
       "4      0.051282  0.993865   1.104630  1.005170       3.0\n",
       "...         ...       ...        ...       ...       ...\n",
       "26296  0.417746  0.409514  11.554805  8.105234       6.0\n",
       "26297  0.417691  0.413603  11.665516  8.170113       6.0\n",
       "26298  0.415349  0.409447  11.400763  8.008066       6.0\n",
       "26299  0.415335  0.413595  11.522994  8.081010       6.0\n",
       "26300  0.412896  0.413470  11.371712  7.986498       6.0\n",
       "\n",
       "[1315050 rows x 5 columns]"
      ]
     },
     "execution_count": 52,
     "metadata": {},
     "output_type": "execute_result"
    }
   ],
   "source": [
    "transform_fn_ieq(['cumu_rain', 'peak_int', 'duration'], sample_df)"
   ]
  },
  {
   "cell_type": "markdown",
   "id": "32890ce2",
   "metadata": {},
   "source": [
    "# cCTGAN events augmentation"
   ]
  },
  {
   "cell_type": "code",
   "execution_count": 40,
   "id": "f2b16adf",
   "metadata": {},
   "outputs": [],
   "source": [
    "metadata = SingleTableMetadata()\n",
    "metadata.detect_from_dataframe(selected_events_df)"
   ]
  },
  {
   "cell_type": "code",
   "execution_count": 41,
   "id": "6b9db1d4-7afc-477f-8e53-797d91bb4466",
   "metadata": {},
   "outputs": [
    {
     "data": {
      "text/plain": [
       "{\n",
       "    \"METADATA_SPEC_VERSION\": \"SINGLE_TABLE_V1\",\n",
       "    \"columns\": {\n",
       "        \"x\": {\n",
       "            \"sdtype\": \"numerical\"\n",
       "        },\n",
       "        \"y\": {\n",
       "            \"sdtype\": \"numerical\"\n",
       "        },\n",
       "        \"cumu_rain\": {\n",
       "            \"sdtype\": \"numerical\"\n",
       "        },\n",
       "        \"peak_int\": {\n",
       "            \"sdtype\": \"numerical\"\n",
       "        },\n",
       "        \"duration\": {\n",
       "            \"sdtype\": \"numerical\"\n",
       "        }\n",
       "    }\n",
       "}"
      ]
     },
     "execution_count": 41,
     "metadata": {},
     "output_type": "execute_result"
    }
   ],
   "source": [
    "metadata"
   ]
  },
  {
   "cell_type": "code",
   "execution_count": null,
   "id": "afffe033",
   "metadata": {},
   "outputs": [],
   "source": []
  },
  {
   "cell_type": "code",
   "execution_count": 42,
   "id": "e76ff5ed",
   "metadata": {},
   "outputs": [],
   "source": [
    "lr_sets = [\n",
    "    # G, D\n",
    "    [1e-5, 1e-5],\n",
    "    [2e-5, 1e-5],\n",
    "    [1e-4, 1e-4],\n",
    "    [2e-4, 1e-4],\n",
    "    [1e-3, 1e-3],\n",
    "    [2e-3, 1e-3]\n",
    "]"
   ]
  },
  {
   "cell_type": "code",
   "execution_count": 43,
   "id": "2ec85aef",
   "metadata": {},
   "outputs": [],
   "source": [
    "x_bounds_constraints = {\n",
    "    'constraint_class': 'ScalarRange',\n",
    "    'constraint_parameters': {\n",
    "        'column_name': 'x',\n",
    "        'low_value': 0.0,\n",
    "        'high_value': 1.0,\n",
    "        'strict_boundaries': False\n",
    "    }\n",
    "}\n",
    "\n",
    "y_bounds_constraints = {\n",
    "    'constraint_class': 'ScalarRange',\n",
    "    'constraint_parameters': {\n",
    "        'column_name': 'y',\n",
    "        'low_value': 0.0,\n",
    "        'high_value': 1.0,\n",
    "        'strict_boundaries': False\n",
    "    }\n",
    "}\n",
    "\n",
    "peak_int_constraints = {\n",
    "    'constraint_class': 'PeakIntConstraintClass',\n",
    "    'constraint_parameters': {\n",
    "        'column_names': ['cumu_rain', 'peak_int', 'duration']\n",
    "    }\n",
    "}\n",
    "\n",
    "positive_constraints = {\n",
    "    'constraint_class': 'Positive',\n",
    "    'constraint_parameters': {\n",
    "        'column_name': 'peak_int',\n",
    "        'strict_boundaries': False\n",
    "    }\n",
    "}\n",
    "\n",
    "inequalty_constraints = {\n",
    "    'constraint_class': 'Inequality',\n",
    "    'constraint_parameters': {\n",
    "        'low_column_name': 'peak_int',\n",
    "        'high_column_name': 'cumu_rain'\n",
    "    }\n",
    "}"
   ]
  },
  {
   "cell_type": "code",
   "execution_count": 19,
   "id": "3e905f5d",
   "metadata": {},
   "outputs": [],
   "source": [
    "def filter_rows_by_condition(df):\n",
    "    return df[(df['peak_int'] >= df['cumu_rain'] / df['duration']) & (df['cumu_rain'] >= df['peak_int'])]"
   ]
  },
  {
   "cell_type": "code",
   "execution_count": 75,
   "id": "4d7b3078-3a84-44f8-a1c2-2c01bc19ce36",
   "metadata": {},
   "outputs": [],
   "source": [
    "ctgan_logger = Logger('../logs/cCTGAN_model.log')"
   ]
  },
  {
   "cell_type": "code",
   "execution_count": 76,
   "id": "3847af6e",
   "metadata": {},
   "outputs": [
    {
     "name": "stderr",
     "output_type": "stream",
     "text": [
      "  0%|          | 0/6 [00:00<?, ?it/s]"
     ]
    },
    {
     "name": "stdout",
     "output_type": "stream",
     "text": [
      "Index(['x', 'y', 'cumu_rain', 'peak_int', 'duration'], dtype='object')\n",
      "Index(['x', 'y', 'cumu_rain', 'peak_int', 'duration'], dtype='object')\n",
      "Index(['x', 'y', 'cumu_rain', 'peak_int', 'duration'], dtype='object')\n"
     ]
    },
    {
     "name": "stderr",
     "output_type": "stream",
     "text": [
      "  0%|          | 0/6 [00:43<?, ?it/s]\n"
     ]
    },
    {
     "ename": "KeyboardInterrupt",
     "evalue": "",
     "output_type": "error",
     "traceback": [
      "\u001b[0;31m---------------------------------------------------------------------------\u001b[0m",
      "\u001b[0;31mKeyboardInterrupt\u001b[0m                         Traceback (most recent call last)",
      "Cell \u001b[0;32mIn[76], line 20\u001b[0m\n\u001b[1;32m     18\u001b[0m \u001b[38;5;66;03m# train ctgan\u001b[39;00m\n\u001b[1;32m     19\u001b[0m ctgan_logger\u001b[38;5;241m.\u001b[39mlog_info(\u001b[38;5;124m'\u001b[39m\u001b[38;5;124mStart training...\u001b[39m\u001b[38;5;124m'\u001b[39m)\n\u001b[0;32m---> 20\u001b[0m \u001b[43mctgan_synthesizer\u001b[49m\u001b[38;5;241;43m.\u001b[39;49m\u001b[43mfit\u001b[49m\u001b[43m(\u001b[49m\u001b[43mselected_events_df\u001b[49m\u001b[43m)\u001b[49m\n\u001b[1;32m     21\u001b[0m ctgan_synthesizer\u001b[38;5;241m.\u001b[39msave(\u001b[38;5;124mf\u001b[39m\u001b[38;5;124m'\u001b[39m\u001b[38;5;124m../checkpoints/cCTGAN/\u001b[39m\u001b[38;5;132;01m{\u001b[39;00mlrs[\u001b[38;5;241m0\u001b[39m]\u001b[38;5;132;01m}\u001b[39;00m\u001b[38;5;124m_\u001b[39m\u001b[38;5;132;01m{\u001b[39;00mlrs[\u001b[38;5;241m1\u001b[39m]\u001b[38;5;132;01m}\u001b[39;00m\u001b[38;5;124m_\u001b[39m\u001b[38;5;132;01m{\u001b[39;00mepoch\u001b[38;5;241m+\u001b[39m\u001b[38;5;241m1\u001b[39m\u001b[38;5;132;01m}\u001b[39;00m\u001b[38;5;124m.pkl\u001b[39m\u001b[38;5;124m'\u001b[39m)\n\u001b[1;32m     22\u001b[0m ctgan_logger\u001b[38;5;241m.\u001b[39mlog_info(\u001b[38;5;124m'\u001b[39m\u001b[38;5;124mGenerating events...\u001b[39m\u001b[38;5;124m'\u001b[39m)\n",
      "File \u001b[0;32m~/GAN_simulated_events/se_env/lib/python3.8/site-packages/sdv/single_table/base.py:395\u001b[0m, in \u001b[0;36mBaseSynthesizer.fit\u001b[0;34m(self, data)\u001b[0m\n\u001b[1;32m    393\u001b[0m \u001b[38;5;28mself\u001b[39m\u001b[38;5;241m.\u001b[39m_data_processor\u001b[38;5;241m.\u001b[39mreset_sampling()\n\u001b[1;32m    394\u001b[0m \u001b[38;5;28mself\u001b[39m\u001b[38;5;241m.\u001b[39m_random_state_set \u001b[38;5;241m=\u001b[39m \u001b[38;5;28;01mFalse\u001b[39;00m\n\u001b[0;32m--> 395\u001b[0m processed_data \u001b[38;5;241m=\u001b[39m \u001b[38;5;28;43mself\u001b[39;49m\u001b[38;5;241;43m.\u001b[39;49m\u001b[43m_preprocess\u001b[49m\u001b[43m(\u001b[49m\u001b[43mdata\u001b[49m\u001b[43m)\u001b[49m\n\u001b[1;32m    396\u001b[0m \u001b[38;5;28mself\u001b[39m\u001b[38;5;241m.\u001b[39mfit_processed_data(processed_data)\n",
      "File \u001b[0;32m~/GAN_simulated_events/se_env/lib/python3.8/site-packages/sdv/single_table/ctgan.py:217\u001b[0m, in \u001b[0;36mCTGANSynthesizer._preprocess\u001b[0;34m(self, data)\u001b[0m\n\u001b[1;32m    214\u001b[0m \u001b[38;5;28mself\u001b[39m\u001b[38;5;241m.\u001b[39m_data_processor\u001b[38;5;241m.\u001b[39mfit(data)\n\u001b[1;32m    215\u001b[0m \u001b[38;5;28mself\u001b[39m\u001b[38;5;241m.\u001b[39m_print_warning(data)\n\u001b[0;32m--> 217\u001b[0m \u001b[38;5;28;01mreturn\u001b[39;00m \u001b[38;5;28;43mself\u001b[39;49m\u001b[38;5;241;43m.\u001b[39;49m\u001b[43m_data_processor\u001b[49m\u001b[38;5;241;43m.\u001b[39;49m\u001b[43mtransform\u001b[49m\u001b[43m(\u001b[49m\u001b[43mdata\u001b[49m\u001b[43m)\u001b[49m\n",
      "File \u001b[0;32m~/GAN_simulated_events/se_env/lib/python3.8/site-packages/sdv/data_processing/data_processor.py:801\u001b[0m, in \u001b[0;36mDataProcessor.transform\u001b[0;34m(self, data, is_condition)\u001b[0m\n\u001b[1;32m    796\u001b[0m columns \u001b[38;5;241m=\u001b[39m [\n\u001b[1;32m    797\u001b[0m     column \u001b[38;5;28;01mfor\u001b[39;00m column \u001b[38;5;129;01min\u001b[39;00m \u001b[38;5;28mself\u001b[39m\u001b[38;5;241m.\u001b[39mget_sdtypes(primary_keys\u001b[38;5;241m=\u001b[39m\u001b[38;5;129;01mnot\u001b[39;00m is_condition)\n\u001b[1;32m    798\u001b[0m     \u001b[38;5;28;01mif\u001b[39;00m column \u001b[38;5;129;01min\u001b[39;00m data\u001b[38;5;241m.\u001b[39mcolumns\n\u001b[1;32m    799\u001b[0m ]\n\u001b[1;32m    800\u001b[0m LOGGER\u001b[38;5;241m.\u001b[39mdebug(\u001b[38;5;124mf\u001b[39m\u001b[38;5;124m'\u001b[39m\u001b[38;5;124mTransforming constraints for table \u001b[39m\u001b[38;5;132;01m{\u001b[39;00m\u001b[38;5;28mself\u001b[39m\u001b[38;5;241m.\u001b[39mtable_name\u001b[38;5;132;01m}\u001b[39;00m\u001b[38;5;124m'\u001b[39m)\n\u001b[0;32m--> 801\u001b[0m data \u001b[38;5;241m=\u001b[39m \u001b[38;5;28;43mself\u001b[39;49m\u001b[38;5;241;43m.\u001b[39;49m\u001b[43m_transform_constraints\u001b[49m\u001b[43m(\u001b[49m\u001b[43mdata\u001b[49m\u001b[43m[\u001b[49m\u001b[43mcolumns\u001b[49m\u001b[43m]\u001b[49m\u001b[43m,\u001b[49m\u001b[43m \u001b[49m\u001b[43mis_condition\u001b[49m\u001b[43m)\u001b[49m\n\u001b[1;32m    803\u001b[0m LOGGER\u001b[38;5;241m.\u001b[39mdebug(\u001b[38;5;124mf\u001b[39m\u001b[38;5;124m'\u001b[39m\u001b[38;5;124mTransforming table \u001b[39m\u001b[38;5;132;01m{\u001b[39;00m\u001b[38;5;28mself\u001b[39m\u001b[38;5;241m.\u001b[39mtable_name\u001b[38;5;132;01m}\u001b[39;00m\u001b[38;5;124m'\u001b[39m)\n\u001b[1;32m    804\u001b[0m \u001b[38;5;28;01mif\u001b[39;00m \u001b[38;5;28mself\u001b[39m\u001b[38;5;241m.\u001b[39m_keys \u001b[38;5;129;01mand\u001b[39;00m \u001b[38;5;129;01mnot\u001b[39;00m is_condition:\n",
      "File \u001b[0;32m~/GAN_simulated_events/se_env/lib/python3.8/site-packages/sdv/data_processing/data_processor.py:375\u001b[0m, in \u001b[0;36mDataProcessor._transform_constraints\u001b[0;34m(self, data, is_condition)\u001b[0m\n\u001b[1;32m    373\u001b[0m \u001b[38;5;28;01mfor\u001b[39;00m constraint \u001b[38;5;129;01min\u001b[39;00m \u001b[38;5;28mself\u001b[39m\u001b[38;5;241m.\u001b[39m_constraints:\n\u001b[1;32m    374\u001b[0m     \u001b[38;5;28;01mtry\u001b[39;00m:\n\u001b[0;32m--> 375\u001b[0m         data \u001b[38;5;241m=\u001b[39m \u001b[43mconstraint\u001b[49m\u001b[38;5;241;43m.\u001b[39;49m\u001b[43mtransform\u001b[49m\u001b[43m(\u001b[49m\u001b[43mdata\u001b[49m\u001b[43m)\u001b[49m\n\u001b[1;32m    376\u001b[0m         \u001b[38;5;28;01mif\u001b[39;00m \u001b[38;5;129;01mnot\u001b[39;00m is_condition:\n\u001b[1;32m    377\u001b[0m             \u001b[38;5;28mself\u001b[39m\u001b[38;5;241m.\u001b[39m_constraints_to_reverse\u001b[38;5;241m.\u001b[39mappend(constraint)\n",
      "File \u001b[0;32m~/GAN_simulated_events/se_env/lib/python3.8/site-packages/sdv/constraints/base.py:255\u001b[0m, in \u001b[0;36mConstraint.transform\u001b[0;34m(self, table_data)\u001b[0m\n\u001b[1;32m    252\u001b[0m \u001b[38;5;28;01mif\u001b[39;00m missing_columns:\n\u001b[1;32m    253\u001b[0m     \u001b[38;5;28;01mraise\u001b[39;00m MissingConstraintColumnError(missing_columns\u001b[38;5;241m=\u001b[39mmissing_columns)\n\u001b[0;32m--> 255\u001b[0m \u001b[38;5;28;01mreturn\u001b[39;00m \u001b[38;5;28;43mself\u001b[39;49m\u001b[38;5;241;43m.\u001b[39;49m\u001b[43m_transform\u001b[49m\u001b[43m(\u001b[49m\u001b[43mtable_data\u001b[49m\u001b[43m)\u001b[49m\n",
      "File \u001b[0;32m~/GAN_simulated_events/se_env/lib/python3.8/site-packages/sdv/constraints/tabular.py:498\u001b[0m, in \u001b[0;36mInequality._transform\u001b[0;34m(self, table_data)\u001b[0m\n\u001b[1;32m    495\u001b[0m \u001b[38;5;28mself\u001b[39m\u001b[38;5;241m.\u001b[39m_diff_column_name \u001b[38;5;241m=\u001b[39m create_unique_name(\u001b[38;5;28mself\u001b[39m\u001b[38;5;241m.\u001b[39m_diff_column_name, table_data\u001b[38;5;241m.\u001b[39mcolumns)\n\u001b[1;32m    496\u001b[0m table_data[\u001b[38;5;28mself\u001b[39m\u001b[38;5;241m.\u001b[39m_diff_column_name] \u001b[38;5;241m=\u001b[39m np\u001b[38;5;241m.\u001b[39mlog(diff_column \u001b[38;5;241m+\u001b[39m \u001b[38;5;241m1\u001b[39m)\n\u001b[0;32m--> 498\u001b[0m nan_col \u001b[38;5;241m=\u001b[39m \u001b[43mcompute_nans_column\u001b[49m\u001b[43m(\u001b[49m\u001b[43mtable_data\u001b[49m\u001b[43m,\u001b[49m\u001b[43m \u001b[49m\u001b[43m[\u001b[49m\u001b[38;5;28;43mself\u001b[39;49m\u001b[38;5;241;43m.\u001b[39;49m\u001b[43m_low_column_name\u001b[49m\u001b[43m,\u001b[49m\u001b[43m \u001b[49m\u001b[38;5;28;43mself\u001b[39;49m\u001b[38;5;241;43m.\u001b[39;49m\u001b[43m_high_column_name\u001b[49m\u001b[43m]\u001b[49m\u001b[43m)\u001b[49m\n\u001b[1;32m    499\u001b[0m \u001b[38;5;28;01mif\u001b[39;00m nan_col \u001b[38;5;129;01mis\u001b[39;00m \u001b[38;5;129;01mnot\u001b[39;00m \u001b[38;5;28;01mNone\u001b[39;00m:\n\u001b[1;32m    500\u001b[0m     \u001b[38;5;28mself\u001b[39m\u001b[38;5;241m.\u001b[39m_nan_column_name \u001b[38;5;241m=\u001b[39m create_unique_name(nan_col\u001b[38;5;241m.\u001b[39mname, table_data\u001b[38;5;241m.\u001b[39mcolumns)\n",
      "File \u001b[0;32m~/GAN_simulated_events/se_env/lib/python3.8/site-packages/sdv/constraints/utils.py:152\u001b[0m, in \u001b[0;36mcompute_nans_column\u001b[0;34m(table_data, list_column_names)\u001b[0m\n\u001b[1;32m    139\u001b[0m \u001b[38;5;250m\u001b[39m\u001b[38;5;124;03m\"\"\"Compute a categorical column to the table_data indicating where NaNs are.\u001b[39;00m\n\u001b[1;32m    140\u001b[0m \n\u001b[1;32m    141\u001b[0m \u001b[38;5;124;03mArgs:\u001b[39;00m\n\u001b[0;32m   (...)\u001b[0m\n\u001b[1;32m    149\u001b[0m \u001b[38;5;124;03m    Empty dict if there are no NaNs.\u001b[39;00m\n\u001b[1;32m    150\u001b[0m \u001b[38;5;124;03m\"\"\"\u001b[39;00m\n\u001b[1;32m    151\u001b[0m nan_column_name \u001b[38;5;241m=\u001b[39m \u001b[38;5;124m'\u001b[39m\u001b[38;5;124m#\u001b[39m\u001b[38;5;124m'\u001b[39m\u001b[38;5;241m.\u001b[39mjoin(list_column_names) \u001b[38;5;241m+\u001b[39m \u001b[38;5;124m'\u001b[39m\u001b[38;5;124m.nan_component\u001b[39m\u001b[38;5;124m'\u001b[39m\n\u001b[0;32m--> 152\u001b[0m column \u001b[38;5;241m=\u001b[39m \u001b[43mtable_data\u001b[49m\u001b[43m[\u001b[49m\u001b[43mlist_column_names\u001b[49m\u001b[43m]\u001b[49m\u001b[38;5;241;43m.\u001b[39;49m\u001b[43mapply\u001b[49m\u001b[43m(\u001b[49m\u001b[43mget_nan_component_value\u001b[49m\u001b[43m,\u001b[49m\u001b[43m \u001b[49m\u001b[43maxis\u001b[49m\u001b[38;5;241;43m=\u001b[39;49m\u001b[38;5;241;43m1\u001b[39;49m\u001b[43m)\u001b[49m\n\u001b[1;32m    153\u001b[0m \u001b[38;5;28;01mif\u001b[39;00m \u001b[38;5;129;01mnot\u001b[39;00m (column \u001b[38;5;241m==\u001b[39m \u001b[38;5;124m'\u001b[39m\u001b[38;5;124mNone\u001b[39m\u001b[38;5;124m'\u001b[39m)\u001b[38;5;241m.\u001b[39mall():\n\u001b[1;32m    154\u001b[0m     \u001b[38;5;28;01mreturn\u001b[39;00m pd\u001b[38;5;241m.\u001b[39mSeries(column, name\u001b[38;5;241m=\u001b[39mnan_column_name)\n",
      "File \u001b[0;32m~/GAN_simulated_events/se_env/lib/python3.8/site-packages/pandas/core/frame.py:9423\u001b[0m, in \u001b[0;36mDataFrame.apply\u001b[0;34m(self, func, axis, raw, result_type, args, **kwargs)\u001b[0m\n\u001b[1;32m   9412\u001b[0m \u001b[38;5;28;01mfrom\u001b[39;00m \u001b[38;5;21;01mpandas\u001b[39;00m\u001b[38;5;21;01m.\u001b[39;00m\u001b[38;5;21;01mcore\u001b[39;00m\u001b[38;5;21;01m.\u001b[39;00m\u001b[38;5;21;01mapply\u001b[39;00m \u001b[38;5;28;01mimport\u001b[39;00m frame_apply\n\u001b[1;32m   9414\u001b[0m op \u001b[38;5;241m=\u001b[39m frame_apply(\n\u001b[1;32m   9415\u001b[0m     \u001b[38;5;28mself\u001b[39m,\n\u001b[1;32m   9416\u001b[0m     func\u001b[38;5;241m=\u001b[39mfunc,\n\u001b[0;32m   (...)\u001b[0m\n\u001b[1;32m   9421\u001b[0m     kwargs\u001b[38;5;241m=\u001b[39mkwargs,\n\u001b[1;32m   9422\u001b[0m )\n\u001b[0;32m-> 9423\u001b[0m \u001b[38;5;28;01mreturn\u001b[39;00m \u001b[43mop\u001b[49m\u001b[38;5;241;43m.\u001b[39;49m\u001b[43mapply\u001b[49m\u001b[43m(\u001b[49m\u001b[43m)\u001b[49m\u001b[38;5;241m.\u001b[39m__finalize__(\u001b[38;5;28mself\u001b[39m, method\u001b[38;5;241m=\u001b[39m\u001b[38;5;124m\"\u001b[39m\u001b[38;5;124mapply\u001b[39m\u001b[38;5;124m\"\u001b[39m)\n",
      "File \u001b[0;32m~/GAN_simulated_events/se_env/lib/python3.8/site-packages/pandas/core/apply.py:678\u001b[0m, in \u001b[0;36mFrameApply.apply\u001b[0;34m(self)\u001b[0m\n\u001b[1;32m    675\u001b[0m \u001b[38;5;28;01melif\u001b[39;00m \u001b[38;5;28mself\u001b[39m\u001b[38;5;241m.\u001b[39mraw:\n\u001b[1;32m    676\u001b[0m     \u001b[38;5;28;01mreturn\u001b[39;00m \u001b[38;5;28mself\u001b[39m\u001b[38;5;241m.\u001b[39mapply_raw()\n\u001b[0;32m--> 678\u001b[0m \u001b[38;5;28;01mreturn\u001b[39;00m \u001b[38;5;28;43mself\u001b[39;49m\u001b[38;5;241;43m.\u001b[39;49m\u001b[43mapply_standard\u001b[49m\u001b[43m(\u001b[49m\u001b[43m)\u001b[49m\n",
      "File \u001b[0;32m~/GAN_simulated_events/se_env/lib/python3.8/site-packages/pandas/core/apply.py:798\u001b[0m, in \u001b[0;36mFrameApply.apply_standard\u001b[0;34m(self)\u001b[0m\n\u001b[1;32m    797\u001b[0m \u001b[38;5;28;01mdef\u001b[39;00m \u001b[38;5;21mapply_standard\u001b[39m(\u001b[38;5;28mself\u001b[39m):\n\u001b[0;32m--> 798\u001b[0m     results, res_index \u001b[38;5;241m=\u001b[39m \u001b[38;5;28;43mself\u001b[39;49m\u001b[38;5;241;43m.\u001b[39;49m\u001b[43mapply_series_generator\u001b[49m\u001b[43m(\u001b[49m\u001b[43m)\u001b[49m\n\u001b[1;32m    800\u001b[0m     \u001b[38;5;66;03m# wrap results\u001b[39;00m\n\u001b[1;32m    801\u001b[0m     \u001b[38;5;28;01mreturn\u001b[39;00m \u001b[38;5;28mself\u001b[39m\u001b[38;5;241m.\u001b[39mwrap_results(results, res_index)\n",
      "File \u001b[0;32m~/GAN_simulated_events/se_env/lib/python3.8/site-packages/pandas/core/apply.py:812\u001b[0m, in \u001b[0;36mFrameApply.apply_series_generator\u001b[0;34m(self)\u001b[0m\n\u001b[1;32m    809\u001b[0m results \u001b[38;5;241m=\u001b[39m {}\n\u001b[1;32m    811\u001b[0m \u001b[38;5;28;01mwith\u001b[39;00m option_context(\u001b[38;5;124m\"\u001b[39m\u001b[38;5;124mmode.chained_assignment\u001b[39m\u001b[38;5;124m\"\u001b[39m, \u001b[38;5;28;01mNone\u001b[39;00m):\n\u001b[0;32m--> 812\u001b[0m     \u001b[38;5;28;01mfor\u001b[39;00m i, v \u001b[38;5;129;01min\u001b[39;00m \u001b[38;5;28menumerate\u001b[39m(series_gen):\n\u001b[1;32m    813\u001b[0m         \u001b[38;5;66;03m# ignore SettingWithCopy here in case the user mutates\u001b[39;00m\n\u001b[1;32m    814\u001b[0m         results[i] \u001b[38;5;241m=\u001b[39m \u001b[38;5;28mself\u001b[39m\u001b[38;5;241m.\u001b[39mf(v)\n\u001b[1;32m    815\u001b[0m         \u001b[38;5;28;01mif\u001b[39;00m \u001b[38;5;28misinstance\u001b[39m(results[i], ABCSeries):\n\u001b[1;32m    816\u001b[0m             \u001b[38;5;66;03m# If we have a view on v, we need to make a copy because\u001b[39;00m\n\u001b[1;32m    817\u001b[0m             \u001b[38;5;66;03m#  series_generator will swap out the underlying data\u001b[39;00m\n",
      "File \u001b[0;32m~/GAN_simulated_events/se_env/lib/python3.8/site-packages/pandas/core/apply.py:940\u001b[0m, in \u001b[0;36mFrameColumnApply.series_generator\u001b[0;34m(self)\u001b[0m\n\u001b[1;32m    937\u001b[0m \u001b[38;5;28;01mfor\u001b[39;00m arr, name \u001b[38;5;129;01min\u001b[39;00m \u001b[38;5;28mzip\u001b[39m(values, \u001b[38;5;28mself\u001b[39m\u001b[38;5;241m.\u001b[39mindex):\n\u001b[1;32m    938\u001b[0m     \u001b[38;5;66;03m# GH#35462 re-pin mgr in case setitem changed it\u001b[39;00m\n\u001b[1;32m    939\u001b[0m     ser\u001b[38;5;241m.\u001b[39m_mgr \u001b[38;5;241m=\u001b[39m mgr\n\u001b[0;32m--> 940\u001b[0m     \u001b[43mmgr\u001b[49m\u001b[38;5;241;43m.\u001b[39;49m\u001b[43mset_values\u001b[49m\u001b[43m(\u001b[49m\u001b[43marr\u001b[49m\u001b[43m)\u001b[49m\n\u001b[1;32m    941\u001b[0m     \u001b[38;5;28mobject\u001b[39m\u001b[38;5;241m.\u001b[39m\u001b[38;5;21m__setattr__\u001b[39m(ser, \u001b[38;5;124m\"\u001b[39m\u001b[38;5;124m_name\u001b[39m\u001b[38;5;124m\"\u001b[39m, name)\n\u001b[1;32m    942\u001b[0m     \u001b[38;5;28;01myield\u001b[39;00m ser\n",
      "File \u001b[0;32m~/GAN_simulated_events/se_env/lib/python3.8/site-packages/pandas/core/internals/managers.py:2074\u001b[0m, in \u001b[0;36mSingleBlockManager.set_values\u001b[0;34m(self, values)\u001b[0m\n\u001b[1;32m   2070\u001b[0m \u001b[38;5;66;03m# TODO(CoW) do we need to handle copy on write here? Currently this is\u001b[39;00m\n\u001b[1;32m   2071\u001b[0m \u001b[38;5;66;03m# only used for FrameColumnApply.series_generator (what if apply is\u001b[39;00m\n\u001b[1;32m   2072\u001b[0m \u001b[38;5;66;03m# mutating inplace?)\u001b[39;00m\n\u001b[1;32m   2073\u001b[0m \u001b[38;5;28mself\u001b[39m\u001b[38;5;241m.\u001b[39mblocks[\u001b[38;5;241m0\u001b[39m]\u001b[38;5;241m.\u001b[39mvalues \u001b[38;5;241m=\u001b[39m values\n\u001b[0;32m-> 2074\u001b[0m \u001b[38;5;28mself\u001b[39m\u001b[38;5;241m.\u001b[39mblocks[\u001b[38;5;241m0\u001b[39m]\u001b[38;5;241m.\u001b[39m_mgr_locs \u001b[38;5;241m=\u001b[39m BlockPlacement(\u001b[38;5;28mslice\u001b[39m(\u001b[38;5;28;43mlen\u001b[39;49m(values)))\n",
      "\u001b[0;31mKeyboardInterrupt\u001b[0m: "
     ]
    }
   ],
   "source": [
    "for lr_id, lrs in tqdm(enumerate(lr_sets), total=len(lr_sets)):\n",
    "    for epoch in range(50, 301, 50):\n",
    "        try:\n",
    "            ctgan_logger.log_info(f'[{lr_id+1}/{len(lr_sets)}] [Epoch: {epoch}]: {lrs[0]}_{lrs[1]}_{epoch+1}')\n",
    "            ctgan_synthesizer = CTGANSynthesizer(metadata, epochs=epoch, \n",
    "                                                cuda=True, verbose=True, enforce_rounding=False, \n",
    "                                                batch_size=500, generator_lr=lrs[0], discriminator_lr=lrs[1])\n",
    "            ctgan_synthesizer.load_custom_constraint_classes(\n",
    "                filepath = '../models/cCTGAN.py',\n",
    "                class_names = ['PeakIntConstraintClass']\n",
    "            )\n",
    "            ctgan_synthesizer.add_constraints(\n",
    "                constraints = \n",
    "                [peak_int_constraints]\n",
    "                + [x_bounds_constraints, y_bounds_constraints, inequalty_constraints, positive_constraints]\n",
    "                \n",
    "            )\n",
    "            # train ctgan\n",
    "            ctgan_logger.log_info('Start training...')\n",
    "            ctgan_synthesizer.fit(selected_events_df)\n",
    "            ctgan_synthesizer.save(f'../checkpoints/cCTGAN/{lrs[0]}_{lrs[1]}_{epoch+1}.pkl')\n",
    "            ctgan_logger.log_info('Generating events...')\n",
    "            filtered_df_path = f'../outputs/augmented_data/{lrs[0]}_{lrs[1]}_{epoch}.parquet'\n",
    "            ctgan_synthetic_df = ctgan_synthesizer.sample(num_rows=5000000, batch_size=500)\n",
    "            ctgan_synthetic_df[['x', 'y']] = scaler.inverse_transform(ctgan_synthetic_df[['x', 'y']])\n",
    "            ctgan_synthetic_gdf = gpd.GeoDataFrame(\n",
    "                ctgan_synthetic_df, \n",
    "                geometry=gpd.points_from_xy(ctgan_synthetic_df.x, ctgan_synthetic_df.y),\n",
    "                crs=coord_gdf.crs\n",
    "            )\n",
    "            ctgan_logger.log_info('Filtering...')\n",
    "            ctgan_synthetic_inbound_df = ctgan_synthetic_gdf.sjoin(coord_union_gdf, predicate='within').drop(columns=['geometry', 'index_right'])\n",
    "            ctgan_synthetic_inbound_df = filter_rows_by_condition(ctgan_synthetic_inbound_df).reset_index(drop=True)\n",
    "            ctgan_synthetic_inbound_df.to_parquet(filtered_df_path)\n",
    "        except Exception as e:\n",
    "            ctgan_logger.log_error(e)"
   ]
  },
  {
   "cell_type": "code",
   "execution_count": null,
   "id": "4e7464cf",
   "metadata": {},
   "outputs": [],
   "source": [
    "ctgan_synthesizer.get_constraints()"
   ]
  },
  {
   "cell_type": "code",
   "execution_count": null,
   "id": "7a54d6ae-c92c-4603-8805-56975fd424a1",
   "metadata": {},
   "outputs": [],
   "source": []
  }
 ],
 "metadata": {
  "kernelspec": {
   "display_name": "python38",
   "language": "python",
   "name": "python3"
  },
  "language_info": {
   "codemirror_mode": {
    "name": "ipython",
    "version": 3
   },
   "file_extension": ".py",
   "mimetype": "text/x-python",
   "name": "python",
   "nbconvert_exporter": "python",
   "pygments_lexer": "ipython3",
   "version": "3.8.8"
  }
 },
 "nbformat": 4,
 "nbformat_minor": 5
}
