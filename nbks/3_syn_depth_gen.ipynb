{
 "cells": [
  {
   "cell_type": "code",
   "execution_count": 1,
   "metadata": {},
   "outputs": [
    {
     "name": "stderr",
     "output_type": "stream",
     "text": [
      "/home/grads/l/lipai.huang/GAN_simulated_events/se_env/lib/python3.8/site-packages/tqdm/auto.py:21: TqdmWarning: IProgress not found. Please update jupyter and ipywidgets. See https://ipywidgets.readthedocs.io/en/stable/user_install.html\n",
      "  from .autonotebook import tqdm as notebook_tqdm\n"
     ]
    }
   ],
   "source": [
    "import numpy as np\n",
    "import os, sys\n",
    "import pandas as pd\n",
    "import geopandas as gpd\n",
    "from shapely.geometry import Point\n",
    "import matplotlib.pyplot as plt\n",
    "from mpl_toolkits.axes_grid1 import make_axes_locatable\n",
    "from matplotlib.colors import Normalize\n",
    "from matplotlib.cm import ScalarMappable\n",
    "import seaborn as sns\n",
    "from collections import Counter\n",
    "from tqdm.auto import tqdm, trange\n",
    "from sklearn.preprocessing import MinMaxScaler\n",
    "import re\n",
    "import concurrent.futures\n",
    "from sklearn.metrics import silhouette_score\n",
    "from scipy.stats import pearsonr\n",
    "from collections import OrderedDict\n",
    "import copy\n",
    "import pickle\n",
    "import yaml\n",
    "import torch\n",
    "import torch.nn as nn\n",
    "import torch.optim as optim\n",
    "from torch.utils.data import Dataset, DataLoader, DistributedSampler\n",
    "import torch.distributed as dist\n",
    "from torch.nn.parallel import DistributedDataParallel as DDP\n",
    "from torchvision import transforms\n",
    "from sklearn.model_selection import train_test_split\n",
    "from sklearn.preprocessing import StandardScaler\n",
    "import cloudpickle\n",
    "from contextlib import contextmanager\n",
    "\n",
    "from sdv.metadata import SingleTableMetadata\n",
    "from sdv.evaluation.single_table import evaluate_quality\n",
    "from sdv.single_table import CTGANSynthesizer\n",
    "from sdv.sampling import Condition\n",
    "from sdv.evaluation.single_table import get_column_plot\n",
    "\n",
    "import dask.dataframe as dpd\n",
    "import dask_geopandas as dgpd\n",
    "from dask.diagnostics import ProgressBar\n",
    "from dask.distributed import Client\n",
    "\n",
    "import warnings\n",
    "warnings.filterwarnings('ignore')\n",
    "np.random.seed(0)"
   ]
  },
  {
   "cell_type": "code",
   "execution_count": 2,
   "metadata": {},
   "outputs": [],
   "source": [
    "@contextmanager\n",
    "def custom_torch_load(map_location):\n",
    "    original_torch_load = torch.load\n",
    "\n",
    "    def custom_load(*args, **kwargs):\n",
    "        kwargs['map_location'] = map_location\n",
    "        return original_torch_load(*args, **kwargs)\n",
    "\n",
    "    torch.load = custom_load\n",
    "    try:\n",
    "        yield\n",
    "    finally:\n",
    "        torch.load = original_torch_load"
   ]
  },
  {
   "cell_type": "code",
   "execution_count": 3,
   "metadata": {},
   "outputs": [
    {
     "data": {
      "text/plain": [
       "16"
      ]
     },
     "execution_count": 3,
     "metadata": {},
     "output_type": "execute_result"
    }
   ],
   "source": [
    "import gc\n",
    "gc.collect()"
   ]
  },
  {
   "cell_type": "code",
   "execution_count": 4,
   "metadata": {},
   "outputs": [],
   "source": [
    "map_location = 'cuda:0'"
   ]
  },
  {
   "cell_type": "code",
   "execution_count": 5,
   "metadata": {},
   "outputs": [],
   "source": [
    "os.environ[\"CUDA_VISIBLE_DEVICES\"] = \"0\""
   ]
  },
  {
   "cell_type": "code",
   "execution_count": 6,
   "metadata": {},
   "outputs": [],
   "source": [
    "client = Client(n_workers=100) #128 totally"
   ]
  },
  {
   "cell_type": "code",
   "execution_count": 7,
   "metadata": {},
   "outputs": [],
   "source": [
    "config = yaml.safe_load(open('../config.yaml'))"
   ]
  },
  {
   "cell_type": "code",
   "execution_count": 8,
   "metadata": {},
   "outputs": [
    {
     "name": "stdout",
     "output_type": "stream",
     "text": [
      "2.0.1+cu118 True\n"
     ]
    }
   ],
   "source": [
    "print(torch.__version__, torch.cuda.is_available())"
   ]
  },
  {
   "cell_type": "code",
   "execution_count": 55,
   "metadata": {},
   "outputs": [],
   "source": [
    "# torch.cuda.set_device(0)"
   ]
  },
  {
   "cell_type": "markdown",
   "metadata": {},
   "source": [
    "# Coord"
   ]
  },
  {
   "cell_type": "code",
   "execution_count": 9,
   "metadata": {},
   "outputs": [],
   "source": [
    "coord_gdf = gpd.read_file('../src/coord/coord_gdf.shp')\n",
    "coord_gdf = coord_gdf.drop(columns=['cell_rmse1', 'cell_r21', 'cell_rmse2', 'cell_r22', 'depth'])"
   ]
  },
  {
   "cell_type": "code",
   "execution_count": 14,
   "metadata": {},
   "outputs": [
    {
     "data": {
      "text/html": [
       "<div>\n",
       "<style scoped>\n",
       "    .dataframe tbody tr th:only-of-type {\n",
       "        vertical-align: middle;\n",
       "    }\n",
       "\n",
       "    .dataframe tbody tr th {\n",
       "        vertical-align: top;\n",
       "    }\n",
       "\n",
       "    .dataframe thead th {\n",
       "        text-align: right;\n",
       "    }\n",
       "</style>\n",
       "<table border=\"1\" class=\"dataframe\">\n",
       "  <thead>\n",
       "    <tr style=\"text-align: right;\">\n",
       "      <th></th>\n",
       "      <th>x</th>\n",
       "      <th>y</th>\n",
       "      <th>channel</th>\n",
       "      <th>ter</th>\n",
       "      <th>geometry</th>\n",
       "    </tr>\n",
       "  </thead>\n",
       "  <tbody>\n",
       "    <tr>\n",
       "      <th>0</th>\n",
       "      <td>2.933766e+06</td>\n",
       "      <td>1.396557e+07</td>\n",
       "      <td>0</td>\n",
       "      <td>301.388702</td>\n",
       "      <td>POLYGON ((2934366.000 13964974.635, 2933003.17...</td>\n",
       "    </tr>\n",
       "    <tr>\n",
       "      <th>1</th>\n",
       "      <td>2.934966e+06</td>\n",
       "      <td>1.396557e+07</td>\n",
       "      <td>0</td>\n",
       "      <td>301.594696</td>\n",
       "      <td>POLYGON ((2934366.000 13967369.160, 2934380.33...</td>\n",
       "    </tr>\n",
       "    <tr>\n",
       "      <th>2</th>\n",
       "      <td>2.933766e+06</td>\n",
       "      <td>1.396437e+07</td>\n",
       "      <td>0</td>\n",
       "      <td>294.629181</td>\n",
       "      <td>POLYGON ((2934366.000 13964974.635, 2934366.00...</td>\n",
       "    </tr>\n",
       "    <tr>\n",
       "      <th>3</th>\n",
       "      <td>2.934966e+06</td>\n",
       "      <td>1.396437e+07</td>\n",
       "      <td>0</td>\n",
       "      <td>298.529877</td>\n",
       "      <td>POLYGON ((2935566.000 13963774.635, 2934366.00...</td>\n",
       "    </tr>\n",
       "    <tr>\n",
       "      <th>4</th>\n",
       "      <td>2.936166e+06</td>\n",
       "      <td>1.396437e+07</td>\n",
       "      <td>0</td>\n",
       "      <td>294.815002</td>\n",
       "      <td>POLYGON ((2936766.000 13963774.635, 2935566.00...</td>\n",
       "    </tr>\n",
       "    <tr>\n",
       "      <th>...</th>\n",
       "      <td>...</td>\n",
       "      <td>...</td>\n",
       "      <td>...</td>\n",
       "      <td>...</td>\n",
       "      <td>...</td>\n",
       "    </tr>\n",
       "    <tr>\n",
       "      <th>26296</th>\n",
       "      <td>3.039069e+06</td>\n",
       "      <td>1.385008e+07</td>\n",
       "      <td>1</td>\n",
       "      <td>54.643570</td>\n",
       "      <td>POLYGON ((3039427.707 13849492.726, 3038745.86...</td>\n",
       "    </tr>\n",
       "    <tr>\n",
       "      <th>26297</th>\n",
       "      <td>3.039053e+06</td>\n",
       "      <td>1.385088e+07</td>\n",
       "      <td>1</td>\n",
       "      <td>59.625050</td>\n",
       "      <td>POLYGON ((3039399.212 13851153.541, 3039405.50...</td>\n",
       "    </tr>\n",
       "    <tr>\n",
       "      <th>26298</th>\n",
       "      <td>3.038396e+06</td>\n",
       "      <td>1.385006e+07</td>\n",
       "      <td>0</td>\n",
       "      <td>60.055576</td>\n",
       "      <td>POLYGON ((3038723.769 13850469.724, 3038724.68...</td>\n",
       "    </tr>\n",
       "    <tr>\n",
       "      <th>26299</th>\n",
       "      <td>3.038392e+06</td>\n",
       "      <td>1.385087e+07</td>\n",
       "      <td>0</td>\n",
       "      <td>59.625050</td>\n",
       "      <td>POLYGON ((3038721.900 13851266.014, 3038723.76...</td>\n",
       "    </tr>\n",
       "    <tr>\n",
       "      <th>26300</th>\n",
       "      <td>3.037707e+06</td>\n",
       "      <td>1.385085e+07</td>\n",
       "      <td>0</td>\n",
       "      <td>72.228638</td>\n",
       "      <td>POLYGON ((3037766.475 13851439.564, 3038034.75...</td>\n",
       "    </tr>\n",
       "  </tbody>\n",
       "</table>\n",
       "<p>26301 rows × 5 columns</p>\n",
       "</div>"
      ],
      "text/plain": [
       "                  x             y  channel         ter  \\\n",
       "0      2.933766e+06  1.396557e+07        0  301.388702   \n",
       "1      2.934966e+06  1.396557e+07        0  301.594696   \n",
       "2      2.933766e+06  1.396437e+07        0  294.629181   \n",
       "3      2.934966e+06  1.396437e+07        0  298.529877   \n",
       "4      2.936166e+06  1.396437e+07        0  294.815002   \n",
       "...             ...           ...      ...         ...   \n",
       "26296  3.039069e+06  1.385008e+07        1   54.643570   \n",
       "26297  3.039053e+06  1.385088e+07        1   59.625050   \n",
       "26298  3.038396e+06  1.385006e+07        0   60.055576   \n",
       "26299  3.038392e+06  1.385087e+07        0   59.625050   \n",
       "26300  3.037707e+06  1.385085e+07        0   72.228638   \n",
       "\n",
       "                                                geometry  \n",
       "0      POLYGON ((2934366.000 13964974.635, 2933003.17...  \n",
       "1      POLYGON ((2934366.000 13967369.160, 2934380.33...  \n",
       "2      POLYGON ((2934366.000 13964974.635, 2934366.00...  \n",
       "3      POLYGON ((2935566.000 13963774.635, 2934366.00...  \n",
       "4      POLYGON ((2936766.000 13963774.635, 2935566.00...  \n",
       "...                                                  ...  \n",
       "26296  POLYGON ((3039427.707 13849492.726, 3038745.86...  \n",
       "26297  POLYGON ((3039399.212 13851153.541, 3039405.50...  \n",
       "26298  POLYGON ((3038723.769 13850469.724, 3038724.68...  \n",
       "26299  POLYGON ((3038721.900 13851266.014, 3038723.76...  \n",
       "26300  POLYGON ((3037766.475 13851439.564, 3038034.75...  \n",
       "\n",
       "[26301 rows x 5 columns]"
      ]
     },
     "execution_count": 14,
     "metadata": {},
     "output_type": "execute_result"
    }
   ],
   "source": [
    "static_gdf = coord_gdf[['x', 'y', 'channel', 'ter', 'geometry']]\n",
    "static_gdf"
   ]
  },
  {
   "cell_type": "code",
   "execution_count": 10,
   "metadata": {},
   "outputs": [],
   "source": [
    "coord_union_gdf = gpd.GeoDataFrame(geometry=[coord_gdf.unary_union], crs=coord_gdf.crs)"
   ]
  },
  {
   "cell_type": "markdown",
   "metadata": {},
   "source": [
    "# Real events"
   ]
  },
  {
   "cell_type": "code",
   "execution_count": 15,
   "metadata": {},
   "outputs": [
    {
     "data": {
      "text/plain": [
       "array([240, 132, 571,  92, 170, 449, 573, 471, 187, 229, 181, 239, 587,\n",
       "       390, 438, 402, 590, 142, 246, 378, 394,  85, 196, 173, 367, 278,\n",
       "       178,   1, 334, 517,  14, 222, 584, 103, 426, 351,   8, 585, 213,\n",
       "       320,  21, 379, 118, 250, 282, 516, 557,  48,  52, 336])"
      ]
     },
     "execution_count": 15,
     "metadata": {},
     "output_type": "execute_result"
    }
   ],
   "source": [
    "np.random.seed(0)\n",
    "sample_event_num = 50\n",
    "event_indices = np.random.choice(range(593), sample_event_num, replace=False)\n",
    "event_indices"
   ]
  },
  {
   "cell_type": "code",
   "execution_count": 16,
   "metadata": {},
   "outputs": [],
   "source": [
    "scaler = MinMaxScaler()\n",
    "xy_scaled = scaler.fit_transform(coord_gdf[['x', 'y']])\n",
    "\n",
    "def load_and_scale(file_path, scale=False):\n",
    "    df = pd.read_parquet(file_path)[['x', 'y', 'channel', 'ter', 'cumu_rain', 'peak_int', 'duration', 'depth']]\n",
    "    if scale:\n",
    "        df[['x', 'y']] = xy_scaled\n",
    "    return df\n",
    "file_paths = [f'../src/tables/data{i}.parquet' for i in event_indices]\n",
    "selected_events = [load_and_scale(file, scale=True) for file in file_paths]\n",
    "with ProgressBar():\n",
    "    result = dpd.concat(selected_events, axis=0)\n",
    "selected_events_df = result.compute()\n",
    "selected_events_df = selected_events_df.drop(columns=['channel', 'ter', 'depth']).reset_index(drop=True)"
   ]
  },
  {
   "cell_type": "markdown",
   "metadata": {},
   "source": [
    "# Depth model"
   ]
  },
  {
   "cell_type": "code",
   "execution_count": 44,
   "metadata": {},
   "outputs": [],
   "source": [
    "class TransformerModel(nn.Module):\n",
    "    def __init__(self, input_dim, output_dim=1, num_heads=8, num_layers=4, transform_dim=128):\n",
    "        super(TransformerModel, self).__init__()\n",
    "        self.input_transform = nn.Linear(input_dim, transform_dim)\n",
    "\n",
    "        # Transformer specific layers\n",
    "        self.encoder_layer = nn.TransformerEncoderLayer(\n",
    "            d_model=transform_dim, \n",
    "            nhead=num_heads,\n",
    "            dim_feedforward=2048,  \n",
    "            dropout=0.25  \n",
    "        )\n",
    "        self.transformer_encoder = nn.TransformerEncoder(\n",
    "            self.encoder_layer, \n",
    "            num_layers=num_layers\n",
    "        )\n",
    "\n",
    "        # Output layer\n",
    "        self.fc_out = nn.Linear(transform_dim, output_dim)\n",
    "\n",
    "    def forward(self, src):\n",
    "        src = self.input_transform(src)\n",
    "        transformed = self.transformer_encoder(src)\n",
    "        output = self.fc_out(transformed)\n",
    "        return output"
   ]
  },
  {
   "cell_type": "code",
   "execution_count": 45,
   "metadata": {},
   "outputs": [],
   "source": [
    "device = torch.device('cuda:0')"
   ]
  },
  {
   "cell_type": "code",
   "execution_count": 46,
   "metadata": {},
   "outputs": [],
   "source": [
    "model = TransformerModel(5).to(device)"
   ]
  },
  {
   "cell_type": "code",
   "execution_count": 47,
   "metadata": {},
   "outputs": [],
   "source": [
    "tf_checkpoint = torch.load('../checkpoints/depth/best_model_0_1e-05.pth', map_location='cuda:0')"
   ]
  },
  {
   "cell_type": "code",
   "execution_count": 48,
   "metadata": {},
   "outputs": [
    {
     "data": {
      "text/plain": [
       "<All keys matched successfully>"
      ]
     },
     "execution_count": 48,
     "metadata": {},
     "output_type": "execute_result"
    }
   ],
   "source": [
    "new_state_dict = OrderedDict()\n",
    "for k, v in tf_checkpoint.items():\n",
    "    # Remove 'module.' prefix\n",
    "    name = k[7:]  # skip 'module.' (7 characters)\n",
    "    new_state_dict[name] = v\n",
    "\n",
    "# Load the adjusted state dict into your model\n",
    "model.load_state_dict(new_state_dict)"
   ]
  },
  {
   "cell_type": "code",
   "execution_count": null,
   "metadata": {},
   "outputs": [],
   "source": []
  },
  {
   "cell_type": "markdown",
   "metadata": {},
   "source": [
    "# cCTGAN"
   ]
  },
  {
   "cell_type": "code",
   "execution_count": 17,
   "metadata": {},
   "outputs": [],
   "source": [
    "metadata = SingleTableMetadata()\n",
    "metadata.detect_from_dataframe(selected_events_df)"
   ]
  },
  {
   "cell_type": "code",
   "execution_count": null,
   "metadata": {},
   "outputs": [],
   "source": []
  },
  {
   "cell_type": "code",
   "execution_count": 27,
   "metadata": {},
   "outputs": [],
   "source": [
    "def filter_rows_by_condition(df):\n",
    "    return df[(df['peak_int'] >= df['cumu_rain'] / df['duration']) & (df['cumu_rain'] >= df['peak_int'])]"
   ]
  },
  {
   "cell_type": "code",
   "execution_count": 28,
   "metadata": {},
   "outputs": [
    {
     "name": "stderr",
     "output_type": "stream",
     "text": [
      "  0%|          | 0/6 [00:00<?, ?it/s]"
     ]
    },
    {
     "name": "stdout",
     "output_type": "stream",
     "text": [
      "{'G_LR': '1e-5', 'D_LR': '1e-5', 'Epochs': 50, 'rows': 1430918, 'Effective Column Shapes': 0.6824253239882229}\n"
     ]
    },
    {
     "name": "stderr",
     "output_type": "stream",
     "text": []
    },
    {
     "name": "stdout",
     "output_type": "stream",
     "text": [
      "{'G_LR': '1e-5', 'D_LR': '1e-5', 'Epochs': 100, 'rows': 1336744, 'Effective Column Shapes': 0.6954352412781101}\n"
     ]
    },
    {
     "name": "stderr",
     "output_type": "stream",
     "text": []
    },
    {
     "name": "stdout",
     "output_type": "stream",
     "text": [
      "{'G_LR': '1e-5', 'D_LR': '1e-5', 'Epochs': 150, 'rows': 1562910, 'Effective Column Shapes': 0.6608132806743116}\n"
     ]
    },
    {
     "name": "stderr",
     "output_type": "stream",
     "text": []
    },
    {
     "name": "stdout",
     "output_type": "stream",
     "text": [
      "{'G_LR': '1e-5', 'D_LR': '1e-5', 'Epochs': 200, 'rows': 1879505, 'Effective Column Shapes': 0.6538302994121835}\n"
     ]
    },
    {
     "name": "stderr",
     "output_type": "stream",
     "text": []
    },
    {
     "name": "stdout",
     "output_type": "stream",
     "text": [
      "{'G_LR': '1e-5', 'D_LR': '1e-5', 'Epochs': 250, 'rows': 2260463, 'Effective Column Shapes': 0.6342441397152939}\n"
     ]
    },
    {
     "name": "stderr",
     "output_type": "stream",
     "text": [
      "1e-5_1e-5: 100%|██████████| 6/6 [01:43<00:00, 17.17s/it]\n",
      " 17%|█▋        | 1/6 [01:43<08:35, 103.03s/it]"
     ]
    },
    {
     "name": "stdout",
     "output_type": "stream",
     "text": [
      "{'G_LR': '1e-5', 'D_LR': '1e-5', 'Epochs': 300, 'rows': 2340584, 'Effective Column Shapes': 0.6533804478734764}\n"
     ]
    },
    {
     "name": "stderr",
     "output_type": "stream",
     "text": []
    },
    {
     "name": "stdout",
     "output_type": "stream",
     "text": [
      "{'G_LR': '2e-5', 'D_LR': '1e-5', 'Epochs': 50, 'rows': 1096384, 'Effective Column Shapes': 0.6741748283764291}\n"
     ]
    },
    {
     "name": "stderr",
     "output_type": "stream",
     "text": []
    },
    {
     "name": "stdout",
     "output_type": "stream",
     "text": [
      "{'G_LR': '2e-5', 'D_LR': '1e-5', 'Epochs': 100, 'rows': 1372080, 'Effective Column Shapes': 0.6660277356502305}\n"
     ]
    },
    {
     "name": "stderr",
     "output_type": "stream",
     "text": []
    },
    {
     "name": "stdout",
     "output_type": "stream",
     "text": [
      "{'G_LR': '2e-5', 'D_LR': '1e-5', 'Epochs': 150, 'rows': 1845113, 'Effective Column Shapes': 0.6517560654691673}\n"
     ]
    },
    {
     "name": "stderr",
     "output_type": "stream",
     "text": []
    },
    {
     "name": "stdout",
     "output_type": "stream",
     "text": [
      "{'G_LR': '2e-5', 'D_LR': '1e-5', 'Epochs': 200, 'rows': 2059336, 'Effective Column Shapes': 0.6251026841829991}\n"
     ]
    },
    {
     "name": "stderr",
     "output_type": "stream",
     "text": []
    },
    {
     "name": "stdout",
     "output_type": "stream",
     "text": [
      "{'G_LR': '2e-5', 'D_LR': '1e-5', 'Epochs': 250, 'rows': 2280166, 'Effective Column Shapes': 0.6261132586929475}\n"
     ]
    },
    {
     "name": "stderr",
     "output_type": "stream",
     "text": [
      "2e-5_1e-5: 100%|██████████| 6/6 [01:44<00:00, 17.42s/it]\n",
      " 33%|███▎      | 2/6 [03:27<06:55, 103.91s/it]"
     ]
    },
    {
     "name": "stdout",
     "output_type": "stream",
     "text": [
      "{'G_LR': '2e-5', 'D_LR': '1e-5', 'Epochs': 300, 'rows': 2292918, 'Effective Column Shapes': 0.6567941496446469}\n"
     ]
    },
    {
     "name": "stderr",
     "output_type": "stream",
     "text": []
    },
    {
     "name": "stdout",
     "output_type": "stream",
     "text": [
      "{'G_LR': '1e-4', 'D_LR': '1e-4', 'Epochs': 50, 'rows': 2312617, 'Effective Column Shapes': 0.6423762740674862}\n"
     ]
    },
    {
     "name": "stderr",
     "output_type": "stream",
     "text": []
    },
    {
     "name": "stdout",
     "output_type": "stream",
     "text": [
      "{'G_LR': '1e-4', 'D_LR': '1e-4', 'Epochs': 100, 'rows': 2555992, 'Effective Column Shapes': 0.6768071576457017}\n"
     ]
    },
    {
     "name": "stderr",
     "output_type": "stream",
     "text": []
    },
    {
     "name": "stdout",
     "output_type": "stream",
     "text": [
      "{'G_LR': '1e-4', 'D_LR': '1e-4', 'Epochs': 150, 'rows': 3307236, 'Effective Column Shapes': 0.6634142858409756}\n"
     ]
    },
    {
     "name": "stderr",
     "output_type": "stream",
     "text": []
    },
    {
     "name": "stdout",
     "output_type": "stream",
     "text": [
      "{'G_LR': '1e-4', 'D_LR': '1e-4', 'Epochs': 200, 'rows': 3315483, 'Effective Column Shapes': 0.6775353372158174}\n"
     ]
    },
    {
     "name": "stderr",
     "output_type": "stream",
     "text": []
    },
    {
     "name": "stdout",
     "output_type": "stream",
     "text": [
      "{'G_LR': '1e-4', 'D_LR': '1e-4', 'Epochs': 250, 'rows': 3409169, 'Effective Column Shapes': 0.6645094927915893}\n"
     ]
    },
    {
     "name": "stderr",
     "output_type": "stream",
     "text": [
      "1e-4_1e-4: 100%|██████████| 6/6 [02:42<00:00, 27.12s/it]\n",
      " 50%|█████     | 3/6 [06:10<06:32, 130.76s/it]"
     ]
    },
    {
     "name": "stdout",
     "output_type": "stream",
     "text": [
      "{'G_LR': '1e-4', 'D_LR': '1e-4', 'Epochs': 300, 'rows': 3412617, 'Effective Column Shapes': 0.6701369437390926}\n"
     ]
    },
    {
     "name": "stderr",
     "output_type": "stream",
     "text": []
    },
    {
     "name": "stdout",
     "output_type": "stream",
     "text": [
      "{'G_LR': '2e-4', 'D_LR': '1e-4', 'Epochs': 50, 'rows': 2286237, 'Effective Column Shapes': 0.6098994204428534}\n"
     ]
    },
    {
     "name": "stderr",
     "output_type": "stream",
     "text": []
    },
    {
     "name": "stdout",
     "output_type": "stream",
     "text": [
      "{'G_LR': '2e-4', 'D_LR': '1e-4', 'Epochs': 100, 'rows': 2730107, 'Effective Column Shapes': 0.6354143378087961}\n"
     ]
    },
    {
     "name": "stderr",
     "output_type": "stream",
     "text": []
    },
    {
     "name": "stdout",
     "output_type": "stream",
     "text": [
      "{'G_LR': '2e-4', 'D_LR': '1e-4', 'Epochs': 150, 'rows': 2970573, 'Effective Column Shapes': 0.6616839845023499}\n"
     ]
    },
    {
     "name": "stderr",
     "output_type": "stream",
     "text": []
    },
    {
     "name": "stdout",
     "output_type": "stream",
     "text": [
      "{'G_LR': '2e-4', 'D_LR': '1e-4', 'Epochs': 200, 'rows': 3183452, 'Effective Column Shapes': 0.682024894815633}\n"
     ]
    },
    {
     "name": "stderr",
     "output_type": "stream",
     "text": []
    },
    {
     "name": "stdout",
     "output_type": "stream",
     "text": [
      "{'G_LR': '2e-4', 'D_LR': '1e-4', 'Epochs': 250, 'rows': 3499365, 'Effective Column Shapes': 0.6655135581545414}\n"
     ]
    },
    {
     "name": "stderr",
     "output_type": "stream",
     "text": [
      "2e-4_1e-4: 100%|██████████| 6/6 [02:36<00:00, 26.08s/it]\n",
      " 67%|██████▋   | 4/6 [08:46<04:41, 140.92s/it]"
     ]
    },
    {
     "name": "stdout",
     "output_type": "stream",
     "text": [
      "{'G_LR': '2e-4', 'D_LR': '1e-4', 'Epochs': 300, 'rows': 3396961, 'Effective Column Shapes': 0.6813821087971007}\n"
     ]
    },
    {
     "name": "stderr",
     "output_type": "stream",
     "text": []
    },
    {
     "name": "stdout",
     "output_type": "stream",
     "text": [
      "{'G_LR': '1e-3', 'D_LR': '1e-3', 'Epochs': 50, 'rows': 2627503, 'Effective Column Shapes': 0.636330437218641}\n"
     ]
    },
    {
     "name": "stderr",
     "output_type": "stream",
     "text": []
    },
    {
     "name": "stdout",
     "output_type": "stream",
     "text": [
      "{'G_LR': '1e-3', 'D_LR': '1e-3', 'Epochs': 100, 'rows': 3270257, 'Effective Column Shapes': 0.6849839238495109}\n"
     ]
    },
    {
     "name": "stderr",
     "output_type": "stream",
     "text": []
    },
    {
     "name": "stdout",
     "output_type": "stream",
     "text": [
      "{'G_LR': '1e-3', 'D_LR': '1e-3', 'Epochs': 150, 'rows': 3121424, 'Effective Column Shapes': 0.6800056901732322}\n"
     ]
    },
    {
     "name": "stderr",
     "output_type": "stream",
     "text": []
    },
    {
     "name": "stdout",
     "output_type": "stream",
     "text": [
      "{'G_LR': '1e-3', 'D_LR': '1e-3', 'Epochs': 200, 'rows': 3453259, 'Effective Column Shapes': 0.6871588401244703}\n"
     ]
    },
    {
     "name": "stderr",
     "output_type": "stream",
     "text": []
    },
    {
     "name": "stdout",
     "output_type": "stream",
     "text": [
      "{'G_LR': '1e-3', 'D_LR': '1e-3', 'Epochs': 250, 'rows': 3344698, 'Effective Column Shapes': 0.6815486425973}\n"
     ]
    },
    {
     "name": "stderr",
     "output_type": "stream",
     "text": [
      "1e-3_1e-3: 100%|██████████| 6/6 [02:52<00:00, 28.76s/it]\n",
      " 83%|████████▎ | 5/6 [11:39<02:32, 152.33s/it]"
     ]
    },
    {
     "name": "stdout",
     "output_type": "stream",
     "text": [
      "{'G_LR': '1e-3', 'D_LR': '1e-3', 'Epochs': 300, 'rows': 3623747, 'Effective Column Shapes': 0.6603156254770354}\n"
     ]
    },
    {
     "name": "stderr",
     "output_type": "stream",
     "text": []
    },
    {
     "name": "stdout",
     "output_type": "stream",
     "text": [
      "{'G_LR': '2e-3', 'D_LR': '1e-3', 'Epochs': 50, 'rows': 2639988, 'Effective Column Shapes': 0.6408260090856435}\n"
     ]
    },
    {
     "name": "stderr",
     "output_type": "stream",
     "text": []
    },
    {
     "name": "stdout",
     "output_type": "stream",
     "text": [
      "{'G_LR': '2e-3', 'D_LR': '1e-3', 'Epochs': 100, 'rows': 3505413, 'Effective Column Shapes': 0.6527663552170307}\n"
     ]
    },
    {
     "name": "stderr",
     "output_type": "stream",
     "text": []
    },
    {
     "name": "stdout",
     "output_type": "stream",
     "text": [
      "{'G_LR': '2e-3', 'D_LR': '1e-3', 'Epochs': 150, 'rows': 3475980, 'Effective Column Shapes': 0.6648791475080884}\n"
     ]
    },
    {
     "name": "stderr",
     "output_type": "stream",
     "text": []
    },
    {
     "name": "stdout",
     "output_type": "stream",
     "text": [
      "{'G_LR': '2e-3', 'D_LR': '1e-3', 'Epochs': 200, 'rows': 3605328, 'Effective Column Shapes': 0.667030811677317}\n"
     ]
    },
    {
     "name": "stderr",
     "output_type": "stream",
     "text": []
    },
    {
     "name": "stdout",
     "output_type": "stream",
     "text": [
      "{'G_LR': '2e-3', 'D_LR': '1e-3', 'Epochs': 250, 'rows': 3527166, 'Effective Column Shapes': 0.6579279130478715}\n"
     ]
    },
    {
     "name": "stderr",
     "output_type": "stream",
     "text": [
      "2e-3_1e-3: 100%|██████████| 6/6 [03:04<00:00, 30.77s/it]\n",
      "100%|██████████| 6/6 [14:43<00:00, 147.32s/it]"
     ]
    },
    {
     "name": "stdout",
     "output_type": "stream",
     "text": [
      "{'G_LR': '2e-3', 'D_LR': '1e-3', 'Epochs': 300, 'rows': 3658547, 'Effective Column Shapes': 0.6519255308760048}\n"
     ]
    },
    {
     "name": "stderr",
     "output_type": "stream",
     "text": [
      "\n"
     ]
    }
   ],
   "source": [
    "lr_sets = config['gan_lr_sets']\n",
    "filtered_res_df = pd.DataFrame(columns=['G_LR', 'D_LR', 'Epochs', 'rows', 'Effective Column Shapes'])\n",
    "for lrs in tqdm(lr_sets, total=len(lr_sets)):\n",
    "    for epoch in tqdm(range(50, config['gan_epochs']+1, 50), desc=f'{lrs[0]}_{lrs[1]}', total=len(range(50, config['gan_epochs']+1, 50))):\n",
    "        filtered_df_path = f'../outputs/augmented_data/{lrs[0]}_{lrs[1]}_{epoch}.parquet'\n",
    "        if not os.path.exists(filtered_df_path):\n",
    "            with custom_torch_load(map_location):\n",
    "                ctgan_synthesizer = CTGANSynthesizer.load(filepath=f'../checkpoints/cCTGAN/{lrs[0]}_{lrs[1]}_{epoch}.pkl')\n",
    "            print('Generating events...')\n",
    "            ctgan_synthetic_df = ctgan_synthesizer.sample(num_rows=5000000)\n",
    "            ctgan_synthetic_df[['x', 'y']] = scaler.inverse_transform(ctgan_synthetic_df[['x', 'y']])\n",
    "            ctgan_synthetic_gdf = gpd.GeoDataFrame(\n",
    "                ctgan_synthetic_df, \n",
    "                geometry=gpd.points_from_xy(ctgan_synthetic_df.x, ctgan_synthetic_df.y),\n",
    "                crs=coord_gdf.crs\n",
    "            )\n",
    "            print('Filtering...')\n",
    "            ctgan_synthetic_inbound_df = ctgan_synthetic_gdf.sjoin(coord_union_gdf, predicate='within').drop(columns=['geometry', 'index_right'])\n",
    "            ctgan_synthetic_inbound_df = filter_rows_by_condition(ctgan_synthetic_inbound_df).reset_index(drop=True)\n",
    "            ctgan_synthetic_inbound_df.to_parquet(filtered_df_path)\n",
    "        else:\n",
    "            ctgan_synthetic_inbound_df = pd.read_parquet(filtered_df_path)\n",
    "            ctgan_synthetic_inbound_df = filter_rows_by_condition(ctgan_synthetic_inbound_df).reset_index(drop=True)\n",
    "            ctgan_synthetic_inbound_df.to_parquet(filtered_df_path)\n",
    "        quality_report = evaluate_quality(\n",
    "            real_data=selected_events_df,\n",
    "            synthetic_data=ctgan_synthetic_inbound_df,\n",
    "            metadata=metadata, verbose=False)\n",
    "        q_res = dict(zip(filtered_res_df.columns, [lrs[0], lrs[1], epoch, len(ctgan_synthetic_inbound_df), quality_report.get_details(property_name='Column Shapes').iloc[2:]['Score'].mean()]))\n",
    "        filtered_res_df.loc[len(filtered_res_df)] = q_res\n",
    "        print(q_res)"
   ]
  },
  {
   "cell_type": "code",
   "execution_count": 29,
   "metadata": {},
   "outputs": [
    {
     "data": {
      "text/html": [
       "<div>\n",
       "<style scoped>\n",
       "    .dataframe tbody tr th:only-of-type {\n",
       "        vertical-align: middle;\n",
       "    }\n",
       "\n",
       "    .dataframe tbody tr th {\n",
       "        vertical-align: top;\n",
       "    }\n",
       "\n",
       "    .dataframe thead th {\n",
       "        text-align: right;\n",
       "    }\n",
       "</style>\n",
       "<table border=\"1\" class=\"dataframe\">\n",
       "  <thead>\n",
       "    <tr style=\"text-align: right;\">\n",
       "      <th></th>\n",
       "      <th>G_LR</th>\n",
       "      <th>D_LR</th>\n",
       "      <th>Epochs</th>\n",
       "      <th>rows</th>\n",
       "      <th>Effective Column Shapes</th>\n",
       "    </tr>\n",
       "  </thead>\n",
       "  <tbody>\n",
       "    <tr>\n",
       "      <th>0</th>\n",
       "      <td>1e-5</td>\n",
       "      <td>1e-5</td>\n",
       "      <td>50</td>\n",
       "      <td>1430918</td>\n",
       "      <td>0.682425</td>\n",
       "    </tr>\n",
       "    <tr>\n",
       "      <th>1</th>\n",
       "      <td>1e-5</td>\n",
       "      <td>1e-5</td>\n",
       "      <td>100</td>\n",
       "      <td>1336744</td>\n",
       "      <td>0.695435</td>\n",
       "    </tr>\n",
       "    <tr>\n",
       "      <th>2</th>\n",
       "      <td>1e-5</td>\n",
       "      <td>1e-5</td>\n",
       "      <td>150</td>\n",
       "      <td>1562910</td>\n",
       "      <td>0.660813</td>\n",
       "    </tr>\n",
       "    <tr>\n",
       "      <th>3</th>\n",
       "      <td>1e-5</td>\n",
       "      <td>1e-5</td>\n",
       "      <td>200</td>\n",
       "      <td>1879505</td>\n",
       "      <td>0.653830</td>\n",
       "    </tr>\n",
       "    <tr>\n",
       "      <th>4</th>\n",
       "      <td>1e-5</td>\n",
       "      <td>1e-5</td>\n",
       "      <td>250</td>\n",
       "      <td>2260463</td>\n",
       "      <td>0.634244</td>\n",
       "    </tr>\n",
       "    <tr>\n",
       "      <th>5</th>\n",
       "      <td>1e-5</td>\n",
       "      <td>1e-5</td>\n",
       "      <td>300</td>\n",
       "      <td>2340584</td>\n",
       "      <td>0.653380</td>\n",
       "    </tr>\n",
       "    <tr>\n",
       "      <th>6</th>\n",
       "      <td>2e-5</td>\n",
       "      <td>1e-5</td>\n",
       "      <td>50</td>\n",
       "      <td>1096384</td>\n",
       "      <td>0.674175</td>\n",
       "    </tr>\n",
       "    <tr>\n",
       "      <th>7</th>\n",
       "      <td>2e-5</td>\n",
       "      <td>1e-5</td>\n",
       "      <td>100</td>\n",
       "      <td>1372080</td>\n",
       "      <td>0.666028</td>\n",
       "    </tr>\n",
       "    <tr>\n",
       "      <th>8</th>\n",
       "      <td>2e-5</td>\n",
       "      <td>1e-5</td>\n",
       "      <td>150</td>\n",
       "      <td>1845113</td>\n",
       "      <td>0.651756</td>\n",
       "    </tr>\n",
       "    <tr>\n",
       "      <th>9</th>\n",
       "      <td>2e-5</td>\n",
       "      <td>1e-5</td>\n",
       "      <td>200</td>\n",
       "      <td>2059336</td>\n",
       "      <td>0.625103</td>\n",
       "    </tr>\n",
       "    <tr>\n",
       "      <th>10</th>\n",
       "      <td>2e-5</td>\n",
       "      <td>1e-5</td>\n",
       "      <td>250</td>\n",
       "      <td>2280166</td>\n",
       "      <td>0.626113</td>\n",
       "    </tr>\n",
       "    <tr>\n",
       "      <th>11</th>\n",
       "      <td>2e-5</td>\n",
       "      <td>1e-5</td>\n",
       "      <td>300</td>\n",
       "      <td>2292918</td>\n",
       "      <td>0.656794</td>\n",
       "    </tr>\n",
       "    <tr>\n",
       "      <th>12</th>\n",
       "      <td>1e-4</td>\n",
       "      <td>1e-4</td>\n",
       "      <td>50</td>\n",
       "      <td>2312617</td>\n",
       "      <td>0.642376</td>\n",
       "    </tr>\n",
       "    <tr>\n",
       "      <th>13</th>\n",
       "      <td>1e-4</td>\n",
       "      <td>1e-4</td>\n",
       "      <td>100</td>\n",
       "      <td>2555992</td>\n",
       "      <td>0.676807</td>\n",
       "    </tr>\n",
       "    <tr>\n",
       "      <th>14</th>\n",
       "      <td>1e-4</td>\n",
       "      <td>1e-4</td>\n",
       "      <td>150</td>\n",
       "      <td>3307236</td>\n",
       "      <td>0.663414</td>\n",
       "    </tr>\n",
       "    <tr>\n",
       "      <th>15</th>\n",
       "      <td>1e-4</td>\n",
       "      <td>1e-4</td>\n",
       "      <td>200</td>\n",
       "      <td>3315483</td>\n",
       "      <td>0.677535</td>\n",
       "    </tr>\n",
       "    <tr>\n",
       "      <th>16</th>\n",
       "      <td>1e-4</td>\n",
       "      <td>1e-4</td>\n",
       "      <td>250</td>\n",
       "      <td>3409169</td>\n",
       "      <td>0.664509</td>\n",
       "    </tr>\n",
       "    <tr>\n",
       "      <th>17</th>\n",
       "      <td>1e-4</td>\n",
       "      <td>1e-4</td>\n",
       "      <td>300</td>\n",
       "      <td>3412617</td>\n",
       "      <td>0.670137</td>\n",
       "    </tr>\n",
       "    <tr>\n",
       "      <th>18</th>\n",
       "      <td>2e-4</td>\n",
       "      <td>1e-4</td>\n",
       "      <td>50</td>\n",
       "      <td>2286237</td>\n",
       "      <td>0.609899</td>\n",
       "    </tr>\n",
       "    <tr>\n",
       "      <th>19</th>\n",
       "      <td>2e-4</td>\n",
       "      <td>1e-4</td>\n",
       "      <td>100</td>\n",
       "      <td>2730107</td>\n",
       "      <td>0.635414</td>\n",
       "    </tr>\n",
       "    <tr>\n",
       "      <th>20</th>\n",
       "      <td>2e-4</td>\n",
       "      <td>1e-4</td>\n",
       "      <td>150</td>\n",
       "      <td>2970573</td>\n",
       "      <td>0.661684</td>\n",
       "    </tr>\n",
       "    <tr>\n",
       "      <th>21</th>\n",
       "      <td>2e-4</td>\n",
       "      <td>1e-4</td>\n",
       "      <td>200</td>\n",
       "      <td>3183452</td>\n",
       "      <td>0.682025</td>\n",
       "    </tr>\n",
       "    <tr>\n",
       "      <th>22</th>\n",
       "      <td>2e-4</td>\n",
       "      <td>1e-4</td>\n",
       "      <td>250</td>\n",
       "      <td>3499365</td>\n",
       "      <td>0.665514</td>\n",
       "    </tr>\n",
       "    <tr>\n",
       "      <th>23</th>\n",
       "      <td>2e-4</td>\n",
       "      <td>1e-4</td>\n",
       "      <td>300</td>\n",
       "      <td>3396961</td>\n",
       "      <td>0.681382</td>\n",
       "    </tr>\n",
       "    <tr>\n",
       "      <th>24</th>\n",
       "      <td>1e-3</td>\n",
       "      <td>1e-3</td>\n",
       "      <td>50</td>\n",
       "      <td>2627503</td>\n",
       "      <td>0.636330</td>\n",
       "    </tr>\n",
       "    <tr>\n",
       "      <th>25</th>\n",
       "      <td>1e-3</td>\n",
       "      <td>1e-3</td>\n",
       "      <td>100</td>\n",
       "      <td>3270257</td>\n",
       "      <td>0.684984</td>\n",
       "    </tr>\n",
       "    <tr>\n",
       "      <th>26</th>\n",
       "      <td>1e-3</td>\n",
       "      <td>1e-3</td>\n",
       "      <td>150</td>\n",
       "      <td>3121424</td>\n",
       "      <td>0.680006</td>\n",
       "    </tr>\n",
       "    <tr>\n",
       "      <th>27</th>\n",
       "      <td>1e-3</td>\n",
       "      <td>1e-3</td>\n",
       "      <td>200</td>\n",
       "      <td>3453259</td>\n",
       "      <td>0.687159</td>\n",
       "    </tr>\n",
       "    <tr>\n",
       "      <th>28</th>\n",
       "      <td>1e-3</td>\n",
       "      <td>1e-3</td>\n",
       "      <td>250</td>\n",
       "      <td>3344698</td>\n",
       "      <td>0.681549</td>\n",
       "    </tr>\n",
       "    <tr>\n",
       "      <th>29</th>\n",
       "      <td>1e-3</td>\n",
       "      <td>1e-3</td>\n",
       "      <td>300</td>\n",
       "      <td>3623747</td>\n",
       "      <td>0.660316</td>\n",
       "    </tr>\n",
       "    <tr>\n",
       "      <th>30</th>\n",
       "      <td>2e-3</td>\n",
       "      <td>1e-3</td>\n",
       "      <td>50</td>\n",
       "      <td>2639988</td>\n",
       "      <td>0.640826</td>\n",
       "    </tr>\n",
       "    <tr>\n",
       "      <th>31</th>\n",
       "      <td>2e-3</td>\n",
       "      <td>1e-3</td>\n",
       "      <td>100</td>\n",
       "      <td>3505413</td>\n",
       "      <td>0.652766</td>\n",
       "    </tr>\n",
       "    <tr>\n",
       "      <th>32</th>\n",
       "      <td>2e-3</td>\n",
       "      <td>1e-3</td>\n",
       "      <td>150</td>\n",
       "      <td>3475980</td>\n",
       "      <td>0.664879</td>\n",
       "    </tr>\n",
       "    <tr>\n",
       "      <th>33</th>\n",
       "      <td>2e-3</td>\n",
       "      <td>1e-3</td>\n",
       "      <td>200</td>\n",
       "      <td>3605328</td>\n",
       "      <td>0.667031</td>\n",
       "    </tr>\n",
       "    <tr>\n",
       "      <th>34</th>\n",
       "      <td>2e-3</td>\n",
       "      <td>1e-3</td>\n",
       "      <td>250</td>\n",
       "      <td>3527166</td>\n",
       "      <td>0.657928</td>\n",
       "    </tr>\n",
       "    <tr>\n",
       "      <th>35</th>\n",
       "      <td>2e-3</td>\n",
       "      <td>1e-3</td>\n",
       "      <td>300</td>\n",
       "      <td>3658547</td>\n",
       "      <td>0.651926</td>\n",
       "    </tr>\n",
       "  </tbody>\n",
       "</table>\n",
       "</div>"
      ],
      "text/plain": [
       "    G_LR  D_LR  Epochs     rows  Effective Column Shapes\n",
       "0   1e-5  1e-5      50  1430918                 0.682425\n",
       "1   1e-5  1e-5     100  1336744                 0.695435\n",
       "2   1e-5  1e-5     150  1562910                 0.660813\n",
       "3   1e-5  1e-5     200  1879505                 0.653830\n",
       "4   1e-5  1e-5     250  2260463                 0.634244\n",
       "5   1e-5  1e-5     300  2340584                 0.653380\n",
       "6   2e-5  1e-5      50  1096384                 0.674175\n",
       "7   2e-5  1e-5     100  1372080                 0.666028\n",
       "8   2e-5  1e-5     150  1845113                 0.651756\n",
       "9   2e-5  1e-5     200  2059336                 0.625103\n",
       "10  2e-5  1e-5     250  2280166                 0.626113\n",
       "11  2e-5  1e-5     300  2292918                 0.656794\n",
       "12  1e-4  1e-4      50  2312617                 0.642376\n",
       "13  1e-4  1e-4     100  2555992                 0.676807\n",
       "14  1e-4  1e-4     150  3307236                 0.663414\n",
       "15  1e-4  1e-4     200  3315483                 0.677535\n",
       "16  1e-4  1e-4     250  3409169                 0.664509\n",
       "17  1e-4  1e-4     300  3412617                 0.670137\n",
       "18  2e-4  1e-4      50  2286237                 0.609899\n",
       "19  2e-4  1e-4     100  2730107                 0.635414\n",
       "20  2e-4  1e-4     150  2970573                 0.661684\n",
       "21  2e-4  1e-4     200  3183452                 0.682025\n",
       "22  2e-4  1e-4     250  3499365                 0.665514\n",
       "23  2e-4  1e-4     300  3396961                 0.681382\n",
       "24  1e-3  1e-3      50  2627503                 0.636330\n",
       "25  1e-3  1e-3     100  3270257                 0.684984\n",
       "26  1e-3  1e-3     150  3121424                 0.680006\n",
       "27  1e-3  1e-3     200  3453259                 0.687159\n",
       "28  1e-3  1e-3     250  3344698                 0.681549\n",
       "29  1e-3  1e-3     300  3623747                 0.660316\n",
       "30  2e-3  1e-3      50  2639988                 0.640826\n",
       "31  2e-3  1e-3     100  3505413                 0.652766\n",
       "32  2e-3  1e-3     150  3475980                 0.664879\n",
       "33  2e-3  1e-3     200  3605328                 0.667031\n",
       "34  2e-3  1e-3     250  3527166                 0.657928\n",
       "35  2e-3  1e-3     300  3658547                 0.651926"
      ]
     },
     "execution_count": 29,
     "metadata": {},
     "output_type": "execute_result"
    }
   ],
   "source": [
    "filtered_res_df"
   ]
  },
  {
   "cell_type": "code",
   "execution_count": 30,
   "metadata": {},
   "outputs": [
    {
     "data": {
      "image/png": "[encoded data removed]",
      "text/plain": [
       "<Figure size 800x400 with 1 Axes>"
      ]
     },
     "metadata": {},
     "output_type": "display_data"
    }
   ],
   "source": [
    "# Group by G_LR and D_LR\n",
    "grouped = filtered_res_df.groupby(['G_LR', 'D_LR'])\n",
    "\n",
    "# Plot\n",
    "plt.figure(figsize=(8, 4))\n",
    "for (g_lr, d_lr), group in grouped:\n",
    "    sns.lineplot(x='Epochs', y='Effective Column Shapes', data=group, label=f'G_LR: {g_lr}, D_LR: {d_lr}')\n",
    "\n",
    "    # Find the max Effective Column Shapes point\n",
    "    max_row = group.loc[group['Effective Column Shapes'].idxmax()]\n",
    "    max_epoch = max_row['Epochs']\n",
    "    max_shape = max_row['Effective Column Shapes']\n",
    "\n",
    "    # Highlight and annotate the max point\n",
    "    plt.scatter(max_epoch, max_shape, color='red')\n",
    "    plt.text(max_epoch, max_shape, f'({int(max_epoch)}, {round(max_shape, 4)})', color='red', ha='right')\n",
    "\n",
    "plt.xlabel('Epochs')\n",
    "plt.ylabel('Effective Column Shapes')\n",
    "plt.title('Effective Column Shapes over Epochs for Each G_LR and D_LR Pair')\n",
    "plt.legend(title='Learning Rates', loc='lower right')\n",
    "plt.show()"
   ]
  },
  {
   "cell_type": "code",
   "execution_count": null,
   "metadata": {},
   "outputs": [],
   "source": []
  },
  {
   "cell_type": "code",
   "execution_count": 31,
   "metadata": {},
   "outputs": [],
   "source": [
    "ctgan_synthetic_df = pd.read_parquet(f'../outputs/augmented_data/1e-5_1e-5_100.parquet')\n",
    "ctgan_synthetic_gdf = gpd.GeoDataFrame(\n",
    "    ctgan_synthetic_df, \n",
    "    geometry=gpd.points_from_xy(ctgan_synthetic_df.x, ctgan_synthetic_df.y),\n",
    "    crs=coord_gdf.crs\n",
    ")"
   ]
  },
  {
   "cell_type": "code",
   "execution_count": 32,
   "metadata": {},
   "outputs": [
    {
     "data": {
      "text/html": [
       "<div>\n",
       "<style scoped>\n",
       "    .dataframe tbody tr th:only-of-type {\n",
       "        vertical-align: middle;\n",
       "    }\n",
       "\n",
       "    .dataframe tbody tr th {\n",
       "        vertical-align: top;\n",
       "    }\n",
       "\n",
       "    .dataframe thead th {\n",
       "        text-align: right;\n",
       "    }\n",
       "</style>\n",
       "<table border=\"1\" class=\"dataframe\">\n",
       "  <thead>\n",
       "    <tr style=\"text-align: right;\">\n",
       "      <th></th>\n",
       "      <th>x</th>\n",
       "      <th>y</th>\n",
       "      <th>cumu_rain</th>\n",
       "      <th>peak_int</th>\n",
       "      <th>duration</th>\n",
       "      <th>geometry</th>\n",
       "    </tr>\n",
       "  </thead>\n",
       "  <tbody>\n",
       "    <tr>\n",
       "      <th>0</th>\n",
       "      <td>3.050233e+06</td>\n",
       "      <td>1.381899e+07</td>\n",
       "      <td>1.420688</td>\n",
       "      <td>1.234107</td>\n",
       "      <td>3</td>\n",
       "      <td>POINT (3050233.332 13818992.245)</td>\n",
       "    </tr>\n",
       "    <tr>\n",
       "      <th>1</th>\n",
       "      <td>3.033133e+06</td>\n",
       "      <td>1.393404e+07</td>\n",
       "      <td>1.775760</td>\n",
       "      <td>0.611335</td>\n",
       "      <td>4</td>\n",
       "      <td>POINT (3033132.904 13934039.681)</td>\n",
       "    </tr>\n",
       "    <tr>\n",
       "      <th>2</th>\n",
       "      <td>3.067882e+06</td>\n",
       "      <td>1.385062e+07</td>\n",
       "      <td>13.358316</td>\n",
       "      <td>0.964806</td>\n",
       "      <td>16</td>\n",
       "      <td>POINT (3067882.418 13850621.702)</td>\n",
       "    </tr>\n",
       "    <tr>\n",
       "      <th>3</th>\n",
       "      <td>3.122392e+06</td>\n",
       "      <td>1.394752e+07</td>\n",
       "      <td>3.713448</td>\n",
       "      <td>3.316965</td>\n",
       "      <td>5</td>\n",
       "      <td>POINT (3122392.090 13947521.928)</td>\n",
       "    </tr>\n",
       "    <tr>\n",
       "      <th>4</th>\n",
       "      <td>3.068903e+06</td>\n",
       "      <td>1.393315e+07</td>\n",
       "      <td>4.668564</td>\n",
       "      <td>3.269290</td>\n",
       "      <td>2</td>\n",
       "      <td>POINT (3068902.846 13933147.302)</td>\n",
       "    </tr>\n",
       "    <tr>\n",
       "      <th>...</th>\n",
       "      <td>...</td>\n",
       "      <td>...</td>\n",
       "      <td>...</td>\n",
       "      <td>...</td>\n",
       "      <td>...</td>\n",
       "      <td>...</td>\n",
       "    </tr>\n",
       "    <tr>\n",
       "      <th>1336739</th>\n",
       "      <td>3.140675e+06</td>\n",
       "      <td>1.380057e+07</td>\n",
       "      <td>11.108876</td>\n",
       "      <td>0.830289</td>\n",
       "      <td>14</td>\n",
       "      <td>POINT (3140674.842 13800569.726)</td>\n",
       "    </tr>\n",
       "    <tr>\n",
       "      <th>1336740</th>\n",
       "      <td>3.028429e+06</td>\n",
       "      <td>1.383711e+07</td>\n",
       "      <td>2.322597</td>\n",
       "      <td>1.028067</td>\n",
       "      <td>14</td>\n",
       "      <td>POINT (3028428.816 13837110.386)</td>\n",
       "    </tr>\n",
       "    <tr>\n",
       "      <th>1336741</th>\n",
       "      <td>3.064912e+06</td>\n",
       "      <td>1.393553e+07</td>\n",
       "      <td>0.962017</td>\n",
       "      <td>0.458361</td>\n",
       "      <td>5</td>\n",
       "      <td>POINT (3064912.483 13935532.356)</td>\n",
       "    </tr>\n",
       "    <tr>\n",
       "      <th>1336742</th>\n",
       "      <td>3.095526e+06</td>\n",
       "      <td>1.393117e+07</td>\n",
       "      <td>1.501505</td>\n",
       "      <td>0.936743</td>\n",
       "      <td>5</td>\n",
       "      <td>POINT (3095525.949 13931170.485)</td>\n",
       "    </tr>\n",
       "    <tr>\n",
       "      <th>1336743</th>\n",
       "      <td>2.931958e+06</td>\n",
       "      <td>1.391420e+07</td>\n",
       "      <td>6.504987</td>\n",
       "      <td>1.333369</td>\n",
       "      <td>6</td>\n",
       "      <td>POINT (2931958.164 13914204.147)</td>\n",
       "    </tr>\n",
       "  </tbody>\n",
       "</table>\n",
       "<p>1336744 rows × 6 columns</p>\n",
       "</div>"
      ],
      "text/plain": [
       "                    x             y  cumu_rain  peak_int  duration  \\\n",
       "0        3.050233e+06  1.381899e+07   1.420688  1.234107         3   \n",
       "1        3.033133e+06  1.393404e+07   1.775760  0.611335         4   \n",
       "2        3.067882e+06  1.385062e+07  13.358316  0.964806        16   \n",
       "3        3.122392e+06  1.394752e+07   3.713448  3.316965         5   \n",
       "4        3.068903e+06  1.393315e+07   4.668564  3.269290         2   \n",
       "...               ...           ...        ...       ...       ...   \n",
       "1336739  3.140675e+06  1.380057e+07  11.108876  0.830289        14   \n",
       "1336740  3.028429e+06  1.383711e+07   2.322597  1.028067        14   \n",
       "1336741  3.064912e+06  1.393553e+07   0.962017  0.458361         5   \n",
       "1336742  3.095526e+06  1.393117e+07   1.501505  0.936743         5   \n",
       "1336743  2.931958e+06  1.391420e+07   6.504987  1.333369         6   \n",
       "\n",
       "                                 geometry  \n",
       "0        POINT (3050233.332 13818992.245)  \n",
       "1        POINT (3033132.904 13934039.681)  \n",
       "2        POINT (3067882.418 13850621.702)  \n",
       "3        POINT (3122392.090 13947521.928)  \n",
       "4        POINT (3068902.846 13933147.302)  \n",
       "...                                   ...  \n",
       "1336739  POINT (3140674.842 13800569.726)  \n",
       "1336740  POINT (3028428.816 13837110.386)  \n",
       "1336741  POINT (3064912.483 13935532.356)  \n",
       "1336742  POINT (3095525.949 13931170.485)  \n",
       "1336743  POINT (2931958.164 13914204.147)  \n",
       "\n",
       "[1336744 rows x 6 columns]"
      ]
     },
     "execution_count": 32,
     "metadata": {},
     "output_type": "execute_result"
    }
   ],
   "source": [
    "ctgan_synthetic_gdf"
   ]
  },
  {
   "cell_type": "code",
   "execution_count": 36,
   "metadata": {},
   "outputs": [
    {
     "data": {
      "text/html": [
       "<iframe\n",
       "    scrolling=\"no\"\n",
       "    width=\"100%\"\n",
       "    height=\"545px\"\n",
       "    src=\"iframe_figures/figure_36.html\"\n",
       "    frameborder=\"0\"\n",
       "    allowfullscreen\n",
       "></iframe>\n"
      ]
     },
     "metadata": {},
     "output_type": "display_data"
    }
   ],
   "source": [
    "get_column_plot(\n",
    "    real_data=selected_events_df,\n",
    "    synthetic_data=ctgan_synthetic_gdf.drop(columns=['geometry']),\n",
    "    metadata=metadata,\n",
    "    column_name='cumu_rain'\n",
    ").show()"
   ]
  },
  {
   "cell_type": "code",
   "execution_count": 37,
   "metadata": {},
   "outputs": [
    {
     "data": {
      "text/html": [
       "<iframe\n",
       "    scrolling=\"no\"\n",
       "    width=\"100%\"\n",
       "    height=\"545px\"\n",
       "    src=\"iframe_figures/figure_37.html\"\n",
       "    frameborder=\"0\"\n",
       "    allowfullscreen\n",
       "></iframe>\n"
      ]
     },
     "metadata": {},
     "output_type": "display_data"
    }
   ],
   "source": [
    "get_column_plot(\n",
    "    real_data=selected_events_df,\n",
    "    synthetic_data=ctgan_synthetic_gdf.drop(columns=['geometry']),\n",
    "    metadata=metadata,\n",
    "    column_name='peak_int'\n",
    ").show()"
   ]
  },
  {
   "cell_type": "code",
   "execution_count": 38,
   "metadata": {},
   "outputs": [
    {
     "data": {
      "text/html": [
       "<iframe\n",
       "    scrolling=\"no\"\n",
       "    width=\"100%\"\n",
       "    height=\"545px\"\n",
       "    src=\"iframe_figures/figure_38.html\"\n",
       "    frameborder=\"0\"\n",
       "    allowfullscreen\n",
       "></iframe>\n"
      ]
     },
     "metadata": {},
     "output_type": "display_data"
    }
   ],
   "source": [
    "get_column_plot(\n",
    "    real_data=selected_events_df,\n",
    "    synthetic_data=ctgan_synthetic_gdf.drop(columns=['geometry']),\n",
    "    metadata=metadata,\n",
    "    column_name='duration'\n",
    ").show()"
   ]
  },
  {
   "cell_type": "code",
   "execution_count": 39,
   "metadata": {},
   "outputs": [],
   "source": [
    "coord_dgdf = dgpd.from_geopandas(coord_gdf, npartitions=10)\n",
    "ctgan_synthetic_dgdf = dgpd.from_geopandas(ctgan_synthetic_gdf, npartitions=500)"
   ]
  },
  {
   "cell_type": "code",
   "execution_count": 40,
   "metadata": {},
   "outputs": [],
   "source": [
    "ctgan_synthetic_feat_static_dgdf = ctgan_synthetic_dgdf.sjoin(coord_dgdf[['channel', 'ter', 'geometry']], predicate='within')"
   ]
  },
  {
   "cell_type": "code",
   "execution_count": 41,
   "metadata": {},
   "outputs": [],
   "source": [
    "ctgan_synthetic_feat_static_gdf = ctgan_synthetic_feat_static_dgdf.compute()"
   ]
  },
  {
   "cell_type": "code",
   "execution_count": 42,
   "metadata": {},
   "outputs": [],
   "source": [
    "ctgan_synthetic_feat_static_gdf = ctgan_synthetic_feat_static_gdf.drop(columns=['index_right'])"
   ]
  },
  {
   "cell_type": "code",
   "execution_count": 43,
   "metadata": {},
   "outputs": [
    {
     "data": {
      "text/html": [
       "<div>\n",
       "<style scoped>\n",
       "    .dataframe tbody tr th:only-of-type {\n",
       "        vertical-align: middle;\n",
       "    }\n",
       "\n",
       "    .dataframe tbody tr th {\n",
       "        vertical-align: top;\n",
       "    }\n",
       "\n",
       "    .dataframe thead th {\n",
       "        text-align: right;\n",
       "    }\n",
       "</style>\n",
       "<table border=\"1\" class=\"dataframe\">\n",
       "  <thead>\n",
       "    <tr style=\"text-align: right;\">\n",
       "      <th></th>\n",
       "      <th>x</th>\n",
       "      <th>y</th>\n",
       "      <th>cumu_rain</th>\n",
       "      <th>peak_int</th>\n",
       "      <th>duration</th>\n",
       "      <th>geometry</th>\n",
       "      <th>channel</th>\n",
       "      <th>ter</th>\n",
       "    </tr>\n",
       "  </thead>\n",
       "  <tbody>\n",
       "    <tr>\n",
       "      <th>3</th>\n",
       "      <td>3.122392e+06</td>\n",
       "      <td>1.394752e+07</td>\n",
       "      <td>3.713448</td>\n",
       "      <td>3.316965</td>\n",
       "      <td>5</td>\n",
       "      <td>POINT (3122392.090 13947521.928)</td>\n",
       "      <td>0</td>\n",
       "      <td>90.984207</td>\n",
       "    </tr>\n",
       "    <tr>\n",
       "      <th>4</th>\n",
       "      <td>3.068903e+06</td>\n",
       "      <td>1.393315e+07</td>\n",
       "      <td>4.668564</td>\n",
       "      <td>3.269290</td>\n",
       "      <td>2</td>\n",
       "      <td>POINT (3068902.846 13933147.302)</td>\n",
       "      <td>0</td>\n",
       "      <td>106.370415</td>\n",
       "    </tr>\n",
       "    <tr>\n",
       "      <th>20</th>\n",
       "      <td>3.033544e+06</td>\n",
       "      <td>1.394389e+07</td>\n",
       "      <td>1.984802</td>\n",
       "      <td>1.585991</td>\n",
       "      <td>14</td>\n",
       "      <td>POINT (3033544.231 13943885.726)</td>\n",
       "      <td>0</td>\n",
       "      <td>164.404495</td>\n",
       "    </tr>\n",
       "    <tr>\n",
       "      <th>30</th>\n",
       "      <td>3.033464e+06</td>\n",
       "      <td>1.393909e+07</td>\n",
       "      <td>0.941279</td>\n",
       "      <td>0.395483</td>\n",
       "      <td>5</td>\n",
       "      <td>POINT (3033464.060 13939088.377)</td>\n",
       "      <td>0</td>\n",
       "      <td>157.055893</td>\n",
       "    </tr>\n",
       "    <tr>\n",
       "      <th>43</th>\n",
       "      <td>3.000083e+06</td>\n",
       "      <td>1.393516e+07</td>\n",
       "      <td>5.070308</td>\n",
       "      <td>2.681067</td>\n",
       "      <td>6</td>\n",
       "      <td>POINT (3000083.494 13935157.633)</td>\n",
       "      <td>0</td>\n",
       "      <td>174.948807</td>\n",
       "    </tr>\n",
       "    <tr>\n",
       "      <th>...</th>\n",
       "      <td>...</td>\n",
       "      <td>...</td>\n",
       "      <td>...</td>\n",
       "      <td>...</td>\n",
       "      <td>...</td>\n",
       "      <td>...</td>\n",
       "      <td>...</td>\n",
       "      <td>...</td>\n",
       "    </tr>\n",
       "    <tr>\n",
       "      <th>1336688</th>\n",
       "      <td>3.066836e+06</td>\n",
       "      <td>1.390885e+07</td>\n",
       "      <td>1.219238</td>\n",
       "      <td>0.769866</td>\n",
       "      <td>4</td>\n",
       "      <td>POINT (3066836.304 13908854.476)</td>\n",
       "      <td>1</td>\n",
       "      <td>100.226967</td>\n",
       "    </tr>\n",
       "    <tr>\n",
       "      <th>1336695</th>\n",
       "      <td>3.164059e+06</td>\n",
       "      <td>1.391041e+07</td>\n",
       "      <td>3.903505</td>\n",
       "      <td>0.698521</td>\n",
       "      <td>6</td>\n",
       "      <td>POINT (3164058.607 13910412.494)</td>\n",
       "      <td>1</td>\n",
       "      <td>40.256813</td>\n",
       "    </tr>\n",
       "    <tr>\n",
       "      <th>1336712</th>\n",
       "      <td>3.092509e+06</td>\n",
       "      <td>1.386748e+07</td>\n",
       "      <td>7.844639</td>\n",
       "      <td>2.103962</td>\n",
       "      <td>5</td>\n",
       "      <td>POINT (3092509.418 13867483.899)</td>\n",
       "      <td>1</td>\n",
       "      <td>38.867851</td>\n",
       "    </tr>\n",
       "    <tr>\n",
       "      <th>1336727</th>\n",
       "      <td>3.084451e+06</td>\n",
       "      <td>1.390820e+07</td>\n",
       "      <td>2.645236</td>\n",
       "      <td>0.734870</td>\n",
       "      <td>9</td>\n",
       "      <td>POINT (3084451.493 13908204.598)</td>\n",
       "      <td>1</td>\n",
       "      <td>84.812500</td>\n",
       "    </tr>\n",
       "    <tr>\n",
       "      <th>1336732</th>\n",
       "      <td>3.046001e+06</td>\n",
       "      <td>1.393646e+07</td>\n",
       "      <td>5.413745</td>\n",
       "      <td>2.718468</td>\n",
       "      <td>5</td>\n",
       "      <td>POINT (3046001.071 13936459.369)</td>\n",
       "      <td>1</td>\n",
       "      <td>138.093750</td>\n",
       "    </tr>\n",
       "  </tbody>\n",
       "</table>\n",
       "<p>1336620 rows × 8 columns</p>\n",
       "</div>"
      ],
      "text/plain": [
       "                    x             y  cumu_rain  peak_int  duration  \\\n",
       "3        3.122392e+06  1.394752e+07   3.713448  3.316965         5   \n",
       "4        3.068903e+06  1.393315e+07   4.668564  3.269290         2   \n",
       "20       3.033544e+06  1.394389e+07   1.984802  1.585991        14   \n",
       "30       3.033464e+06  1.393909e+07   0.941279  0.395483         5   \n",
       "43       3.000083e+06  1.393516e+07   5.070308  2.681067         6   \n",
       "...               ...           ...        ...       ...       ...   \n",
       "1336688  3.066836e+06  1.390885e+07   1.219238  0.769866         4   \n",
       "1336695  3.164059e+06  1.391041e+07   3.903505  0.698521         6   \n",
       "1336712  3.092509e+06  1.386748e+07   7.844639  2.103962         5   \n",
       "1336727  3.084451e+06  1.390820e+07   2.645236  0.734870         9   \n",
       "1336732  3.046001e+06  1.393646e+07   5.413745  2.718468         5   \n",
       "\n",
       "                                 geometry  channel         ter  \n",
       "3        POINT (3122392.090 13947521.928)        0   90.984207  \n",
       "4        POINT (3068902.846 13933147.302)        0  106.370415  \n",
       "20       POINT (3033544.231 13943885.726)        0  164.404495  \n",
       "30       POINT (3033464.060 13939088.377)        0  157.055893  \n",
       "43       POINT (3000083.494 13935157.633)        0  174.948807  \n",
       "...                                   ...      ...         ...  \n",
       "1336688  POINT (3066836.304 13908854.476)        1  100.226967  \n",
       "1336695  POINT (3164058.607 13910412.494)        1   40.256813  \n",
       "1336712  POINT (3092509.418 13867483.899)        1   38.867851  \n",
       "1336727  POINT (3084451.493 13908204.598)        1   84.812500  \n",
       "1336732  POINT (3046001.071 13936459.369)        1  138.093750  \n",
       "\n",
       "[1336620 rows x 8 columns]"
      ]
     },
     "execution_count": 43,
     "metadata": {},
     "output_type": "execute_result"
    }
   ],
   "source": [
    "ctgan_synthetic_feat_static_gdf"
   ]
  },
  {
   "cell_type": "code",
   "execution_count": 49,
   "metadata": {},
   "outputs": [],
   "source": [
    "pred_tensor = torch.tensor(ctgan_synthetic_feat_static_gdf[['channel', 'ter', 'cumu_rain', 'peak_int', 'duration']].values, dtype=torch.float32).to(device)"
   ]
  },
  {
   "cell_type": "code",
   "execution_count": 50,
   "metadata": {},
   "outputs": [
    {
     "name": "stderr",
     "output_type": "stream",
     "text": [
      "100%|██████████| 1337/1337 [00:07<00:00, 179.75it/s]\n"
     ]
    }
   ],
   "source": [
    "batch_size = 1000\n",
    "n_samples = pred_tensor.size(0)\n",
    "predictions = []\n",
    "\n",
    "model.eval()\n",
    "\n",
    "with torch.no_grad(): \n",
    "    for i in trange(0, n_samples, batch_size):\n",
    "        batch = pred_tensor[i:i+batch_size]\n",
    "        batch_predictions = model(batch)\n",
    "        predictions.append(batch_predictions)\n",
    "\n",
    "predictions = torch.cat(predictions, dim=0)\n",
    "\n",
    "predictions = predictions.cpu().numpy()"
   ]
  },
  {
   "cell_type": "code",
   "execution_count": 51,
   "metadata": {},
   "outputs": [],
   "source": [
    "ctgan_synthetic_feat_static_gdf['syn_depth'] = predictions"
   ]
  },
  {
   "cell_type": "code",
   "execution_count": 52,
   "metadata": {},
   "outputs": [
    {
     "data": {
      "text/html": [
       "<div>\n",
       "<style scoped>\n",
       "    .dataframe tbody tr th:only-of-type {\n",
       "        vertical-align: middle;\n",
       "    }\n",
       "\n",
       "    .dataframe tbody tr th {\n",
       "        vertical-align: top;\n",
       "    }\n",
       "\n",
       "    .dataframe thead th {\n",
       "        text-align: right;\n",
       "    }\n",
       "</style>\n",
       "<table border=\"1\" class=\"dataframe\">\n",
       "  <thead>\n",
       "    <tr style=\"text-align: right;\">\n",
       "      <th></th>\n",
       "      <th>x</th>\n",
       "      <th>y</th>\n",
       "      <th>cumu_rain</th>\n",
       "      <th>peak_int</th>\n",
       "      <th>duration</th>\n",
       "      <th>geometry</th>\n",
       "      <th>channel</th>\n",
       "      <th>ter</th>\n",
       "      <th>syn_depth</th>\n",
       "    </tr>\n",
       "  </thead>\n",
       "  <tbody>\n",
       "    <tr>\n",
       "      <th>3</th>\n",
       "      <td>3.122392e+06</td>\n",
       "      <td>1.394752e+07</td>\n",
       "      <td>3.713448</td>\n",
       "      <td>3.316965</td>\n",
       "      <td>5</td>\n",
       "      <td>POINT (3122392.090 13947521.928)</td>\n",
       "      <td>0</td>\n",
       "      <td>90.984207</td>\n",
       "      <td>1.872441</td>\n",
       "    </tr>\n",
       "    <tr>\n",
       "      <th>4</th>\n",
       "      <td>3.068903e+06</td>\n",
       "      <td>1.393315e+07</td>\n",
       "      <td>4.668564</td>\n",
       "      <td>3.269290</td>\n",
       "      <td>2</td>\n",
       "      <td>POINT (3068902.846 13933147.302)</td>\n",
       "      <td>0</td>\n",
       "      <td>106.370415</td>\n",
       "      <td>1.857054</td>\n",
       "    </tr>\n",
       "    <tr>\n",
       "      <th>20</th>\n",
       "      <td>3.033544e+06</td>\n",
       "      <td>1.394389e+07</td>\n",
       "      <td>1.984802</td>\n",
       "      <td>1.585991</td>\n",
       "      <td>14</td>\n",
       "      <td>POINT (3033544.231 13943885.726)</td>\n",
       "      <td>0</td>\n",
       "      <td>164.404495</td>\n",
       "      <td>1.634104</td>\n",
       "    </tr>\n",
       "    <tr>\n",
       "      <th>30</th>\n",
       "      <td>3.033464e+06</td>\n",
       "      <td>1.393909e+07</td>\n",
       "      <td>0.941279</td>\n",
       "      <td>0.395483</td>\n",
       "      <td>5</td>\n",
       "      <td>POINT (3033464.060 13939088.377)</td>\n",
       "      <td>0</td>\n",
       "      <td>157.055893</td>\n",
       "      <td>1.599063</td>\n",
       "    </tr>\n",
       "    <tr>\n",
       "      <th>43</th>\n",
       "      <td>3.000083e+06</td>\n",
       "      <td>1.393516e+07</td>\n",
       "      <td>5.070308</td>\n",
       "      <td>2.681067</td>\n",
       "      <td>6</td>\n",
       "      <td>POINT (3000083.494 13935157.633)</td>\n",
       "      <td>0</td>\n",
       "      <td>174.948807</td>\n",
       "      <td>1.718153</td>\n",
       "    </tr>\n",
       "    <tr>\n",
       "      <th>...</th>\n",
       "      <td>...</td>\n",
       "      <td>...</td>\n",
       "      <td>...</td>\n",
       "      <td>...</td>\n",
       "      <td>...</td>\n",
       "      <td>...</td>\n",
       "      <td>...</td>\n",
       "      <td>...</td>\n",
       "      <td>...</td>\n",
       "    </tr>\n",
       "    <tr>\n",
       "      <th>1336688</th>\n",
       "      <td>3.066836e+06</td>\n",
       "      <td>1.390885e+07</td>\n",
       "      <td>1.219238</td>\n",
       "      <td>0.769866</td>\n",
       "      <td>4</td>\n",
       "      <td>POINT (3066836.304 13908854.476)</td>\n",
       "      <td>1</td>\n",
       "      <td>100.226967</td>\n",
       "      <td>1.071834</td>\n",
       "    </tr>\n",
       "    <tr>\n",
       "      <th>1336695</th>\n",
       "      <td>3.164059e+06</td>\n",
       "      <td>1.391041e+07</td>\n",
       "      <td>3.903505</td>\n",
       "      <td>0.698521</td>\n",
       "      <td>6</td>\n",
       "      <td>POINT (3164058.607 13910412.494)</td>\n",
       "      <td>1</td>\n",
       "      <td>40.256813</td>\n",
       "      <td>1.499436</td>\n",
       "    </tr>\n",
       "    <tr>\n",
       "      <th>1336712</th>\n",
       "      <td>3.092509e+06</td>\n",
       "      <td>1.386748e+07</td>\n",
       "      <td>7.844639</td>\n",
       "      <td>2.103962</td>\n",
       "      <td>5</td>\n",
       "      <td>POINT (3092509.418 13867483.899)</td>\n",
       "      <td>1</td>\n",
       "      <td>38.867851</td>\n",
       "      <td>1.827506</td>\n",
       "    </tr>\n",
       "    <tr>\n",
       "      <th>1336727</th>\n",
       "      <td>3.084451e+06</td>\n",
       "      <td>1.390820e+07</td>\n",
       "      <td>2.645236</td>\n",
       "      <td>0.734870</td>\n",
       "      <td>9</td>\n",
       "      <td>POINT (3084451.493 13908204.598)</td>\n",
       "      <td>1</td>\n",
       "      <td>84.812500</td>\n",
       "      <td>1.152786</td>\n",
       "    </tr>\n",
       "    <tr>\n",
       "      <th>1336732</th>\n",
       "      <td>3.046001e+06</td>\n",
       "      <td>1.393646e+07</td>\n",
       "      <td>5.413745</td>\n",
       "      <td>2.718468</td>\n",
       "      <td>5</td>\n",
       "      <td>POINT (3046001.071 13936459.369)</td>\n",
       "      <td>1</td>\n",
       "      <td>138.093750</td>\n",
       "      <td>1.204867</td>\n",
       "    </tr>\n",
       "  </tbody>\n",
       "</table>\n",
       "<p>1336620 rows × 9 columns</p>\n",
       "</div>"
      ],
      "text/plain": [
       "                    x             y  cumu_rain  peak_int  duration  \\\n",
       "3        3.122392e+06  1.394752e+07   3.713448  3.316965         5   \n",
       "4        3.068903e+06  1.393315e+07   4.668564  3.269290         2   \n",
       "20       3.033544e+06  1.394389e+07   1.984802  1.585991        14   \n",
       "30       3.033464e+06  1.393909e+07   0.941279  0.395483         5   \n",
       "43       3.000083e+06  1.393516e+07   5.070308  2.681067         6   \n",
       "...               ...           ...        ...       ...       ...   \n",
       "1336688  3.066836e+06  1.390885e+07   1.219238  0.769866         4   \n",
       "1336695  3.164059e+06  1.391041e+07   3.903505  0.698521         6   \n",
       "1336712  3.092509e+06  1.386748e+07   7.844639  2.103962         5   \n",
       "1336727  3.084451e+06  1.390820e+07   2.645236  0.734870         9   \n",
       "1336732  3.046001e+06  1.393646e+07   5.413745  2.718468         5   \n",
       "\n",
       "                                 geometry  channel         ter  syn_depth  \n",
       "3        POINT (3122392.090 13947521.928)        0   90.984207   1.872441  \n",
       "4        POINT (3068902.846 13933147.302)        0  106.370415   1.857054  \n",
       "20       POINT (3033544.231 13943885.726)        0  164.404495   1.634104  \n",
       "30       POINT (3033464.060 13939088.377)        0  157.055893   1.599063  \n",
       "43       POINT (3000083.494 13935157.633)        0  174.948807   1.718153  \n",
       "...                                   ...      ...         ...        ...  \n",
       "1336688  POINT (3066836.304 13908854.476)        1  100.226967   1.071834  \n",
       "1336695  POINT (3164058.607 13910412.494)        1   40.256813   1.499436  \n",
       "1336712  POINT (3092509.418 13867483.899)        1   38.867851   1.827506  \n",
       "1336727  POINT (3084451.493 13908204.598)        1   84.812500   1.152786  \n",
       "1336732  POINT (3046001.071 13936459.369)        1  138.093750   1.204867  \n",
       "\n",
       "[1336620 rows x 9 columns]"
      ]
     },
     "execution_count": 52,
     "metadata": {},
     "output_type": "execute_result"
    }
   ],
   "source": [
    "ctgan_synthetic_feat_static_gdf"
   ]
  },
  {
   "cell_type": "code",
   "execution_count": 53,
   "metadata": {},
   "outputs": [],
   "source": [
    "ctgan_synthetic_depth_events_df = ctgan_synthetic_feat_static_gdf.drop(columns=['geometry']).reset_index(drop=True)"
   ]
  },
  {
   "cell_type": "code",
   "execution_count": 54,
   "metadata": {},
   "outputs": [],
   "source": [
    "ctgan_synthetic_depth_events_df.to_parquet('../outputs/aggregated_syn_events.parquet')"
   ]
  },
  {
   "cell_type": "code",
   "execution_count": 55,
   "metadata": {},
   "outputs": [
    {
     "data": {
      "text/plain": [
       "[1, 2, 3, 4, 5, 6, 7, 9, 14, 16]"
      ]
     },
     "execution_count": 55,
     "metadata": {},
     "output_type": "execute_result"
    }
   ],
   "source": [
    "syn_durs= sorted(pd.unique(ctgan_synthetic_feat_static_gdf['duration']))\n",
    "syn_durs"
   ]
  },
  {
   "cell_type": "code",
   "execution_count": 57,
   "metadata": {},
   "outputs": [
    {
     "name": "stderr",
     "output_type": "stream",
     "text": [
      "  0%|          | 0/10 [00:00<?, ?it/s]"
     ]
    },
    {
     "name": "stderr",
     "output_type": "stream",
     "text": [
      "100%|██████████| 10/10 [01:20<00:00,  8.04s/it]\n"
     ]
    },
    {
     "data": {
      "text/plain": [
       "<Figure size 640x480 with 0 Axes>"
      ]
     },
     "metadata": {},
     "output_type": "display_data"
    }
   ],
   "source": [
    "for dur in tqdm(syn_durs, total=len(syn_durs)):\n",
    "    plt.clf() \n",
    "    simple_cluster_gdf = ctgan_synthetic_feat_static_gdf[ctgan_synthetic_feat_static_gdf['duration'] == dur]\n",
    "    fig, ax = plt.subplots(figsize=(8, 6))\n",
    "    simple_cluster_gdf.plot(ax=ax, column='syn_depth', cmap='coolwarm', s=1, vmin=0, vmax=30, legend=False)\n",
    "    norm = Normalize(vmin=0, vmax=30)\n",
    "    sm = ScalarMappable(norm=norm, cmap='coolwarm')\n",
    "    sm.set_array([])\n",
    "    cbar = fig.colorbar(sm, ax=ax, fraction=0.046, pad=0.04)\n",
    "    cbar.set_label('syn_depth')\n",
    "    ax.set_title(f'Simply clustered by duration={dur} with {len(simple_cluster_gdf)} rows')\n",
    "    fig.savefig(f'../outputs/vis/simple_by_duration/{dur}.png')\n",
    "    plt.close(fig)"
   ]
  },
  {
   "cell_type": "code",
   "execution_count": null,
   "metadata": {},
   "outputs": [],
   "source": []
  },
  {
   "cell_type": "code",
   "execution_count": null,
   "metadata": {},
   "outputs": [],
   "source": []
  }
 ],
 "metadata": {
  "kernelspec": {
   "display_name": "se_env_ju",
   "language": "python",
   "name": "se_env_ju"
  },
  "language_info": {
   "codemirror_mode": {
    "name": "ipython",
    "version": 3
   },
   "file_extension": ".py",
   "mimetype": "text/x-python",
   "name": "python",
   "nbconvert_exporter": "python",
   "pygments_lexer": "ipython3",
   "version": "3.8.8"
  }
 },
 "nbformat": 4,
 "nbformat_minor": 4
}
