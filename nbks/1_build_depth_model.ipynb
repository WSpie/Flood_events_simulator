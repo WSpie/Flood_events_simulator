{
 "cells": [
  {
   "cell_type": "code",
   "execution_count": 1,
   "metadata": {},
   "outputs": [
    {
     "name": "stderr",
     "output_type": "stream",
     "text": [
      "/home/grads/l/lipai.huang/GAN_simulated_events/se_env/lib/python3.8/site-packages/tqdm/auto.py:21: TqdmWarning: IProgress not found. Please update jupyter and ipywidgets. See https://ipywidgets.readthedocs.io/en/stable/user_install.html\n",
      "  from .autonotebook import tqdm as notebook_tqdm\n"
     ]
    }
   ],
   "source": [
    "import numpy as np\n",
    "import os, sys\n",
    "import pandas as pd\n",
    "import geopandas as gpd\n",
    "from shapely.geometry import Point\n",
    "import matplotlib.pyplot as plt\n",
    "from mpl_toolkits.axes_grid1 import make_axes_locatable\n",
    "import seaborn as sns\n",
    "from collections import Counter\n",
    "from tqdm.auto import tqdm, trange\n",
    "from sklearn.preprocessing import MinMaxScaler\n",
    "import re\n",
    "import concurrent.futures\n",
    "from sklearn.metrics import silhouette_score\n",
    "from scipy.stats import pearsonr\n",
    "import copy\n",
    "import pickle\n",
    "import torch\n",
    "import torch.nn as nn\n",
    "import torch.optim as optim\n",
    "from torch.utils.data import Dataset, DataLoader, DistributedSampler\n",
    "import torch.distributed as dist\n",
    "from torch.nn.parallel import DistributedDataParallel as DDP\n",
    "from torchvision import transforms\n",
    "from sklearn.model_selection import train_test_split\n",
    "from sklearn.preprocessing import StandardScaler\n",
    "from kmeans_pytorch import kmeans\n",
    "from collections import OrderedDict\n",
    "from contextlib import contextmanager\n",
    "\n",
    "from sdv.metadata import SingleTableMetadata\n",
    "from sdv.evaluation.single_table import evaluate_quality\n",
    "from sdv.single_table import CTGANSynthesizer\n",
    "from sdv.sampling import Condition\n",
    "from sdv.evaluation.single_table import get_column_plot\n",
    "\n",
    "import dask.dataframe as dpd\n",
    "import dask_geopandas as dgpd\n",
    "from dask.diagnostics import ProgressBar\n",
    "from dask.distributed import Client\n",
    "\n",
    "import warnings\n",
    "warnings.filterwarnings('ignore')\n",
    "\n",
    "import gc\n",
    "gc.collect()\n",
    "\n",
    "np.random.seed(0)"
   ]
  },
  {
   "cell_type": "code",
   "execution_count": 2,
   "metadata": {},
   "outputs": [],
   "source": [
    "client = Client(n_workers=80) #192 totally"
   ]
  },
  {
   "cell_type": "code",
   "execution_count": 19,
   "metadata": {},
   "outputs": [],
   "source": [
    "client.close()"
   ]
  },
  {
   "cell_type": "code",
   "execution_count": 3,
   "metadata": {},
   "outputs": [
    {
     "name": "stdout",
     "output_type": "stream",
     "text": [
      "2.0.1+cu118 True\n"
     ]
    }
   ],
   "source": [
    "print(torch.__version__, torch.cuda.is_available())\n",
    "torch.cuda.set_device(0)"
   ]
  },
  {
   "cell_type": "code",
   "execution_count": 4,
   "metadata": {},
   "outputs": [
    {
     "name": "stdout",
     "output_type": "stream",
     "text": [
      "We have 8 GPUs!\n"
     ]
    }
   ],
   "source": [
    "if torch.cuda.device_count() > 1:\n",
    "    print(f\"We have {torch.cuda.device_count()} GPUs!\")"
   ]
  },
  {
   "cell_type": "code",
   "execution_count": 5,
   "metadata": {},
   "outputs": [],
   "source": [
    "# Plot geo map\n",
    "def plot_map(gdf, col, vmin=0, vmax=300, figsize=(8, 6), dpi=200, notes='', to_path='', dots=[], title=True, s=1):\n",
    "    plt.clf()\n",
    "    fig, ax = plt.subplots(figsize=figsize, dpi=dpi)\n",
    "    divider = make_axes_locatable(ax)\n",
    "    cax = divider.append_axes(\"right\", size=\"5%\", pad=0.1)\n",
    "\n",
    "    # Plot without specifying legend_kwds\n",
    "    try:\n",
    "        gdf.plot(ax=ax, column=col, cmap='coolwarm', vmin=vmin, vmax=vmax, cax=cax, s=s)\n",
    "    except:\n",
    "        gdf.plot(ax=ax, column=col, cmap='coolwarm', vmin=vmin, vmax=vmax, cax=cax)\n",
    "    if dots:\n",
    "        for dot in dots:\n",
    "            gdf.loc[dot:dot].plot(ax=ax, linewidth=1, color='black', alpha=0.5)\n",
    "            ax.text(gdf.loc[dot, 'x'], gdf.loc[dot, 'y'], str(dot), fontsize=12)\n",
    "\n",
    "    # Create colorbar with custom font size\n",
    "    sm = plt.cm.ScalarMappable(cmap='coolwarm', norm=plt.Normalize(vmin=vmin, vmax=vmax))\n",
    "    sm.set_array([])\n",
    "    cbar = fig.colorbar(sm, cax=cax, \n",
    "#                         label=col.upper(), \n",
    "                        shrink=.5)\n",
    "#     cbar.ax.tick_params(labelsize=20)  # Set the font size for the colorbar\n",
    "#     bd_gdf.boundary.plot(ax=ax, linewidth=1, color='k')\n",
    "    # Change tick fontsize\n",
    "    ax.tick_params(axis='both', which='major', labelsize=20)\n",
    "    ax.set_xticks([])\n",
    "    ax.set_yticks([])\n",
    "#     ax.scatter(gdf['x'], gdf['y'], s=1, c='k')\n",
    "    \n",
    "    # Change color bar fontsize\n",
    "#     cbar.set_label(col.upper(), fontsize=20)\n",
    "    if title:\n",
    "        ax.set_title(f'{col.upper()}')\n",
    "#     if not os.path.exists(f'plots/test/{notes}'):\n",
    "#         os.mkdir(f'plots/test/{notes}')\n",
    "#     fig.savefig(f'plots/test/{notes}/{col}.png')\n",
    "    if to_path:\n",
    "        fig.savefig(f'{to_path}')"
   ]
  },
  {
   "cell_type": "code",
   "execution_count": 4,
   "metadata": {},
   "outputs": [
    {
     "data": {
      "text/html": [
       "<div>\n",
       "<style scoped>\n",
       "    .dataframe tbody tr th:only-of-type {\n",
       "        vertical-align: middle;\n",
       "    }\n",
       "\n",
       "    .dataframe tbody tr th {\n",
       "        vertical-align: top;\n",
       "    }\n",
       "\n",
       "    .dataframe thead th {\n",
       "        text-align: right;\n",
       "    }\n",
       "</style>\n",
       "<table border=\"1\" class=\"dataframe\">\n",
       "  <thead>\n",
       "    <tr style=\"text-align: right;\">\n",
       "      <th></th>\n",
       "      <th>x</th>\n",
       "      <th>y</th>\n",
       "      <th>ter</th>\n",
       "      <th>HUC12</th>\n",
       "      <th>region</th>\n",
       "      <th>channel</th>\n",
       "      <th>geometry</th>\n",
       "    </tr>\n",
       "  </thead>\n",
       "  <tbody>\n",
       "    <tr>\n",
       "      <th>0</th>\n",
       "      <td>2.933766e+06</td>\n",
       "      <td>1.396557e+07</td>\n",
       "      <td>301.388702</td>\n",
       "      <td>Cypress Creek</td>\n",
       "      <td>0</td>\n",
       "      <td>0</td>\n",
       "      <td>POLYGON ((2934366.000 13964974.635, 2933003.17...</td>\n",
       "    </tr>\n",
       "    <tr>\n",
       "      <th>1</th>\n",
       "      <td>2.934966e+06</td>\n",
       "      <td>1.396557e+07</td>\n",
       "      <td>301.594696</td>\n",
       "      <td>Cypress Creek</td>\n",
       "      <td>0</td>\n",
       "      <td>0</td>\n",
       "      <td>POLYGON ((2934366.000 13967369.160, 2934380.33...</td>\n",
       "    </tr>\n",
       "    <tr>\n",
       "      <th>2</th>\n",
       "      <td>2.933766e+06</td>\n",
       "      <td>1.396437e+07</td>\n",
       "      <td>294.629181</td>\n",
       "      <td>Cypress Creek</td>\n",
       "      <td>0</td>\n",
       "      <td>0</td>\n",
       "      <td>POLYGON ((2934366.000 13964974.635, 2934366.00...</td>\n",
       "    </tr>\n",
       "    <tr>\n",
       "      <th>3</th>\n",
       "      <td>2.934966e+06</td>\n",
       "      <td>1.396437e+07</td>\n",
       "      <td>298.529877</td>\n",
       "      <td>Cypress Creek</td>\n",
       "      <td>0</td>\n",
       "      <td>0</td>\n",
       "      <td>POLYGON ((2935566.000 13963774.635, 2934366.00...</td>\n",
       "    </tr>\n",
       "    <tr>\n",
       "      <th>4</th>\n",
       "      <td>2.936166e+06</td>\n",
       "      <td>1.396437e+07</td>\n",
       "      <td>294.815002</td>\n",
       "      <td>Cypress Creek</td>\n",
       "      <td>0</td>\n",
       "      <td>0</td>\n",
       "      <td>POLYGON ((2936766.000 13963774.635, 2935566.00...</td>\n",
       "    </tr>\n",
       "    <tr>\n",
       "      <th>...</th>\n",
       "      <td>...</td>\n",
       "      <td>...</td>\n",
       "      <td>...</td>\n",
       "      <td>...</td>\n",
       "      <td>...</td>\n",
       "      <td>...</td>\n",
       "      <td>...</td>\n",
       "    </tr>\n",
       "    <tr>\n",
       "      <th>26296</th>\n",
       "      <td>3.039069e+06</td>\n",
       "      <td>1.385008e+07</td>\n",
       "      <td>54.643570</td>\n",
       "      <td>Whiteoak Bayou-Buffalo Bayou</td>\n",
       "      <td>2</td>\n",
       "      <td>1</td>\n",
       "      <td>POLYGON ((3039427.707 13849492.726, 3038745.86...</td>\n",
       "    </tr>\n",
       "    <tr>\n",
       "      <th>26297</th>\n",
       "      <td>3.039053e+06</td>\n",
       "      <td>1.385088e+07</td>\n",
       "      <td>59.625050</td>\n",
       "      <td>Addicks Reservoir</td>\n",
       "      <td>3</td>\n",
       "      <td>1</td>\n",
       "      <td>POLYGON ((3039399.212 13851153.541, 3039405.50...</td>\n",
       "    </tr>\n",
       "    <tr>\n",
       "      <th>26298</th>\n",
       "      <td>3.038396e+06</td>\n",
       "      <td>1.385006e+07</td>\n",
       "      <td>60.055576</td>\n",
       "      <td>Whiteoak Bayou-Buffalo Bayou</td>\n",
       "      <td>2</td>\n",
       "      <td>0</td>\n",
       "      <td>POLYGON ((3038723.769 13850469.724, 3038724.68...</td>\n",
       "    </tr>\n",
       "    <tr>\n",
       "      <th>26299</th>\n",
       "      <td>3.038392e+06</td>\n",
       "      <td>1.385087e+07</td>\n",
       "      <td>59.625050</td>\n",
       "      <td>Addicks Reservoir</td>\n",
       "      <td>3</td>\n",
       "      <td>0</td>\n",
       "      <td>POLYGON ((3038721.900 13851266.014, 3038723.76...</td>\n",
       "    </tr>\n",
       "    <tr>\n",
       "      <th>26300</th>\n",
       "      <td>3.037707e+06</td>\n",
       "      <td>1.385085e+07</td>\n",
       "      <td>72.228638</td>\n",
       "      <td>Addicks Reservoir</td>\n",
       "      <td>3</td>\n",
       "      <td>0</td>\n",
       "      <td>POLYGON ((3037766.475 13851439.564, 3038034.75...</td>\n",
       "    </tr>\n",
       "  </tbody>\n",
       "</table>\n",
       "<p>26301 rows × 7 columns</p>\n",
       "</div>"
      ],
      "text/plain": [
       "                  x             y         ter                         HUC12  \\\n",
       "0      2.933766e+06  1.396557e+07  301.388702                 Cypress Creek   \n",
       "1      2.934966e+06  1.396557e+07  301.594696                 Cypress Creek   \n",
       "2      2.933766e+06  1.396437e+07  294.629181                 Cypress Creek   \n",
       "3      2.934966e+06  1.396437e+07  298.529877                 Cypress Creek   \n",
       "4      2.936166e+06  1.396437e+07  294.815002                 Cypress Creek   \n",
       "...             ...           ...         ...                           ...   \n",
       "26296  3.039069e+06  1.385008e+07   54.643570  Whiteoak Bayou-Buffalo Bayou   \n",
       "26297  3.039053e+06  1.385088e+07   59.625050             Addicks Reservoir   \n",
       "26298  3.038396e+06  1.385006e+07   60.055576  Whiteoak Bayou-Buffalo Bayou   \n",
       "26299  3.038392e+06  1.385087e+07   59.625050             Addicks Reservoir   \n",
       "26300  3.037707e+06  1.385085e+07   72.228638             Addicks Reservoir   \n",
       "\n",
       "       region  channel                                           geometry  \n",
       "0           0        0  POLYGON ((2934366.000 13964974.635, 2933003.17...  \n",
       "1           0        0  POLYGON ((2934366.000 13967369.160, 2934380.33...  \n",
       "2           0        0  POLYGON ((2934366.000 13964974.635, 2934366.00...  \n",
       "3           0        0  POLYGON ((2935566.000 13963774.635, 2934366.00...  \n",
       "4           0        0  POLYGON ((2936766.000 13963774.635, 2935566.00...  \n",
       "...       ...      ...                                                ...  \n",
       "26296       2        1  POLYGON ((3039427.707 13849492.726, 3038745.86...  \n",
       "26297       3        1  POLYGON ((3039399.212 13851153.541, 3039405.50...  \n",
       "26298       2        0  POLYGON ((3038723.769 13850469.724, 3038724.68...  \n",
       "26299       3        0  POLYGON ((3038721.900 13851266.014, 3038723.76...  \n",
       "26300       3        0  POLYGON ((3037766.475 13851439.564, 3038034.75...  \n",
       "\n",
       "[26301 rows x 7 columns]"
      ]
     },
     "execution_count": 4,
     "metadata": {},
     "output_type": "execute_result"
    }
   ],
   "source": [
    "coord_gdf = gpd.read_file('../src/coord/coord_gdf.shp')\n",
    "coord_gdf = coord_gdf.drop(columns=['cell_rmse1', 'cell_r21', 'cell_rmse2', 'cell_r22', 'depth'])\n",
    "coord_gdf"
   ]
  },
  {
   "cell_type": "code",
   "execution_count": 5,
   "metadata": {},
   "outputs": [
    {
     "data": {
      "text/plain": [
       "{'Cypress Creek': 0,\n",
       " 'Greens Bayou': 1,\n",
       " 'Whiteoak Bayou-Buffalo Bayou': 2,\n",
       " 'Addicks Reservoir': 3,\n",
       " 'Barker Reservoir': 4,\n",
       " 'Hunting Bayou': 5,\n",
       " 'Vince Bayou-Buffalo Bayou': 6,\n",
       " 'Brays Bayou': 7,\n",
       " 'Sims Bayou': 8}"
      ]
     },
     "execution_count": 5,
     "metadata": {},
     "output_type": "execute_result"
    }
   ],
   "source": [
    "watershed_dict = coord_gdf.drop_duplicates(subset='HUC12').set_index('HUC12')['region'].to_dict()\n",
    "watershed_dict"
   ]
  },
  {
   "cell_type": "code",
   "execution_count": null,
   "metadata": {},
   "outputs": [],
   "source": []
  },
  {
   "cell_type": "code",
   "execution_count": 6,
   "metadata": {},
   "outputs": [],
   "source": [
    "scaler = MinMaxScaler()\n",
    "xy_scaled = scaler.fit_transform(coord_gdf[['x', 'y']])\n",
    "\n",
    "def load_and_scale(file_path, scale=False):\n",
    "    df = pd.read_parquet(file_path)[['x', 'y', 'channel', 'ter', 'cumu_rain', 'peak_int', 'duration', 'depth']]\n",
    "    if scale:\n",
    "        df[['x', 'y']] = xy_scaled\n",
    "    return df\n",
    "\n",
    "file_paths = [f'../src/tables/data{i}.parquet' for i in range(1, len([f for f in os.listdir('../src/tables') if f.endswith('.parquet')]) + 1)]\n",
    "events = [load_and_scale(file) for file in file_paths]\n",
    "with ProgressBar():\n",
    "    result = dpd.concat(events, axis=0)\n",
    "events_df = result.compute()"
   ]
  },
  {
   "cell_type": "code",
   "execution_count": 7,
   "metadata": {},
   "outputs": [
    {
     "data": {
      "text/html": [
       "<div>\n",
       "<style scoped>\n",
       "    .dataframe tbody tr th:only-of-type {\n",
       "        vertical-align: middle;\n",
       "    }\n",
       "\n",
       "    .dataframe tbody tr th {\n",
       "        vertical-align: top;\n",
       "    }\n",
       "\n",
       "    .dataframe thead th {\n",
       "        text-align: right;\n",
       "    }\n",
       "</style>\n",
       "<table border=\"1\" class=\"dataframe\">\n",
       "  <thead>\n",
       "    <tr style=\"text-align: right;\">\n",
       "      <th></th>\n",
       "      <th>x</th>\n",
       "      <th>y</th>\n",
       "      <th>channel</th>\n",
       "      <th>ter</th>\n",
       "      <th>cumu_rain</th>\n",
       "      <th>peak_int</th>\n",
       "      <th>duration</th>\n",
       "      <th>depth</th>\n",
       "    </tr>\n",
       "  </thead>\n",
       "  <tbody>\n",
       "    <tr>\n",
       "      <th>0</th>\n",
       "      <td>2.933766e+06</td>\n",
       "      <td>1.396557e+07</td>\n",
       "      <td>0</td>\n",
       "      <td>301.388702</td>\n",
       "      <td>3.001601</td>\n",
       "      <td>3.001601</td>\n",
       "      <td>1</td>\n",
       "      <td>3.866364</td>\n",
       "    </tr>\n",
       "    <tr>\n",
       "      <th>1</th>\n",
       "      <td>2.934966e+06</td>\n",
       "      <td>1.396557e+07</td>\n",
       "      <td>0</td>\n",
       "      <td>301.594696</td>\n",
       "      <td>3.127318</td>\n",
       "      <td>3.127318</td>\n",
       "      <td>1</td>\n",
       "      <td>2.150513</td>\n",
       "    </tr>\n",
       "    <tr>\n",
       "      <th>2</th>\n",
       "      <td>2.933766e+06</td>\n",
       "      <td>1.396437e+07</td>\n",
       "      <td>0</td>\n",
       "      <td>294.629181</td>\n",
       "      <td>3.211096</td>\n",
       "      <td>3.211096</td>\n",
       "      <td>1</td>\n",
       "      <td>3.595856</td>\n",
       "    </tr>\n",
       "    <tr>\n",
       "      <th>3</th>\n",
       "      <td>2.934966e+06</td>\n",
       "      <td>1.396437e+07</td>\n",
       "      <td>0</td>\n",
       "      <td>298.529877</td>\n",
       "      <td>3.260372</td>\n",
       "      <td>3.260372</td>\n",
       "      <td>1</td>\n",
       "      <td>2.782227</td>\n",
       "    </tr>\n",
       "    <tr>\n",
       "      <th>4</th>\n",
       "      <td>2.936166e+06</td>\n",
       "      <td>1.396437e+07</td>\n",
       "      <td>0</td>\n",
       "      <td>294.815002</td>\n",
       "      <td>3.309647</td>\n",
       "      <td>3.309647</td>\n",
       "      <td>1</td>\n",
       "      <td>2.787598</td>\n",
       "    </tr>\n",
       "    <tr>\n",
       "      <th>...</th>\n",
       "      <td>...</td>\n",
       "      <td>...</td>\n",
       "      <td>...</td>\n",
       "      <td>...</td>\n",
       "      <td>...</td>\n",
       "      <td>...</td>\n",
       "      <td>...</td>\n",
       "      <td>...</td>\n",
       "    </tr>\n",
       "    <tr>\n",
       "      <th>26296</th>\n",
       "      <td>3.039069e+06</td>\n",
       "      <td>1.385008e+07</td>\n",
       "      <td>1</td>\n",
       "      <td>54.643570</td>\n",
       "      <td>0.000000</td>\n",
       "      <td>0.000000</td>\n",
       "      <td>2</td>\n",
       "      <td>0.000000</td>\n",
       "    </tr>\n",
       "    <tr>\n",
       "      <th>26297</th>\n",
       "      <td>3.039053e+06</td>\n",
       "      <td>1.385088e+07</td>\n",
       "      <td>1</td>\n",
       "      <td>59.625050</td>\n",
       "      <td>0.000000</td>\n",
       "      <td>0.000000</td>\n",
       "      <td>2</td>\n",
       "      <td>0.000000</td>\n",
       "    </tr>\n",
       "    <tr>\n",
       "      <th>26298</th>\n",
       "      <td>3.038396e+06</td>\n",
       "      <td>1.385006e+07</td>\n",
       "      <td>0</td>\n",
       "      <td>60.055576</td>\n",
       "      <td>0.000000</td>\n",
       "      <td>0.000000</td>\n",
       "      <td>2</td>\n",
       "      <td>0.000000</td>\n",
       "    </tr>\n",
       "    <tr>\n",
       "      <th>26299</th>\n",
       "      <td>3.038392e+06</td>\n",
       "      <td>1.385087e+07</td>\n",
       "      <td>0</td>\n",
       "      <td>59.625050</td>\n",
       "      <td>0.000000</td>\n",
       "      <td>0.000000</td>\n",
       "      <td>2</td>\n",
       "      <td>0.000000</td>\n",
       "    </tr>\n",
       "    <tr>\n",
       "      <th>26300</th>\n",
       "      <td>3.037707e+06</td>\n",
       "      <td>1.385085e+07</td>\n",
       "      <td>0</td>\n",
       "      <td>72.228638</td>\n",
       "      <td>0.000000</td>\n",
       "      <td>0.000000</td>\n",
       "      <td>2</td>\n",
       "      <td>0.000000</td>\n",
       "    </tr>\n",
       "  </tbody>\n",
       "</table>\n",
       "<p>15570192 rows × 8 columns</p>\n",
       "</div>"
      ],
      "text/plain": [
       "                  x             y  channel         ter  cumu_rain  peak_int  \\\n",
       "0      2.933766e+06  1.396557e+07        0  301.388702   3.001601  3.001601   \n",
       "1      2.934966e+06  1.396557e+07        0  301.594696   3.127318  3.127318   \n",
       "2      2.933766e+06  1.396437e+07        0  294.629181   3.211096  3.211096   \n",
       "3      2.934966e+06  1.396437e+07        0  298.529877   3.260372  3.260372   \n",
       "4      2.936166e+06  1.396437e+07        0  294.815002   3.309647  3.309647   \n",
       "...             ...           ...      ...         ...        ...       ...   \n",
       "26296  3.039069e+06  1.385008e+07        1   54.643570   0.000000  0.000000   \n",
       "26297  3.039053e+06  1.385088e+07        1   59.625050   0.000000  0.000000   \n",
       "26298  3.038396e+06  1.385006e+07        0   60.055576   0.000000  0.000000   \n",
       "26299  3.038392e+06  1.385087e+07        0   59.625050   0.000000  0.000000   \n",
       "26300  3.037707e+06  1.385085e+07        0   72.228638   0.000000  0.000000   \n",
       "\n",
       "       duration     depth  \n",
       "0             1  3.866364  \n",
       "1             1  2.150513  \n",
       "2             1  3.595856  \n",
       "3             1  2.782227  \n",
       "4             1  2.787598  \n",
       "...         ...       ...  \n",
       "26296         2  0.000000  \n",
       "26297         2  0.000000  \n",
       "26298         2  0.000000  \n",
       "26299         2  0.000000  \n",
       "26300         2  0.000000  \n",
       "\n",
       "[15570192 rows x 8 columns]"
      ]
     },
     "execution_count": 7,
     "metadata": {},
     "output_type": "execute_result"
    }
   ],
   "source": [
    "events_df"
   ]
  },
  {
   "cell_type": "code",
   "execution_count": 8,
   "metadata": {},
   "outputs": [],
   "source": [
    "features = events_df[['channel', 'ter', 'cumu_rain', 'peak_int', 'duration']].values\n",
    "targets = events_df[['depth']].values\n",
    "\n",
    "X_train, X_temp, y_train, y_temp = train_test_split(\n",
    "    features, targets, test_size=0.4, random_state=0)\n",
    "X_val, X_test, y_val, y_test = train_test_split(\n",
    "    X_temp, y_temp, test_size=0.5, random_state=0)\n",
    "\n",
    "scaler = StandardScaler()\n",
    "X_train_scaled = scaler.fit_transform(X_train)\n",
    "X_val_scaled = scaler.transform(X_val)\n",
    "X_test_scaled = scaler.transform(X_test)"
   ]
  },
  {
   "cell_type": "code",
   "execution_count": 9,
   "metadata": {},
   "outputs": [],
   "source": [
    "class DepthModelDataset(Dataset):\n",
    "    def __init__(self, features, labels):\n",
    "        self.features = features\n",
    "        self.labels = labels\n",
    "    def __len__(self):\n",
    "        return len(self.features)\n",
    "    def __getitem__(self, idx):\n",
    "        return self.features[idx], self.labels[idx]"
   ]
  },
  {
   "cell_type": "code",
   "execution_count": 10,
   "metadata": {},
   "outputs": [],
   "source": [
    "batch_size = 51200\n",
    "\n",
    "train_dataset = DepthModelDataset(X_train_scaled, y_train)\n",
    "val_dataset = DepthModelDataset(X_val_scaled, y_val)\n",
    "test_dataset = DepthModelDataset(X_test_scaled, y_test)\n",
    "\n",
    "train_loader = DataLoader(train_dataset, batch_size=batch_size, shuffle=True, num_workers=32, pin_memory=True)\n",
    "val_loader = DataLoader(val_dataset, batch_size=batch_size, shuffle=False, num_workers=8, pin_memory=True)\n",
    "test_loader = DataLoader(test_dataset, batch_size=batch_size, shuffle=False, num_workers=8, pin_memory=True)"
   ]
  },
  {
   "cell_type": "code",
   "execution_count": 11,
   "metadata": {},
   "outputs": [],
   "source": [
    "class TransformerModel(nn.Module):\n",
    "    def __init__(self, input_dim, output_dim=1, num_heads=8, num_layers=4, transform_dim=128):\n",
    "        super(TransformerModel, self).__init__()\n",
    "        self.input_transform = nn.Linear(input_dim, transform_dim)\n",
    "\n",
    "        # Transformer specific layers\n",
    "        self.encoder_layer = nn.TransformerEncoderLayer(\n",
    "            d_model=transform_dim, \n",
    "            nhead=num_heads,\n",
    "            dim_feedforward=2048,  \n",
    "            dropout=0.25  \n",
    "        )\n",
    "        self.transformer_encoder = nn.TransformerEncoder(\n",
    "            self.encoder_layer, \n",
    "            num_layers=num_layers\n",
    "        )\n",
    "\n",
    "        # Output layer\n",
    "        self.fc_out = nn.Linear(transform_dim, output_dim)\n",
    "\n",
    "    def forward(self, src):\n",
    "        src = self.input_transform(src)\n",
    "        transformed = self.transformer_encoder(src)\n",
    "        output = self.fc_out(transformed)\n",
    "        return output\n"
   ]
  },
  {
   "cell_type": "code",
   "execution_count": 18,
   "metadata": {},
   "outputs": [
    {
     "name": "stdout",
     "output_type": "stream",
     "text": [
      "True\n"
     ]
    }
   ],
   "source": [
    "device = torch.device(\"cuda:0,1,2,3,4,5,6\" if torch.cuda.is_available() else \"cpu\")\n",
    "\n",
    "model = TransformerModel(train_dataset.features.shape[1]).to(device)\n",
    "model = nn.DataParallel(model)\n",
    "\n",
    "print(next(model.parameters()).is_cuda)"
   ]
  },
  {
   "cell_type": "code",
   "execution_count": 19,
   "metadata": {},
   "outputs": [],
   "source": [
    "def rmse_loss(outputs, labels):\n",
    "    mse_loss = nn.MSELoss()\n",
    "    mse = mse_loss(outputs, labels)\n",
    "    rmse = torch.sqrt(mse)\n",
    "    return rmse\n",
    "\n",
    "lr = 1e-5\n",
    "num_epochs = 500\n",
    "test_check_epochs = 25\n",
    "# criterion = nn.MSELoss()\n",
    "criterion = rmse_loss\n",
    "optimizer = optim.Adam(model.parameters(), lr=lr)\n",
    "\n",
    "history = {'train_loss': [], 'val_loss': [], f'test_{test_check_epochs}_loss': []}\n",
    "best_val_loss = float('inf')\n",
    "best_model_wts = copy.deepcopy(model.state_dict())\n",
    "checkpoint_path = os.path.join('../checkpoints', 'depth', f'best_model_{len([f for f in os.listdir(\"../checkpoints/depth\") if f.endswith(\".pth\")])}_{lr}.pth')\n",
    "depth_checkpoint_log_path = f'../logs/depth_{len(os.listdir(\"../logs\"))-1}.log'"
   ]
  },
  {
   "cell_type": "code",
   "execution_count": null,
   "metadata": {},
   "outputs": [],
   "source": [
    "for epoch in trange(num_epochs):\n",
    "    model.train()\n",
    "    train_loss = 0.0\n",
    "    for batch_idx, (features, labels) in enumerate(train_loader):\n",
    "        features = features.to(device).float()\n",
    "        labels = labels.to(device).float()\n",
    "\n",
    "        optimizer.zero_grad()\n",
    "        outputs = model(features)\n",
    "        loss = criterion(outputs, labels)\n",
    "        loss.backward()\n",
    "        optimizer.step()\n",
    "        train_loss += loss.item()\n",
    "\n",
    "    # Validation phase\n",
    "    model.eval()\n",
    "    val_loss = 0.0\n",
    "    with torch.no_grad():\n",
    "        for features, labels in val_loader:\n",
    "            features = features.to(device).float()\n",
    "            labels = labels.to(device).float()\n",
    "            outputs = model(features)\n",
    "            loss = criterion(outputs, labels)\n",
    "            val_loss += loss.item()\n",
    "\n",
    "    # Average losses\n",
    "    train_loss /= len(train_loader)\n",
    "    val_loss /= len(val_loader)\n",
    "    history['train_loss'].append(train_loss)\n",
    "    history['val_loss'].append(val_loss)\n",
    "\n",
    "    # Save model if validation loss has improved\n",
    "    if val_loss < best_val_loss:\n",
    "        best_val_loss = val_loss\n",
    "        best_model_wts = copy.deepcopy(model.state_dict())\n",
    "        torch.save(model.state_dict(), checkpoint_path)\n",
    "        with open(depth_checkpoint_log_path, 'a+') as depth_checkpoint_log_file:\n",
    "            print(f'Epoch {epoch}: Saved model to {checkpoint_path} with val loss {val_loss:.4f}', file=depth_checkpoint_log_file)\n",
    "            depth_checkpoint_log_file.flush()\n",
    "\n",
    "    # Test phase every n epochs\n",
    "    if (epoch+1) % test_check_epochs == 0:\n",
    "        model.eval()\n",
    "        test_loss = 0.0\n",
    "        with torch.no_grad():\n",
    "            for features, labels in test_loader:\n",
    "                features = features.to(device).float()\n",
    "                labels = labels.to(device).float()\n",
    "                outputs = model(features)\n",
    "                loss = criterion(outputs, labels)\n",
    "                test_loss += loss.item()\n",
    "        \n",
    "        # Average test loss\n",
    "        test_loss /= len(test_loader)\n",
    "        history[f'test_{test_check_epochs}_loss'].append((epoch, test_loss))\n",
    "\n",
    "        # Optionally, print or log the test loss\n",
    "        with open(depth_checkpoint_log_path, 'a+') as depth_checkpoint_log_file:\n",
    "            print(f'Epoch {epoch}: Test loss {test_loss:.4f}', file=depth_checkpoint_log_file)\n",
    "            depth_checkpoint_log_file.flush()\n",
    "            \n",
    "history_path = os.path.join('../logs', f'depth_modeling_{len(os.listdir(\"../logs\"))-1}_history.pkl')\n",
    "with open(history_path, 'wb') as f:\n",
    "    pickle.dump(history, f)"
   ]
  },
  {
   "cell_type": "code",
   "execution_count": null,
   "metadata": {},
   "outputs": [],
   "source": [
    "checkpoint = torch.load(checkpoint_path)\n",
    "model.load_state_dict(checkpoint)"
   ]
  },
  {
   "cell_type": "code",
   "execution_count": null,
   "metadata": {},
   "outputs": [],
   "source": []
  },
  {
   "cell_type": "code",
   "execution_count": null,
   "metadata": {},
   "outputs": [],
   "source": []
  },
  {
   "cell_type": "code",
   "execution_count": 3,
   "metadata": {},
   "outputs": [],
   "source": [
    "with open('../logs/depth_modeling_1_history.pkl', 'rb') as file:\n",
    "    his = pickle.load(file)"
   ]
  },
  {
   "cell_type": "code",
   "execution_count": 5,
   "metadata": {},
   "outputs": [
    {
     "data": {
      "text/plain": [
       "dict_keys(['train_loss', 'val_loss', 'test_25_loss'])"
      ]
     },
     "execution_count": 5,
     "metadata": {},
     "output_type": "execute_result"
    }
   ],
   "source": [
    "his.keys()"
   ]
  },
  {
   "cell_type": "code",
   "execution_count": null,
   "metadata": {},
   "outputs": [],
   "source": []
  },
  {
   "cell_type": "code",
   "execution_count": 22,
   "metadata": {},
   "outputs": [
    {
     "data": {
      "image/png": "[encoded data removed]",
      "text/plain": [
       "<Figure size 800x400 with 1 Axes>"
      ]
     },
     "metadata": {},
     "output_type": "display_data"
    }
   ],
   "source": [
    "sns.set_style(\"whitegrid\")\n",
    "\n",
    "# Plotting\n",
    "plt.figure(figsize=(8, 4))\n",
    "\n",
    "# Plotting all three datasets on the same axes\n",
    "sns.lineplot(data=his['train_loss'], label='Train Loss', color='blue')\n",
    "sns.lineplot(data=his['val_loss'], label='Validation Loss', color='green')\n",
    "test_25_loss_array = np.array(his['test_25_loss'])\n",
    "sns.lineplot(x=test_25_loss_array[:, 0], y=test_25_loss_array[:, 1], label='Test 25 Loss', color='red')\n",
    "\n",
    "\n",
    "# Adding title and legend\n",
    "plt.title('History of Depth Estimator Modeling')\n",
    "plt.legend()\n",
    "\n",
    "plt.ylim(None, 3.0)\n",
    "\n",
    "# Show the plot\n",
    "plt.show()"
   ]
  },
  {
   "cell_type": "code",
   "execution_count": 12,
   "metadata": {},
   "outputs": [
    {
     "data": {
      "text/plain": [
       "array([2.7184401 , 2.71250621, 2.69517318, 2.69128932, 2.68479499,\n",
       "       2.68183791, 2.68020348, 2.67652527, 2.67386803, 2.67172633,\n",
       "       2.67254197, 2.67330198, 2.66660186, 2.66360039])"
      ]
     },
     "execution_count": 12,
     "metadata": {},
     "output_type": "execute_result"
    }
   ],
   "source": []
  },
  {
   "cell_type": "code",
   "execution_count": null,
   "metadata": {},
   "outputs": [],
   "source": []
  },
  {
   "cell_type": "code",
   "execution_count": 12,
   "metadata": {},
   "outputs": [],
   "source": [
    "@contextmanager\n",
    "def custom_torch_load(map_location):\n",
    "    original_torch_load = torch.load\n",
    "\n",
    "    def custom_load(*args, **kwargs):\n",
    "        kwargs['map_location'] = map_location\n",
    "        return original_torch_load(*args, **kwargs)\n",
    "\n",
    "    torch.load = custom_load\n",
    "    try:\n",
    "        yield\n",
    "    finally:\n",
    "        torch.load = original_torch_load"
   ]
  },
  {
   "cell_type": "code",
   "execution_count": 13,
   "metadata": {},
   "outputs": [],
   "source": [
    "map_location = 'cuda:0'\n",
    "os.environ[\"CUDA_VISIBLE_DEVICES\"] = \"0\""
   ]
  },
  {
   "cell_type": "code",
   "execution_count": 14,
   "metadata": {},
   "outputs": [
    {
     "data": {
      "text/plain": [
       "<All keys matched successfully>"
      ]
     },
     "execution_count": 14,
     "metadata": {},
     "output_type": "execute_result"
    }
   ],
   "source": [
    "device = torch.device('cuda:0')\n",
    "model = TransformerModel(5).to(device)\n",
    "tf_checkpoint = torch.load('../checkpoints/depth/best_model_0_1e-05.pth', map_location='cuda:0')\n",
    "new_state_dict = OrderedDict()\n",
    "for k, v in tf_checkpoint.items():\n",
    "    # Remove 'module.' prefix\n",
    "    name = k[7:]  # skip 'module.' (7 characters)\n",
    "    new_state_dict[name] = v\n",
    "\n",
    "# Load the adjusted state dict into your model\n",
    "model.load_state_dict(new_state_dict)"
   ]
  },
  {
   "cell_type": "code",
   "execution_count": 22,
   "metadata": {},
   "outputs": [],
   "source": [
    "y_trues = y_test.reshape(-1,)"
   ]
  },
  {
   "cell_type": "code",
   "execution_count": 23,
   "metadata": {},
   "outputs": [],
   "source": [
    "test_loader = DataLoader(test_dataset, batch_size=512000, shuffle=False)"
   ]
  },
  {
   "cell_type": "code",
   "execution_count": 27,
   "metadata": {},
   "outputs": [
    {
     "name": "stderr",
     "output_type": "stream",
     "text": [
      "Predicting: 100%|██████████████████████████████████████████████████████████████████████████████████████████████████████████████| 7/7 [11:56<00:00, 102.29s/it]\n"
     ]
    }
   ],
   "source": [
    "model.eval()\n",
    "y_preds = np.array([])\n",
    "for _, (features, labels) in tqdm(enumerate(test_loader), total=len(test_loader), desc='Predicting'):\n",
    "    with torch.no_grad():\n",
    "        features = features.to(device).float()\n",
    "        labels = labels.to(device).float()\n",
    "        outputs = model(features)\n",
    "        y_preds = np.append(y_preds, outputs.detach().to('cpu').numpy())"
   ]
  },
  {
   "cell_type": "code",
   "execution_count": 28,
   "metadata": {},
   "outputs": [],
   "source": [
    "def calc_rmse(y_trues, y_preds, indices=[]):\n",
    "    if len(indices) > 0:\n",
    "        y_trues = y_trues[indices]\n",
    "        y_preds = y_preds[indices]\n",
    "    return np.round(np.sqrt(np.mean((y_preds[:] - y_trues[:]) ** 2)), 4)\n",
    "\n",
    "def calc_r2(y_trues, y_preds, indices=[]):\n",
    "    if len(indices) > 0:\n",
    "        y_trues = y_trues[indices]\n",
    "        y_preds = y_preds[indices]\n",
    "    return np.round(1 - (np.sum((y_preds - y_trues)**2))/(np.sum((y_trues - np.mean(y_trues))**2)), 4)"
   ]
  },
  {
   "cell_type": "code",
   "execution_count": 29,
   "metadata": {},
   "outputs": [],
   "source": [
    "test_rmse = calc_rmse(y_trues, y_preds)\n",
    "test_r2 = calc_r2(y_trues, y_preds)\n",
    "test_result_dict = {\n",
    "    'rmse': test_rmse,\n",
    "    'r2': test_r2,\n",
    "}"
   ]
  },
  {
   "cell_type": "code",
   "execution_count": 30,
   "metadata": {},
   "outputs": [],
   "source": [
    "channel_indices = np.where(scaler.inverse_transform(X_test_scaled)[:, 0] == 1)[0]\n",
    "non_channel_indices = np.where(scaler.inverse_transform(X_test_scaled)[:, 0] == 0)[0]"
   ]
  },
  {
   "cell_type": "code",
   "execution_count": 31,
   "metadata": {},
   "outputs": [],
   "source": [
    "channel_rmse = calc_rmse(y_trues, y_preds, channel_indices)\n",
    "channel_r2 = calc_r2(y_trues, y_preds, channel_indices)\n",
    "non_channel_rmse = calc_rmse(y_trues, y_preds, non_channel_indices)\n",
    "non_channel_r2 = calc_r2(y_trues, y_preds, non_channel_indices)\n",
    "test_result_dict['channel_rmse'] = channel_rmse\n",
    "test_result_dict['channel_r2'] = channel_r2\n",
    "test_result_dict['non_channel_rmse'] = non_channel_rmse\n",
    "test_result_dict['non_channel_r2'] = non_channel_r2"
   ]
  },
  {
   "cell_type": "code",
   "execution_count": 32,
   "metadata": {},
   "outputs": [
    {
     "data": {
      "text/plain": [
       "{'rmse': 2.6634,\n",
       " 'r2': 0.6537,\n",
       " 'channel_rmse': 4.1264,\n",
       " 'channel_r2': 0.7278,\n",
       " 'non_channel_rmse': 2.4133,\n",
       " 'non_channel_r2': 0.4928}"
      ]
     },
     "execution_count": 32,
     "metadata": {},
     "output_type": "execute_result"
    }
   ],
   "source": [
    "test_result_dict"
   ]
  },
  {
   "cell_type": "code",
   "execution_count": null,
   "metadata": {},
   "outputs": [],
   "source": []
  }
 ],
 "metadata": {
  "kernelspec": {
   "display_name": "se_env",
   "language": "python",
   "name": "python3"
  },
  "language_info": {
   "codemirror_mode": {
    "name": "ipython",
    "version": 3
   },
   "file_extension": ".py",
   "mimetype": "text/x-python",
   "name": "python",
   "nbconvert_exporter": "python",
   "pygments_lexer": "ipython3",
   "version": "3.8.10"
  }
 },
 "nbformat": 4,
 "nbformat_minor": 4
}
